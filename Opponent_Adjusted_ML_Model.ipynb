{
 "cells": [
  {
   "cell_type": "code",
   "execution_count": 15,
   "metadata": {
    "executionInfo": {
     "elapsed": 4,
     "status": "ok",
     "timestamp": 1745933442643,
     "user": {
      "displayName": "Austin Bervig",
      "userId": "09756579539086543276"
     },
     "user_tz": 300
    },
    "id": "h3TxFouPhGwH"
   },
   "outputs": [],
   "source": [
    "# Import packages\n",
    "import sqlite3\n",
    "import pandas as pd\n",
    "import numpy as np\n",
    "import os"
   ]
  },
  {
   "cell_type": "markdown",
   "metadata": {
    "id": "4bKGqIDmMrsB"
   },
   "source": [
    "All Parameters that can be adjusted as a part of this analysis"
   ]
  },
  {
   "cell_type": "code",
   "execution_count": 16,
   "metadata": {
    "executionInfo": {
     "elapsed": 4,
     "status": "ok",
     "timestamp": 1745933443657,
     "user": {
      "displayName": "Austin Bervig",
      "userId": "09756579539086543276"
     },
     "user_tz": 300
    },
    "id": "E9ZofEgThSyS"
   },
   "outputs": [],
   "source": [
    "# Config\n",
    "DB_PATH = \"cfb_data.db\"\n",
    "PRE_GAME_ELO_CSV_PATH = 'games_with_pregame_elo.csv'\n",
    "#Define RP metrics to load and use\n",
    "RP_METRICS_TO_USE =['usage','percentPPA']\n",
    "# Define dfault value for missing RP data (e.g., average)\n",
    "DEFAULT_RP_VALUE = 0.5\n",
    "# Define how many weeks RP features should be active\n",
    "RP_ACTIVE_WEEKS = 4\n",
    "#Betting Parameters\n",
    "BET_THRESHOLD = 0.5\n",
    "WIN_PAYOUT = 0.909\n",
    "LOSS_AMOUNT = 1"
   ]
  },
  {
   "cell_type": "code",
   "execution_count": 17,
   "metadata": {
    "colab": {
     "base_uri": "https://localhost:8080/"
    },
    "executionInfo": {
     "elapsed": 432,
     "status": "ok",
     "timestamp": 1745933445570,
     "user": {
      "displayName": "Austin Bervig",
      "userId": "09756579539086543276"
     },
     "user_tz": 300
    },
    "id": "6mlWw4mz3sjj",
    "outputId": "ecf9b2da-61c0-463b-c7fa-adff46c6fc78"
   },
   "outputs": [
    {
     "name": "stdout",
     "output_type": "stream",
     "text": [
      "Drive already mounted at /content/drive; to attempt to forcibly remount, call drive.mount(\"/content/drive\", force_remount=True).\n",
      "Current working directory: /content/drive/MyDrive/Betting/BettingModels\n"
     ]
    }
   ],
   "source": [
    "from google.colab import drive\n",
    "drive.mount('/content/drive')\n",
    "# Define the path to your desired directory in Google Drive\n",
    "drive_path = '/content/drive/MyDrive/Betting/BettingModels'\n",
    "\n",
    "# Change the current working directory to the desired location\n",
    "os.chdir(drive_path)\n",
    "\n",
    "# Verify the current working directory (optional)\n",
    "print(f\"Current working directory: {os.getcwd()}\")\n",
    "from opponent_adjustments import get_opponent_adjustments"
   ]
  },
  {
   "cell_type": "markdown",
   "metadata": {
    "id": "PNFWwNy5u4-u"
   },
   "source": [
    "# Phase 1: Data Foundation and Feature Engineering"
   ]
  },
  {
   "cell_type": "markdown",
   "metadata": {
    "id": "Q2J219L3qY9b"
   },
   "source": [
    "## Step 1: Data Consolidation"
   ]
  },
  {
   "cell_type": "code",
   "execution_count": 18,
   "metadata": {
    "colab": {
     "base_uri": "https://localhost:8080/"
    },
    "executionInfo": {
     "elapsed": 491,
     "status": "ok",
     "timestamp": 1745933447576,
     "user": {
      "displayName": "Austin Bervig",
      "userId": "09756579539086543276"
     },
     "user_tz": 300
    },
    "id": "IJbBmOgNhnwo",
    "outputId": "d3ea802a-07e3-47f2-b768-291aed76e0c3"
   },
   "outputs": [
    {
     "name": "stdout",
     "output_type": "stream",
     "text": [
      "Connecting to database: cfb_data.db\n",
      "Loading ALL games data (including advanced stats)...\n",
      "Loaded 9816 completed games with 142 columns.\n"
     ]
    }
   ],
   "source": [
    "print(f\"Connecting to database: {DB_PATH}\")\n",
    "conn = sqlite3.connect(DB_PATH)\n",
    "\n",
    "# Load games_full data - Select ALL potentially relevant columns\n",
    "# Explicitly listing columns is generally better than SELECT *\n",
    "# Make sure this list matches the columns in your 'games_full' table\n",
    "# (Derived from your initial dataset_head.csv)\n",
    "all_feature_columns = [\n",
    "    'id', 'season', 'week', 'season_type', 'completed', 'neutral_site',\n",
    "    'conference_game', 'attendance', 'home_team', 'home_conference',\n",
    "    'home_division', 'home_points', 'home_post_win_prob', 'home_pregame_elo', # Note: We use our CALC'd elo later\n",
    "    'home_postgame_elo', 'away_team', 'away_conference', 'away_division',\n",
    "    'away_points', 'away_post_win_prob', 'away_pregame_elo', # Note: We use our CALC'd elo later\n",
    "    'away_postgame_elo', 'avg_closing_spread', 'avg_closing_total',\n",
    "    'avg_opening_spread', 'avg_opening_total',\n",
    "    # Home Offense Stats\n",
    "    'home_offense_plays', 'home_offense_drives', 'home_offense_ppa',\n",
    "    'home_offense_totalPPA', 'home_offense_successRate', 'home_offense_explosiveness',\n",
    "    'home_offense_powerSuccess', 'home_offense_stuffRate', 'home_offense_lineYards',\n",
    "    'home_offense_lineYardsTotal', 'home_offense_secondLevelYards',\n",
    "    'home_offense_secondLevelYardsTotal', 'home_offense_openFieldYards',\n",
    "    'home_offense_openFieldYardsTotal', 'home_offense_standardDowns_ppa',\n",
    "    'home_offense_standardDowns_successRate', 'home_offense_standardDowns_explosiveness',\n",
    "    'home_offense_passingDowns_ppa', 'home_offense_passingDowns_successRate',\n",
    "    'home_offense_passingDowns_explosiveness', 'home_offense_rushingPlays_ppa',\n",
    "    'home_offense_rushingPlays_totalPPA', 'home_offense_rushingPlays_successRate',\n",
    "    'home_offense_rushingPlays_explosiveness', 'home_offense_passingPlays_ppa',\n",
    "    'home_offense_passingPlays_totalPPA', 'home_offense_passingPlays_successRate',\n",
    "    'home_offense_passingPlays_explosiveness',\n",
    "    # Home Defense Stats\n",
    "    'home_defense_plays', 'home_defense_drives', 'home_defense_ppa',\n",
    "    'home_defense_totalPPA', 'home_defense_successRate', 'home_defense_explosiveness',\n",
    "    'home_defense_powerSuccess', 'home_defense_stuffRate', 'home_defense_lineYards',\n",
    "    'home_defense_lineYardsTotal', 'home_defense_secondLevelYards',\n",
    "    'home_defense_secondLevelYardsTotal', 'home_defense_openFieldYards',\n",
    "    'home_defense_openFieldYardsTotal', 'home_defense_standardDowns_ppa',\n",
    "    'home_defense_standardDowns_successRate', 'home_defense_standardDowns_explosiveness',\n",
    "    'home_defense_passingDowns_ppa', 'home_defense_passingDowns_successRate',\n",
    "    'home_defense_passingDowns_explosiveness', 'home_defense_rushingPlays_ppa',\n",
    "    'home_defense_rushingPlays_totalPPA', 'home_defense_rushingPlays_successRate',\n",
    "    'home_defense_rushingPlays_explosiveness', 'home_defense_passingPlays_ppa',\n",
    "    'home_defense_passingPlays_totalPPA', 'home_defense_passingPlays_successRate',\n",
    "    'home_defense_passingPlays_explosiveness',\n",
    "    # Away Offense Stats (matches home offense structure)\n",
    "    'away_offense_plays', 'away_offense_drives', 'away_offense_ppa',\n",
    "    'away_offense_totalPPA', 'away_offense_successRate', 'away_offense_explosiveness',\n",
    "    'away_offense_powerSuccess', 'away_offense_stuffRate', 'away_offense_lineYards',\n",
    "    'away_offense_lineYardsTotal', 'away_offense_secondLevelYards',\n",
    "    'away_offense_secondLevelYardsTotal', 'away_offense_openFieldYards',\n",
    "    'away_offense_openFieldYardsTotal', 'away_offense_standardDowns_ppa',\n",
    "    'away_offense_standardDowns_successRate', 'away_offense_standardDowns_explosiveness',\n",
    "    'away_offense_passingDowns_ppa', 'away_offense_passingDowns_successRate',\n",
    "    'away_offense_passingDowns_explosiveness', 'away_offense_rushingPlays_ppa',\n",
    "    'away_offense_rushingPlays_totalPPA', 'away_offense_rushingPlays_successRate',\n",
    "    'away_offense_rushingPlays_explosiveness', 'away_offense_passingPlays_ppa',\n",
    "    'away_offense_passingPlays_totalPPA', 'away_offense_passingPlays_successRate',\n",
    "    'away_offense_passingPlays_explosiveness',\n",
    "    # Away Defense Stats (matches home defense structure)\n",
    "    'away_defense_plays', 'away_defense_drives', 'away_defense_ppa',\n",
    "    'away_defense_totalPPA', 'away_defense_successRate', 'away_defense_explosiveness',\n",
    "    'away_defense_powerSuccess', 'away_defense_stuffRate', 'away_defense_lineYards',\n",
    "    'away_defense_lineYardsTotal', 'away_defense_secondLevelYards',\n",
    "    'away_defense_secondLevelYardsTotal', 'away_defense_openFieldYards',\n",
    "    'away_defense_openFieldYardsTotal', 'away_defense_standardDowns_ppa',\n",
    "    'away_defense_standardDowns_successRate', 'away_defense_standardDowns_explosiveness',\n",
    "    'away_defense_passingDowns_ppa', 'away_defense_passingDowns_successRate',\n",
    "    'away_defense_passingDowns_explosiveness', 'away_defense_rushingPlays_ppa',\n",
    "    'away_defense_rushingPlays_totalPPA', 'away_defense_rushingPlays_successRate',\n",
    "    'away_defense_rushingPlays_explosiveness', 'away_defense_passingPlays_ppa',\n",
    "    'away_defense_passingPlays_totalPPA', 'away_defense_passingPlays_successRate',\n",
    "    'away_defense_passingPlays_explosiveness',\n",
    "    # Other stats\n",
    "    'home_turnovers', 'home_possessionTime', 'away_turnovers', 'away_possessionTime'\n",
    "]\n",
    "\n",
    "# Construct the SQL query string dynamically\n",
    "select_clause = \",\\n    \".join([f\"g.{col}\" for col in all_feature_columns])\n",
    "games_query = f\"\"\"\n",
    "SELECT\n",
    "    {select_clause}\n",
    "FROM\n",
    "    games_full g\n",
    "WHERE\n",
    "    g.completed = 1 -- Only use completed games\n",
    "ORDER BY\n",
    "    g.season, g.week, g.id;\n",
    "\"\"\"\n",
    "# print(games_query) # Optional: Print the generated query to verify\n",
    "\n",
    "print(\"Loading ALL games data (including advanced stats)...\")\n",
    "games_df = pd.read_sql_query(games_query, conn)\n",
    "print(f\"Loaded {len(games_df)} completed games with {len(games_df.columns)} columns.\")\n",
    "\n"
   ]
  },
  {
   "cell_type": "markdown",
   "metadata": {
    "id": "qWG7LdFg048Z"
   },
   "source": [
    "### Returning Production Data"
   ]
  },
  {
   "cell_type": "code",
   "execution_count": 19,
   "metadata": {
    "colab": {
     "base_uri": "https://localhost:8080/"
    },
    "executionInfo": {
     "elapsed": 7,
     "status": "ok",
     "timestamp": 1745933450774,
     "user": {
      "displayName": "Austin Bervig",
      "userId": "09756579539086543276"
     },
     "user_tz": 300
    },
    "id": "eNcXbUUz038J",
    "outputId": "9cf0e222-41fd-4b30-abb8-b61450dc6683"
   },
   "outputs": [
    {
     "name": "stdout",
     "output_type": "stream",
     "text": [
      "Loading returning production data (['usage', 'percentPPA'])...\n",
      "Loaded 1420 returning production records.\n",
      "Database connection closed.\n"
     ]
    }
   ],
   "source": [
    "# --- Load Returning Production Data ---\n",
    "rp_cols_select = ['season', 'team'] + RP_METRICS_TO_USE\n",
    "rp_cols_str = \", \".join(rp_cols_select)\n",
    "rp_query = f\"SELECT {rp_cols_str} FROM returning_production;\"\n",
    "print(f\"Loading returning production data ({RP_METRICS_TO_USE})...\")\n",
    "rp_df = pd.read_sql_query(rp_query, conn)\n",
    "print(f\"Loaded {len(rp_df)} returning production records.\")\n",
    "\n",
    "\n",
    "conn.close()\n",
    "print(\"Database connection closed.\")"
   ]
  },
  {
   "cell_type": "markdown",
   "metadata": {
    "id": "Ce6-yhdwvNi0"
   },
   "source": [
    "### Pre-processing Games Data"
   ]
  },
  {
   "cell_type": "code",
   "execution_count": 20,
   "metadata": {
    "colab": {
     "base_uri": "https://localhost:8080/"
    },
    "executionInfo": {
     "elapsed": 64,
     "status": "ok",
     "timestamp": 1745933452574,
     "user": {
      "displayName": "Austin Bervig",
      "userId": "09756579539086543276"
     },
     "user_tz": 300
    },
    "id": "KrTzaFYmvG9W",
    "outputId": "cc5c050b-d453-4282-9d96-cff893c10e5c"
   },
   "outputs": [
    {
     "name": "stdout",
     "output_type": "stream",
     "text": [
      "Converting relevant columns to numeric...\n",
      "Missing value check (post-numeric conversion):\n",
      "  Column 'avg_closing_spread' missing: 0.95%\n",
      "  Column 'home_points' missing: 0.00%\n",
      "  Column 'away_points' missing: 0.00%\n"
     ]
    }
   ],
   "source": [
    "# Convert boolean-like columns to integers (0 or 1) for models\n",
    "games_df['neutral_site'] = games_df['neutral_site'].astype(int)\n",
    "games_df['conference_game'] = games_df['conference_game'].astype(int)\n",
    "\n",
    "# Convert spread/total/score columns to numeric, coercing errors to NaN\n",
    "numeric_cols = ['avg_closing_spread', 'avg_closing_total', 'avg_opening_spread',\n",
    "                'avg_opening_total', 'home_points', 'away_points',\n",
    "                'attendance', 'home_possessionTime', 'away_possessionTime',\n",
    "                # Add Elo/win prob if needed, though we'll use our own Elo primarily\n",
    "                'home_post_win_prob', 'home_pregame_elo', 'home_postgame_elo',\n",
    "                'away_post_win_prob', 'away_pregame_elo', 'away_postgame_elo']\n",
    "\n",
    "# Convert all advanced stat columns to numeric\n",
    "# Identify the first advanced stat column to loop from there\n",
    "first_adv_stat_col = 'home_offense_plays'\n",
    "first_adv_stat_idx = games_df.columns.get_loc(first_adv_stat_col)\n",
    "adv_stat_cols = games_df.columns[first_adv_stat_idx:]\n",
    "\n",
    "numeric_cols.extend(adv_stat_cols)\n",
    "\n",
    "print(\"Converting relevant columns to numeric...\")\n",
    "for col in numeric_cols:\n",
    "    if col in games_df.columns: # Check if column exists (robustness)\n",
    "        games_df[col] = pd.to_numeric(games_df[col], errors='coerce')\n",
    "\n",
    "# Report missing values for key targets/inputs after conversion\n",
    "check_missing_cols = ['avg_closing_spread', 'home_points', 'away_points']\n",
    "print(\"Missing value check (post-numeric conversion):\")\n",
    "for col in check_missing_cols:\n",
    "     if col in games_df.columns:\n",
    "        missing_pct = games_df[col].isnull().mean() * 100\n",
    "        print(f\"  Column '{col}' missing: {missing_pct:.2f}%\")\n",
    "\n",
    "# Drop rows where essential score data might be missing after conversion\n",
    "games_df.dropna(subset=['home_points', 'away_points'], inplace=True)"
   ]
  },
  {
   "cell_type": "markdown",
   "metadata": {
    "id": "IxasQhDp1Hka"
   },
   "source": [
    "### Pre-Processing Returning Production Data\n",
    "\n"
   ]
  },
  {
   "cell_type": "code",
   "execution_count": 21,
   "metadata": {
    "colab": {
     "base_uri": "https://localhost:8080/"
    },
    "executionInfo": {
     "elapsed": 8,
     "status": "ok",
     "timestamp": 1745933454541,
     "user": {
      "displayName": "Austin Bervig",
      "userId": "09756579539086543276"
     },
     "user_tz": 300
    },
    "id": "sdQIYYJZ1Lze",
    "outputId": "d798e13b-6ec0-47ad-e5c3-3b2739d6f994"
   },
   "outputs": [
    {
     "name": "stdout",
     "output_type": "stream",
     "text": [
      "Preprocessing returning production data...\n",
      "Filling NaNs in RP data with default: 0.5\n"
     ]
    }
   ],
   "source": [
    "print(\"Preprocessing returning production data...\")\n",
    "# Convert RP metrics to numeric\n",
    "for col in RP_METRICS_TO_USE:\n",
    "    rp_df[col] = pd.to_numeric(rp_df[col], errors='coerce')\n",
    "# Fill missing RP values *before* merging\n",
    "print(f\"Filling NaNs in RP data with default: {DEFAULT_RP_VALUE}\")\n",
    "rp_df.fillna({col: DEFAULT_RP_VALUE for col in RP_METRICS_TO_USE}, inplace=True)\n",
    "# Prepare for merge - RP data for season S applies to season S games\n",
    "rp_df.rename(columns={'season': 'rp_season'}, inplace=True) # Avoid collision with game season"
   ]
  },
  {
   "cell_type": "markdown",
   "metadata": {
    "id": "nidE1t0JvQq0"
   },
   "source": [
    "### Load Pre-Calculated Elo Ratings"
   ]
  },
  {
   "cell_type": "code",
   "execution_count": 22,
   "metadata": {
    "colab": {
     "base_uri": "https://localhost:8080/"
    },
    "executionInfo": {
     "elapsed": 16,
     "status": "ok",
     "timestamp": 1745933456096,
     "user": {
      "displayName": "Austin Bervig",
      "userId": "09756579539086543276"
     },
     "user_tz": 300
    },
    "id": "i6aak3QZvME7",
    "outputId": "842428eb-87fd-4702-95e3-2fa613a89fc4"
   },
   "outputs": [
    {
     "name": "stdout",
     "output_type": "stream",
     "text": [
      "Loading pre-game Elo ratings from: games_with_pregame_elo.csv\n",
      "Loaded Elo ratings for 9816 games.\n"
     ]
    }
   ],
   "source": [
    "print(f\"Loading pre-game Elo ratings from: {PRE_GAME_ELO_CSV_PATH}\")\n",
    "pre_game_elo_df = pd.read_csv(PRE_GAME_ELO_CSV_PATH)\n",
    "pre_game_elo_df = pre_game_elo_df[['game_id', 'home_pregame_elo', 'away_pregame_elo']]\n",
    "print(f\"Loaded Elo ratings for {len(pre_game_elo_df)} games.\")\n",
    "\n",
    "# Rename columns to avoid conflict with original Elo cols and clarify source\n",
    "pre_game_elo_df.rename(columns={\n",
    "    'home_pregame_elo': 'home_pregame_elo_calc',\n",
    "    'away_pregame_elo': 'away_pregame_elo_calc'\n",
    "}, inplace=True)"
   ]
  },
  {
   "cell_type": "markdown",
   "metadata": {
    "id": "7Z8UzHBMvhbN"
   },
   "source": [
    "### Merge Games and Elo Data"
   ]
  },
  {
   "cell_type": "code",
   "execution_count": 23,
   "metadata": {
    "colab": {
     "base_uri": "https://localhost:8080/"
    },
    "executionInfo": {
     "elapsed": 12,
     "status": "ok",
     "timestamp": 1745933457156,
     "user": {
      "displayName": "Austin Bervig",
      "userId": "09756579539086543276"
     },
     "user_tz": 300
    },
    "id": "77nLpzqxviz9",
    "outputId": "c4013c35-dd6b-4d70-8cee-6dcdc81d5b7c"
   },
   "outputs": [
    {
     "name": "stdout",
     "output_type": "stream",
     "text": [
      "Merging games data with pre-game Elo ratings...\n"
     ]
    }
   ],
   "source": [
    "print(\"Merging games data with pre-game Elo ratings...\")\n",
    "master_df = pd.merge(\n",
    "    games_df,\n",
    "    pre_game_elo_df,\n",
    "    left_on='id',\n",
    "    right_on='game_id',\n",
    "    how='left'\n",
    ")\n",
    "\n",
    "# Check for games potentially missed by the merge\n",
    "missing_elo_count = master_df['home_pregame_elo_calc'].isnull().sum()\n",
    "if missing_elo_count > 0:\n",
    "    print(f\"Warning: {missing_elo_count} games are missing calculated pre-game Elo ratings after merge.\")\n",
    "    # Depending on strategy, might drop these rows later if calc'd Elo is crucial\n",
    "    # master_df.dropna(subset=['home_pregame_elo_calc', 'away_pregame_elo_calc'], inplace=True)\n",
    "\n",
    "master_df.drop(columns=['game_id'], inplace=True)"
   ]
  },
  {
   "cell_type": "markdown",
   "metadata": {
    "id": "R757j2h22ETP"
   },
   "source": [
    "### Merge Returning Production Data"
   ]
  },
  {
   "cell_type": "code",
   "execution_count": 24,
   "metadata": {
    "colab": {
     "base_uri": "https://localhost:8080/"
    },
    "executionInfo": {
     "elapsed": 38,
     "status": "ok",
     "timestamp": 1745933458808,
     "user": {
      "displayName": "Austin Bervig",
      "userId": "09756579539086543276"
     },
     "user_tz": 300
    },
    "id": "83sBpnmB2Gjz",
    "outputId": "f5ec1a56-1740-4970-f0b4-b1d74604e6d0"
   },
   "outputs": [
    {
     "name": "stdout",
     "output_type": "stream",
     "text": [
      "Merging returning production data...\n",
      "Filling NaNs in merged RP column 'home_rp_usage' with 0.5\n",
      "Filling NaNs in merged RP column 'home_rp_percentPPA' with 0.5\n",
      "Filling NaNs in merged RP column 'away_rp_usage' with 0.5\n",
      "Filling NaNs in merged RP column 'away_rp_percentPPA' with 0.5\n"
     ]
    },
    {
     "name": "stderr",
     "output_type": "stream",
     "text": [
      "<ipython-input-24-8b23a078025e>:37: FutureWarning: A value is trying to be set on a copy of a DataFrame or Series through chained assignment using an inplace method.\n",
      "The behavior will change in pandas 3.0. This inplace method will never work because the intermediate object on which we are setting values always behaves as a copy.\n",
      "\n",
      "For example, when doing 'df[col].method(value, inplace=True)', try using 'df.method({col: value}, inplace=True)' or df[col] = df[col].method(value) instead, to perform the operation inplace on the original object.\n",
      "\n",
      "\n",
      "  master_df[col].fillna(DEFAULT_RP_VALUE, inplace=True)\n"
     ]
    }
   ],
   "source": [
    "print(\"Merging returning production data...\")\n",
    "# Merge for Home Team\n",
    "master_df = pd.merge(\n",
    "    master_df,\n",
    "    rp_df,\n",
    "    left_on=['season', 'home_team'],\n",
    "    right_on=['rp_season', 'team'],\n",
    "    how='left',\n",
    "    suffixes=('', '_rp_home_temp')\n",
    ")\n",
    "# Rename home RP columns and drop temporary merge keys\n",
    "home_rp_rename = {col: f'home_rp_{col}' for col in RP_METRICS_TO_USE}\n",
    "master_df.rename(columns=home_rp_rename, inplace=True)\n",
    "master_df.drop(columns=['rp_season', 'team'], inplace=True, errors='ignore')\n",
    "\n",
    "# Merge for Away Team\n",
    "master_df = pd.merge(\n",
    "    master_df,\n",
    "    rp_df,\n",
    "    left_on=['season', 'away_team'],\n",
    "    right_on=['rp_season', 'team'],\n",
    "    how='left',\n",
    "    suffixes=('', '_rp_away_temp')\n",
    ")\n",
    "# Rename away RP columns and drop temporary merge keys\n",
    "away_rp_rename = {col: f'away_rp_{col}' for col in RP_METRICS_TO_USE}\n",
    "master_df.rename(columns=away_rp_rename, inplace=True)\n",
    "master_df.drop(columns=['rp_season', 'team'], inplace=True, errors='ignore')\n",
    "\n",
    "# Fill NaNs for teams potentially missing in RP data *after* merge (use default)\n",
    "home_rp_cols = list(home_rp_rename.values())\n",
    "away_rp_cols = list(away_rp_rename.values())\n",
    "rp_cols_merged = home_rp_cols + away_rp_cols\n",
    "for col in rp_cols_merged:\n",
    "    if master_df[col].isnull().any():\n",
    "        print(f\"Filling NaNs in merged RP column '{col}' with {DEFAULT_RP_VALUE}\")\n",
    "        master_df[col].fillna(DEFAULT_RP_VALUE, inplace=True)"
   ]
  },
  {
   "cell_type": "markdown",
   "metadata": {
    "id": "UDnM4vDPEto7"
   },
   "source": [
    "### Add Opponent Adjustments and Merge"
   ]
  },
  {
   "cell_type": "code",
   "execution_count": 25,
   "metadata": {
    "colab": {
     "base_uri": "https://localhost:8080/"
    },
    "executionInfo": {
     "elapsed": 21918,
     "status": "ok",
     "timestamp": 1745933482928,
     "user": {
      "displayName": "Austin Bervig",
      "userId": "09756579539086543276"
     },
     "user_tz": 300
    },
    "id": "5VXETUvwmpc3",
    "outputId": "c2370fc3-0aac-4216-e815-c06e3d605c42"
   },
   "outputs": [
    {
     "name": "stdout",
     "output_type": "stream",
     "text": [
      "\n",
      "Creating hybrid league average columns...\n",
      "\n",
      "Calculating lagged expanding team averages...\n"
     ]
    },
    {
     "name": "stderr",
     "output_type": "stream",
     "text": [
      "/content/drive/MyDrive/Betting/BettingModels/opponent_adjustments.py:146: FutureWarning: A value is trying to be set on a copy of a DataFrame or Series through chained assignment using an inplace method.\n",
      "The behavior will change in pandas 3.0. This inplace method will never work because the intermediate object on which we are setting values always behaves as a copy.\n",
      "\n",
      "For example, when doing 'df[col].method(value, inplace=True)', try using 'df.method({col: value}, inplace=True)' or df[col] = df[col].method(value) instead, to perform the operation inplace on the original object.\n",
      "\n",
      "\n",
      "  df[prev_season_col].fillna(0, inplace=True)\n",
      "/content/drive/MyDrive/Betting/BettingModels/opponent_adjustments.py:162: FutureWarning: A value is trying to be set on a copy of a DataFrame or Series through chained assignment using an inplace method.\n",
      "The behavior will change in pandas 3.0. This inplace method will never work because the intermediate object on which we are setting values always behaves as a copy.\n",
      "\n",
      "For example, when doing 'df[col].method(value, inplace=True)', try using 'df.method({col: value}, inplace=True)' or df[col] = df[col].method(value) instead, to perform the operation inplace on the original object.\n",
      "\n",
      "\n",
      "  df[rolling_avg_col].fillna(0, inplace=True) # Fill any remaining NaNs\n",
      "/content/drive/MyDrive/Betting/BettingModels/opponent_adjustments.py:146: FutureWarning: A value is trying to be set on a copy of a DataFrame or Series through chained assignment using an inplace method.\n",
      "The behavior will change in pandas 3.0. This inplace method will never work because the intermediate object on which we are setting values always behaves as a copy.\n",
      "\n",
      "For example, when doing 'df[col].method(value, inplace=True)', try using 'df.method({col: value}, inplace=True)' or df[col] = df[col].method(value) instead, to perform the operation inplace on the original object.\n",
      "\n",
      "\n",
      "  df[prev_season_col].fillna(0, inplace=True)\n",
      "/content/drive/MyDrive/Betting/BettingModels/opponent_adjustments.py:162: FutureWarning: A value is trying to be set on a copy of a DataFrame or Series through chained assignment using an inplace method.\n",
      "The behavior will change in pandas 3.0. This inplace method will never work because the intermediate object on which we are setting values always behaves as a copy.\n",
      "\n",
      "For example, when doing 'df[col].method(value, inplace=True)', try using 'df.method({col: value}, inplace=True)' or df[col] = df[col].method(value) instead, to perform the operation inplace on the original object.\n",
      "\n",
      "\n",
      "  df[rolling_avg_col].fillna(0, inplace=True) # Fill any remaining NaNs\n",
      "/content/drive/MyDrive/Betting/BettingModels/opponent_adjustments.py:146: FutureWarning: A value is trying to be set on a copy of a DataFrame or Series through chained assignment using an inplace method.\n",
      "The behavior will change in pandas 3.0. This inplace method will never work because the intermediate object on which we are setting values always behaves as a copy.\n",
      "\n",
      "For example, when doing 'df[col].method(value, inplace=True)', try using 'df.method({col: value}, inplace=True)' or df[col] = df[col].method(value) instead, to perform the operation inplace on the original object.\n",
      "\n",
      "\n",
      "  df[prev_season_col].fillna(0, inplace=True)\n",
      "/content/drive/MyDrive/Betting/BettingModels/opponent_adjustments.py:162: FutureWarning: A value is trying to be set on a copy of a DataFrame or Series through chained assignment using an inplace method.\n",
      "The behavior will change in pandas 3.0. This inplace method will never work because the intermediate object on which we are setting values always behaves as a copy.\n",
      "\n",
      "For example, when doing 'df[col].method(value, inplace=True)', try using 'df.method({col: value}, inplace=True)' or df[col] = df[col].method(value) instead, to perform the operation inplace on the original object.\n",
      "\n",
      "\n",
      "  df[rolling_avg_col].fillna(0, inplace=True) # Fill any remaining NaNs\n",
      "/content/drive/MyDrive/Betting/BettingModels/opponent_adjustments.py:146: FutureWarning: A value is trying to be set on a copy of a DataFrame or Series through chained assignment using an inplace method.\n",
      "The behavior will change in pandas 3.0. This inplace method will never work because the intermediate object on which we are setting values always behaves as a copy.\n",
      "\n",
      "For example, when doing 'df[col].method(value, inplace=True)', try using 'df.method({col: value}, inplace=True)' or df[col] = df[col].method(value) instead, to perform the operation inplace on the original object.\n",
      "\n",
      "\n",
      "  df[prev_season_col].fillna(0, inplace=True)\n",
      "/content/drive/MyDrive/Betting/BettingModels/opponent_adjustments.py:162: FutureWarning: A value is trying to be set on a copy of a DataFrame or Series through chained assignment using an inplace method.\n",
      "The behavior will change in pandas 3.0. This inplace method will never work because the intermediate object on which we are setting values always behaves as a copy.\n",
      "\n",
      "For example, when doing 'df[col].method(value, inplace=True)', try using 'df.method({col: value}, inplace=True)' or df[col] = df[col].method(value) instead, to perform the operation inplace on the original object.\n",
      "\n",
      "\n",
      "  df[rolling_avg_col].fillna(0, inplace=True) # Fill any remaining NaNs\n",
      "/content/drive/MyDrive/Betting/BettingModels/opponent_adjustments.py:146: FutureWarning: A value is trying to be set on a copy of a DataFrame or Series through chained assignment using an inplace method.\n",
      "The behavior will change in pandas 3.0. This inplace method will never work because the intermediate object on which we are setting values always behaves as a copy.\n",
      "\n",
      "For example, when doing 'df[col].method(value, inplace=True)', try using 'df.method({col: value}, inplace=True)' or df[col] = df[col].method(value) instead, to perform the operation inplace on the original object.\n",
      "\n",
      "\n",
      "  df[prev_season_col].fillna(0, inplace=True)\n",
      "/content/drive/MyDrive/Betting/BettingModels/opponent_adjustments.py:162: FutureWarning: A value is trying to be set on a copy of a DataFrame or Series through chained assignment using an inplace method.\n",
      "The behavior will change in pandas 3.0. This inplace method will never work because the intermediate object on which we are setting values always behaves as a copy.\n",
      "\n",
      "For example, when doing 'df[col].method(value, inplace=True)', try using 'df.method({col: value}, inplace=True)' or df[col] = df[col].method(value) instead, to perform the operation inplace on the original object.\n",
      "\n",
      "\n",
      "  df[rolling_avg_col].fillna(0, inplace=True) # Fill any remaining NaNs\n",
      "/content/drive/MyDrive/Betting/BettingModels/opponent_adjustments.py:146: FutureWarning: A value is trying to be set on a copy of a DataFrame or Series through chained assignment using an inplace method.\n",
      "The behavior will change in pandas 3.0. This inplace method will never work because the intermediate object on which we are setting values always behaves as a copy.\n",
      "\n",
      "For example, when doing 'df[col].method(value, inplace=True)', try using 'df.method({col: value}, inplace=True)' or df[col] = df[col].method(value) instead, to perform the operation inplace on the original object.\n",
      "\n",
      "\n",
      "  df[prev_season_col].fillna(0, inplace=True)\n",
      "/content/drive/MyDrive/Betting/BettingModels/opponent_adjustments.py:162: FutureWarning: A value is trying to be set on a copy of a DataFrame or Series through chained assignment using an inplace method.\n",
      "The behavior will change in pandas 3.0. This inplace method will never work because the intermediate object on which we are setting values always behaves as a copy.\n",
      "\n",
      "For example, when doing 'df[col].method(value, inplace=True)', try using 'df.method({col: value}, inplace=True)' or df[col] = df[col].method(value) instead, to perform the operation inplace on the original object.\n",
      "\n",
      "\n",
      "  df[rolling_avg_col].fillna(0, inplace=True) # Fill any remaining NaNs\n",
      "/content/drive/MyDrive/Betting/BettingModels/opponent_adjustments.py:146: FutureWarning: A value is trying to be set on a copy of a DataFrame or Series through chained assignment using an inplace method.\n",
      "The behavior will change in pandas 3.0. This inplace method will never work because the intermediate object on which we are setting values always behaves as a copy.\n",
      "\n",
      "For example, when doing 'df[col].method(value, inplace=True)', try using 'df.method({col: value}, inplace=True)' or df[col] = df[col].method(value) instead, to perform the operation inplace on the original object.\n",
      "\n",
      "\n",
      "  df[prev_season_col].fillna(0, inplace=True)\n",
      "/content/drive/MyDrive/Betting/BettingModels/opponent_adjustments.py:162: FutureWarning: A value is trying to be set on a copy of a DataFrame or Series through chained assignment using an inplace method.\n",
      "The behavior will change in pandas 3.0. This inplace method will never work because the intermediate object on which we are setting values always behaves as a copy.\n",
      "\n",
      "For example, when doing 'df[col].method(value, inplace=True)', try using 'df.method({col: value}, inplace=True)' or df[col] = df[col].method(value) instead, to perform the operation inplace on the original object.\n",
      "\n",
      "\n",
      "  df[rolling_avg_col].fillna(0, inplace=True) # Fill any remaining NaNs\n",
      "/content/drive/MyDrive/Betting/BettingModels/opponent_adjustments.py:146: FutureWarning: A value is trying to be set on a copy of a DataFrame or Series through chained assignment using an inplace method.\n",
      "The behavior will change in pandas 3.0. This inplace method will never work because the intermediate object on which we are setting values always behaves as a copy.\n",
      "\n",
      "For example, when doing 'df[col].method(value, inplace=True)', try using 'df.method({col: value}, inplace=True)' or df[col] = df[col].method(value) instead, to perform the operation inplace on the original object.\n",
      "\n",
      "\n",
      "  df[prev_season_col].fillna(0, inplace=True)\n",
      "/content/drive/MyDrive/Betting/BettingModels/opponent_adjustments.py:162: FutureWarning: A value is trying to be set on a copy of a DataFrame or Series through chained assignment using an inplace method.\n",
      "The behavior will change in pandas 3.0. This inplace method will never work because the intermediate object on which we are setting values always behaves as a copy.\n",
      "\n",
      "For example, when doing 'df[col].method(value, inplace=True)', try using 'df.method({col: value}, inplace=True)' or df[col] = df[col].method(value) instead, to perform the operation inplace on the original object.\n",
      "\n",
      "\n",
      "  df[rolling_avg_col].fillna(0, inplace=True) # Fill any remaining NaNs\n",
      "/content/drive/MyDrive/Betting/BettingModels/opponent_adjustments.py:146: FutureWarning: A value is trying to be set on a copy of a DataFrame or Series through chained assignment using an inplace method.\n",
      "The behavior will change in pandas 3.0. This inplace method will never work because the intermediate object on which we are setting values always behaves as a copy.\n",
      "\n",
      "For example, when doing 'df[col].method(value, inplace=True)', try using 'df.method({col: value}, inplace=True)' or df[col] = df[col].method(value) instead, to perform the operation inplace on the original object.\n",
      "\n",
      "\n",
      "  df[prev_season_col].fillna(0, inplace=True)\n",
      "/content/drive/MyDrive/Betting/BettingModels/opponent_adjustments.py:162: FutureWarning: A value is trying to be set on a copy of a DataFrame or Series through chained assignment using an inplace method.\n",
      "The behavior will change in pandas 3.0. This inplace method will never work because the intermediate object on which we are setting values always behaves as a copy.\n",
      "\n",
      "For example, when doing 'df[col].method(value, inplace=True)', try using 'df.method({col: value}, inplace=True)' or df[col] = df[col].method(value) instead, to perform the operation inplace on the original object.\n",
      "\n",
      "\n",
      "  df[rolling_avg_col].fillna(0, inplace=True) # Fill any remaining NaNs\n",
      "/content/drive/MyDrive/Betting/BettingModels/opponent_adjustments.py:146: FutureWarning: A value is trying to be set on a copy of a DataFrame or Series through chained assignment using an inplace method.\n",
      "The behavior will change in pandas 3.0. This inplace method will never work because the intermediate object on which we are setting values always behaves as a copy.\n",
      "\n",
      "For example, when doing 'df[col].method(value, inplace=True)', try using 'df.method({col: value}, inplace=True)' or df[col] = df[col].method(value) instead, to perform the operation inplace on the original object.\n",
      "\n",
      "\n",
      "  df[prev_season_col].fillna(0, inplace=True)\n",
      "/content/drive/MyDrive/Betting/BettingModels/opponent_adjustments.py:162: FutureWarning: A value is trying to be set on a copy of a DataFrame or Series through chained assignment using an inplace method.\n",
      "The behavior will change in pandas 3.0. This inplace method will never work because the intermediate object on which we are setting values always behaves as a copy.\n",
      "\n",
      "For example, when doing 'df[col].method(value, inplace=True)', try using 'df.method({col: value}, inplace=True)' or df[col] = df[col].method(value) instead, to perform the operation inplace on the original object.\n",
      "\n",
      "\n",
      "  df[rolling_avg_col].fillna(0, inplace=True) # Fill any remaining NaNs\n",
      "/content/drive/MyDrive/Betting/BettingModels/opponent_adjustments.py:146: FutureWarning: A value is trying to be set on a copy of a DataFrame or Series through chained assignment using an inplace method.\n",
      "The behavior will change in pandas 3.0. This inplace method will never work because the intermediate object on which we are setting values always behaves as a copy.\n",
      "\n",
      "For example, when doing 'df[col].method(value, inplace=True)', try using 'df.method({col: value}, inplace=True)' or df[col] = df[col].method(value) instead, to perform the operation inplace on the original object.\n",
      "\n",
      "\n",
      "  df[prev_season_col].fillna(0, inplace=True)\n",
      "/content/drive/MyDrive/Betting/BettingModels/opponent_adjustments.py:162: FutureWarning: A value is trying to be set on a copy of a DataFrame or Series through chained assignment using an inplace method.\n",
      "The behavior will change in pandas 3.0. This inplace method will never work because the intermediate object on which we are setting values always behaves as a copy.\n",
      "\n",
      "For example, when doing 'df[col].method(value, inplace=True)', try using 'df.method({col: value}, inplace=True)' or df[col] = df[col].method(value) instead, to perform the operation inplace on the original object.\n",
      "\n",
      "\n",
      "  df[rolling_avg_col].fillna(0, inplace=True) # Fill any remaining NaNs\n",
      "/content/drive/MyDrive/Betting/BettingModels/opponent_adjustments.py:146: FutureWarning: A value is trying to be set on a copy of a DataFrame or Series through chained assignment using an inplace method.\n",
      "The behavior will change in pandas 3.0. This inplace method will never work because the intermediate object on which we are setting values always behaves as a copy.\n",
      "\n",
      "For example, when doing 'df[col].method(value, inplace=True)', try using 'df.method({col: value}, inplace=True)' or df[col] = df[col].method(value) instead, to perform the operation inplace on the original object.\n",
      "\n",
      "\n",
      "  df[prev_season_col].fillna(0, inplace=True)\n",
      "/content/drive/MyDrive/Betting/BettingModels/opponent_adjustments.py:162: FutureWarning: A value is trying to be set on a copy of a DataFrame or Series through chained assignment using an inplace method.\n",
      "The behavior will change in pandas 3.0. This inplace method will never work because the intermediate object on which we are setting values always behaves as a copy.\n",
      "\n",
      "For example, when doing 'df[col].method(value, inplace=True)', try using 'df.method({col: value}, inplace=True)' or df[col] = df[col].method(value) instead, to perform the operation inplace on the original object.\n",
      "\n",
      "\n",
      "  df[rolling_avg_col].fillna(0, inplace=True) # Fill any remaining NaNs\n",
      "/content/drive/MyDrive/Betting/BettingModels/opponent_adjustments.py:146: FutureWarning: A value is trying to be set on a copy of a DataFrame or Series through chained assignment using an inplace method.\n",
      "The behavior will change in pandas 3.0. This inplace method will never work because the intermediate object on which we are setting values always behaves as a copy.\n",
      "\n",
      "For example, when doing 'df[col].method(value, inplace=True)', try using 'df.method({col: value}, inplace=True)' or df[col] = df[col].method(value) instead, to perform the operation inplace on the original object.\n",
      "\n",
      "\n",
      "  df[prev_season_col].fillna(0, inplace=True)\n",
      "/content/drive/MyDrive/Betting/BettingModels/opponent_adjustments.py:162: FutureWarning: A value is trying to be set on a copy of a DataFrame or Series through chained assignment using an inplace method.\n",
      "The behavior will change in pandas 3.0. This inplace method will never work because the intermediate object on which we are setting values always behaves as a copy.\n",
      "\n",
      "For example, when doing 'df[col].method(value, inplace=True)', try using 'df.method({col: value}, inplace=True)' or df[col] = df[col].method(value) instead, to perform the operation inplace on the original object.\n",
      "\n",
      "\n",
      "  df[rolling_avg_col].fillna(0, inplace=True) # Fill any remaining NaNs\n",
      "/content/drive/MyDrive/Betting/BettingModels/opponent_adjustments.py:146: FutureWarning: A value is trying to be set on a copy of a DataFrame or Series through chained assignment using an inplace method.\n",
      "The behavior will change in pandas 3.0. This inplace method will never work because the intermediate object on which we are setting values always behaves as a copy.\n",
      "\n",
      "For example, when doing 'df[col].method(value, inplace=True)', try using 'df.method({col: value}, inplace=True)' or df[col] = df[col].method(value) instead, to perform the operation inplace on the original object.\n",
      "\n",
      "\n",
      "  df[prev_season_col].fillna(0, inplace=True)\n",
      "/content/drive/MyDrive/Betting/BettingModels/opponent_adjustments.py:162: FutureWarning: A value is trying to be set on a copy of a DataFrame or Series through chained assignment using an inplace method.\n",
      "The behavior will change in pandas 3.0. This inplace method will never work because the intermediate object on which we are setting values always behaves as a copy.\n",
      "\n",
      "For example, when doing 'df[col].method(value, inplace=True)', try using 'df.method({col: value}, inplace=True)' or df[col] = df[col].method(value) instead, to perform the operation inplace on the original object.\n",
      "\n",
      "\n",
      "  df[rolling_avg_col].fillna(0, inplace=True) # Fill any remaining NaNs\n",
      "/content/drive/MyDrive/Betting/BettingModels/opponent_adjustments.py:146: FutureWarning: A value is trying to be set on a copy of a DataFrame or Series through chained assignment using an inplace method.\n",
      "The behavior will change in pandas 3.0. This inplace method will never work because the intermediate object on which we are setting values always behaves as a copy.\n",
      "\n",
      "For example, when doing 'df[col].method(value, inplace=True)', try using 'df.method({col: value}, inplace=True)' or df[col] = df[col].method(value) instead, to perform the operation inplace on the original object.\n",
      "\n",
      "\n",
      "  df[prev_season_col].fillna(0, inplace=True)\n",
      "/content/drive/MyDrive/Betting/BettingModels/opponent_adjustments.py:162: FutureWarning: A value is trying to be set on a copy of a DataFrame or Series through chained assignment using an inplace method.\n",
      "The behavior will change in pandas 3.0. This inplace method will never work because the intermediate object on which we are setting values always behaves as a copy.\n",
      "\n",
      "For example, when doing 'df[col].method(value, inplace=True)', try using 'df.method({col: value}, inplace=True)' or df[col] = df[col].method(value) instead, to perform the operation inplace on the original object.\n",
      "\n",
      "\n",
      "  df[rolling_avg_col].fillna(0, inplace=True) # Fill any remaining NaNs\n",
      "/content/drive/MyDrive/Betting/BettingModels/opponent_adjustments.py:186: FutureWarning: A value is trying to be set on a copy of a DataFrame or Series through chained assignment using an inplace method.\n",
      "The behavior will change in pandas 3.0. This inplace method will never work because the intermediate object on which we are setting values always behaves as a copy.\n",
      "\n",
      "For example, when doing 'df[col].method(value, inplace=True)', try using 'df.method({col: value}, inplace=True)' or df[col] = df[col].method(value) instead, to perform the operation inplace on the original object.\n",
      "\n",
      "\n",
      "  df[prev_season_col].fillna(0, inplace=True)\n",
      "/content/drive/MyDrive/Betting/BettingModels/opponent_adjustments.py:197: FutureWarning: A value is trying to be set on a copy of a DataFrame or Series through chained assignment using an inplace method.\n",
      "The behavior will change in pandas 3.0. This inplace method will never work because the intermediate object on which we are setting values always behaves as a copy.\n",
      "\n",
      "For example, when doing 'df[col].method(value, inplace=True)', try using 'df.method({col: value}, inplace=True)' or df[col] = df[col].method(value) instead, to perform the operation inplace on the original object.\n",
      "\n",
      "\n",
      "  df[rolling_avg_col].fillna(0, inplace=True)\n",
      "/content/drive/MyDrive/Betting/BettingModels/opponent_adjustments.py:186: FutureWarning: A value is trying to be set on a copy of a DataFrame or Series through chained assignment using an inplace method.\n",
      "The behavior will change in pandas 3.0. This inplace method will never work because the intermediate object on which we are setting values always behaves as a copy.\n",
      "\n",
      "For example, when doing 'df[col].method(value, inplace=True)', try using 'df.method({col: value}, inplace=True)' or df[col] = df[col].method(value) instead, to perform the operation inplace on the original object.\n",
      "\n",
      "\n",
      "  df[prev_season_col].fillna(0, inplace=True)\n",
      "/content/drive/MyDrive/Betting/BettingModels/opponent_adjustments.py:197: FutureWarning: A value is trying to be set on a copy of a DataFrame or Series through chained assignment using an inplace method.\n",
      "The behavior will change in pandas 3.0. This inplace method will never work because the intermediate object on which we are setting values always behaves as a copy.\n",
      "\n",
      "For example, when doing 'df[col].method(value, inplace=True)', try using 'df.method({col: value}, inplace=True)' or df[col] = df[col].method(value) instead, to perform the operation inplace on the original object.\n",
      "\n",
      "\n",
      "  df[rolling_avg_col].fillna(0, inplace=True)\n",
      "/content/drive/MyDrive/Betting/BettingModels/opponent_adjustments.py:186: FutureWarning: A value is trying to be set on a copy of a DataFrame or Series through chained assignment using an inplace method.\n",
      "The behavior will change in pandas 3.0. This inplace method will never work because the intermediate object on which we are setting values always behaves as a copy.\n",
      "\n",
      "For example, when doing 'df[col].method(value, inplace=True)', try using 'df.method({col: value}, inplace=True)' or df[col] = df[col].method(value) instead, to perform the operation inplace on the original object.\n",
      "\n",
      "\n",
      "  df[prev_season_col].fillna(0, inplace=True)\n",
      "/content/drive/MyDrive/Betting/BettingModels/opponent_adjustments.py:197: FutureWarning: A value is trying to be set on a copy of a DataFrame or Series through chained assignment using an inplace method.\n",
      "The behavior will change in pandas 3.0. This inplace method will never work because the intermediate object on which we are setting values always behaves as a copy.\n",
      "\n",
      "For example, when doing 'df[col].method(value, inplace=True)', try using 'df.method({col: value}, inplace=True)' or df[col] = df[col].method(value) instead, to perform the operation inplace on the original object.\n",
      "\n",
      "\n",
      "  df[rolling_avg_col].fillna(0, inplace=True)\n",
      "/content/drive/MyDrive/Betting/BettingModels/opponent_adjustments.py:186: FutureWarning: A value is trying to be set on a copy of a DataFrame or Series through chained assignment using an inplace method.\n",
      "The behavior will change in pandas 3.0. This inplace method will never work because the intermediate object on which we are setting values always behaves as a copy.\n",
      "\n",
      "For example, when doing 'df[col].method(value, inplace=True)', try using 'df.method({col: value}, inplace=True)' or df[col] = df[col].method(value) instead, to perform the operation inplace on the original object.\n",
      "\n",
      "\n",
      "  df[prev_season_col].fillna(0, inplace=True)\n",
      "/content/drive/MyDrive/Betting/BettingModels/opponent_adjustments.py:197: FutureWarning: A value is trying to be set on a copy of a DataFrame or Series through chained assignment using an inplace method.\n",
      "The behavior will change in pandas 3.0. This inplace method will never work because the intermediate object on which we are setting values always behaves as a copy.\n",
      "\n",
      "For example, when doing 'df[col].method(value, inplace=True)', try using 'df.method({col: value}, inplace=True)' or df[col] = df[col].method(value) instead, to perform the operation inplace on the original object.\n",
      "\n",
      "\n",
      "  df[rolling_avg_col].fillna(0, inplace=True)\n",
      "/content/drive/MyDrive/Betting/BettingModels/opponent_adjustments.py:186: FutureWarning: A value is trying to be set on a copy of a DataFrame or Series through chained assignment using an inplace method.\n",
      "The behavior will change in pandas 3.0. This inplace method will never work because the intermediate object on which we are setting values always behaves as a copy.\n",
      "\n",
      "For example, when doing 'df[col].method(value, inplace=True)', try using 'df.method({col: value}, inplace=True)' or df[col] = df[col].method(value) instead, to perform the operation inplace on the original object.\n",
      "\n",
      "\n",
      "  df[prev_season_col].fillna(0, inplace=True)\n",
      "/content/drive/MyDrive/Betting/BettingModels/opponent_adjustments.py:197: FutureWarning: A value is trying to be set on a copy of a DataFrame or Series through chained assignment using an inplace method.\n",
      "The behavior will change in pandas 3.0. This inplace method will never work because the intermediate object on which we are setting values always behaves as a copy.\n",
      "\n",
      "For example, when doing 'df[col].method(value, inplace=True)', try using 'df.method({col: value}, inplace=True)' or df[col] = df[col].method(value) instead, to perform the operation inplace on the original object.\n",
      "\n",
      "\n",
      "  df[rolling_avg_col].fillna(0, inplace=True)\n",
      "/content/drive/MyDrive/Betting/BettingModels/opponent_adjustments.py:186: FutureWarning: A value is trying to be set on a copy of a DataFrame or Series through chained assignment using an inplace method.\n",
      "The behavior will change in pandas 3.0. This inplace method will never work because the intermediate object on which we are setting values always behaves as a copy.\n",
      "\n",
      "For example, when doing 'df[col].method(value, inplace=True)', try using 'df.method({col: value}, inplace=True)' or df[col] = df[col].method(value) instead, to perform the operation inplace on the original object.\n",
      "\n",
      "\n",
      "  df[prev_season_col].fillna(0, inplace=True)\n",
      "/content/drive/MyDrive/Betting/BettingModels/opponent_adjustments.py:197: FutureWarning: A value is trying to be set on a copy of a DataFrame or Series through chained assignment using an inplace method.\n",
      "The behavior will change in pandas 3.0. This inplace method will never work because the intermediate object on which we are setting values always behaves as a copy.\n",
      "\n",
      "For example, when doing 'df[col].method(value, inplace=True)', try using 'df.method({col: value}, inplace=True)' or df[col] = df[col].method(value) instead, to perform the operation inplace on the original object.\n",
      "\n",
      "\n",
      "  df[rolling_avg_col].fillna(0, inplace=True)\n",
      "/content/drive/MyDrive/Betting/BettingModels/opponent_adjustments.py:186: FutureWarning: A value is trying to be set on a copy of a DataFrame or Series through chained assignment using an inplace method.\n",
      "The behavior will change in pandas 3.0. This inplace method will never work because the intermediate object on which we are setting values always behaves as a copy.\n",
      "\n",
      "For example, when doing 'df[col].method(value, inplace=True)', try using 'df.method({col: value}, inplace=True)' or df[col] = df[col].method(value) instead, to perform the operation inplace on the original object.\n",
      "\n",
      "\n",
      "  df[prev_season_col].fillna(0, inplace=True)\n",
      "/content/drive/MyDrive/Betting/BettingModels/opponent_adjustments.py:197: FutureWarning: A value is trying to be set on a copy of a DataFrame or Series through chained assignment using an inplace method.\n",
      "The behavior will change in pandas 3.0. This inplace method will never work because the intermediate object on which we are setting values always behaves as a copy.\n",
      "\n",
      "For example, when doing 'df[col].method(value, inplace=True)', try using 'df.method({col: value}, inplace=True)' or df[col] = df[col].method(value) instead, to perform the operation inplace on the original object.\n",
      "\n",
      "\n",
      "  df[rolling_avg_col].fillna(0, inplace=True)\n",
      "/content/drive/MyDrive/Betting/BettingModels/opponent_adjustments.py:186: FutureWarning: A value is trying to be set on a copy of a DataFrame or Series through chained assignment using an inplace method.\n",
      "The behavior will change in pandas 3.0. This inplace method will never work because the intermediate object on which we are setting values always behaves as a copy.\n",
      "\n",
      "For example, when doing 'df[col].method(value, inplace=True)', try using 'df.method({col: value}, inplace=True)' or df[col] = df[col].method(value) instead, to perform the operation inplace on the original object.\n",
      "\n",
      "\n",
      "  df[prev_season_col].fillna(0, inplace=True)\n",
      "/content/drive/MyDrive/Betting/BettingModels/opponent_adjustments.py:197: FutureWarning: A value is trying to be set on a copy of a DataFrame or Series through chained assignment using an inplace method.\n",
      "The behavior will change in pandas 3.0. This inplace method will never work because the intermediate object on which we are setting values always behaves as a copy.\n",
      "\n",
      "For example, when doing 'df[col].method(value, inplace=True)', try using 'df.method({col: value}, inplace=True)' or df[col] = df[col].method(value) instead, to perform the operation inplace on the original object.\n",
      "\n",
      "\n",
      "  df[rolling_avg_col].fillna(0, inplace=True)\n",
      "/content/drive/MyDrive/Betting/BettingModels/opponent_adjustments.py:186: FutureWarning: A value is trying to be set on a copy of a DataFrame or Series through chained assignment using an inplace method.\n",
      "The behavior will change in pandas 3.0. This inplace method will never work because the intermediate object on which we are setting values always behaves as a copy.\n",
      "\n",
      "For example, when doing 'df[col].method(value, inplace=True)', try using 'df.method({col: value}, inplace=True)' or df[col] = df[col].method(value) instead, to perform the operation inplace on the original object.\n",
      "\n",
      "\n",
      "  df[prev_season_col].fillna(0, inplace=True)\n",
      "/content/drive/MyDrive/Betting/BettingModels/opponent_adjustments.py:197: FutureWarning: A value is trying to be set on a copy of a DataFrame or Series through chained assignment using an inplace method.\n",
      "The behavior will change in pandas 3.0. This inplace method will never work because the intermediate object on which we are setting values always behaves as a copy.\n",
      "\n",
      "For example, when doing 'df[col].method(value, inplace=True)', try using 'df.method({col: value}, inplace=True)' or df[col] = df[col].method(value) instead, to perform the operation inplace on the original object.\n",
      "\n",
      "\n",
      "  df[rolling_avg_col].fillna(0, inplace=True)\n",
      "/content/drive/MyDrive/Betting/BettingModels/opponent_adjustments.py:186: FutureWarning: A value is trying to be set on a copy of a DataFrame or Series through chained assignment using an inplace method.\n",
      "The behavior will change in pandas 3.0. This inplace method will never work because the intermediate object on which we are setting values always behaves as a copy.\n",
      "\n",
      "For example, when doing 'df[col].method(value, inplace=True)', try using 'df.method({col: value}, inplace=True)' or df[col] = df[col].method(value) instead, to perform the operation inplace on the original object.\n",
      "\n",
      "\n",
      "  df[prev_season_col].fillna(0, inplace=True)\n",
      "/content/drive/MyDrive/Betting/BettingModels/opponent_adjustments.py:197: FutureWarning: A value is trying to be set on a copy of a DataFrame or Series through chained assignment using an inplace method.\n",
      "The behavior will change in pandas 3.0. This inplace method will never work because the intermediate object on which we are setting values always behaves as a copy.\n",
      "\n",
      "For example, when doing 'df[col].method(value, inplace=True)', try using 'df.method({col: value}, inplace=True)' or df[col] = df[col].method(value) instead, to perform the operation inplace on the original object.\n",
      "\n",
      "\n",
      "  df[rolling_avg_col].fillna(0, inplace=True)\n",
      "/content/drive/MyDrive/Betting/BettingModels/opponent_adjustments.py:186: FutureWarning: A value is trying to be set on a copy of a DataFrame or Series through chained assignment using an inplace method.\n",
      "The behavior will change in pandas 3.0. This inplace method will never work because the intermediate object on which we are setting values always behaves as a copy.\n",
      "\n",
      "For example, when doing 'df[col].method(value, inplace=True)', try using 'df.method({col: value}, inplace=True)' or df[col] = df[col].method(value) instead, to perform the operation inplace on the original object.\n",
      "\n",
      "\n",
      "  df[prev_season_col].fillna(0, inplace=True)\n",
      "/content/drive/MyDrive/Betting/BettingModels/opponent_adjustments.py:197: FutureWarning: A value is trying to be set on a copy of a DataFrame or Series through chained assignment using an inplace method.\n",
      "The behavior will change in pandas 3.0. This inplace method will never work because the intermediate object on which we are setting values always behaves as a copy.\n",
      "\n",
      "For example, when doing 'df[col].method(value, inplace=True)', try using 'df.method({col: value}, inplace=True)' or df[col] = df[col].method(value) instead, to perform the operation inplace on the original object.\n",
      "\n",
      "\n",
      "  df[rolling_avg_col].fillna(0, inplace=True)\n",
      "/content/drive/MyDrive/Betting/BettingModels/opponent_adjustments.py:186: FutureWarning: A value is trying to be set on a copy of a DataFrame or Series through chained assignment using an inplace method.\n",
      "The behavior will change in pandas 3.0. This inplace method will never work because the intermediate object on which we are setting values always behaves as a copy.\n",
      "\n",
      "For example, when doing 'df[col].method(value, inplace=True)', try using 'df.method({col: value}, inplace=True)' or df[col] = df[col].method(value) instead, to perform the operation inplace on the original object.\n",
      "\n",
      "\n",
      "  df[prev_season_col].fillna(0, inplace=True)\n",
      "/content/drive/MyDrive/Betting/BettingModels/opponent_adjustments.py:197: FutureWarning: A value is trying to be set on a copy of a DataFrame or Series through chained assignment using an inplace method.\n",
      "The behavior will change in pandas 3.0. This inplace method will never work because the intermediate object on which we are setting values always behaves as a copy.\n",
      "\n",
      "For example, when doing 'df[col].method(value, inplace=True)', try using 'df.method({col: value}, inplace=True)' or df[col] = df[col].method(value) instead, to perform the operation inplace on the original object.\n",
      "\n",
      "\n",
      "  df[rolling_avg_col].fillna(0, inplace=True)\n",
      "/content/drive/MyDrive/Betting/BettingModels/opponent_adjustments.py:186: FutureWarning: A value is trying to be set on a copy of a DataFrame or Series through chained assignment using an inplace method.\n",
      "The behavior will change in pandas 3.0. This inplace method will never work because the intermediate object on which we are setting values always behaves as a copy.\n",
      "\n",
      "For example, when doing 'df[col].method(value, inplace=True)', try using 'df.method({col: value}, inplace=True)' or df[col] = df[col].method(value) instead, to perform the operation inplace on the original object.\n",
      "\n",
      "\n",
      "  df[prev_season_col].fillna(0, inplace=True)\n",
      "/content/drive/MyDrive/Betting/BettingModels/opponent_adjustments.py:197: FutureWarning: A value is trying to be set on a copy of a DataFrame or Series through chained assignment using an inplace method.\n",
      "The behavior will change in pandas 3.0. This inplace method will never work because the intermediate object on which we are setting values always behaves as a copy.\n",
      "\n",
      "For example, when doing 'df[col].method(value, inplace=True)', try using 'df.method({col: value}, inplace=True)' or df[col] = df[col].method(value) instead, to perform the operation inplace on the original object.\n",
      "\n",
      "\n",
      "  df[rolling_avg_col].fillna(0, inplace=True)\n",
      "/content/drive/MyDrive/Betting/BettingModels/opponent_adjustments.py:186: FutureWarning: A value is trying to be set on a copy of a DataFrame or Series through chained assignment using an inplace method.\n",
      "The behavior will change in pandas 3.0. This inplace method will never work because the intermediate object on which we are setting values always behaves as a copy.\n",
      "\n",
      "For example, when doing 'df[col].method(value, inplace=True)', try using 'df.method({col: value}, inplace=True)' or df[col] = df[col].method(value) instead, to perform the operation inplace on the original object.\n",
      "\n",
      "\n",
      "  df[prev_season_col].fillna(0, inplace=True)\n",
      "/content/drive/MyDrive/Betting/BettingModels/opponent_adjustments.py:197: FutureWarning: A value is trying to be set on a copy of a DataFrame or Series through chained assignment using an inplace method.\n",
      "The behavior will change in pandas 3.0. This inplace method will never work because the intermediate object on which we are setting values always behaves as a copy.\n",
      "\n",
      "For example, when doing 'df[col].method(value, inplace=True)', try using 'df.method({col: value}, inplace=True)' or df[col] = df[col].method(value) instead, to perform the operation inplace on the original object.\n",
      "\n",
      "\n",
      "  df[rolling_avg_col].fillna(0, inplace=True)\n",
      "/content/drive/MyDrive/Betting/BettingModels/opponent_adjustments.py:186: FutureWarning: A value is trying to be set on a copy of a DataFrame or Series through chained assignment using an inplace method.\n",
      "The behavior will change in pandas 3.0. This inplace method will never work because the intermediate object on which we are setting values always behaves as a copy.\n",
      "\n",
      "For example, when doing 'df[col].method(value, inplace=True)', try using 'df.method({col: value}, inplace=True)' or df[col] = df[col].method(value) instead, to perform the operation inplace on the original object.\n",
      "\n",
      "\n",
      "  df[prev_season_col].fillna(0, inplace=True)\n",
      "/content/drive/MyDrive/Betting/BettingModels/opponent_adjustments.py:197: FutureWarning: A value is trying to be set on a copy of a DataFrame or Series through chained assignment using an inplace method.\n",
      "The behavior will change in pandas 3.0. This inplace method will never work because the intermediate object on which we are setting values always behaves as a copy.\n",
      "\n",
      "For example, when doing 'df[col].method(value, inplace=True)', try using 'df.method({col: value}, inplace=True)' or df[col] = df[col].method(value) instead, to perform the operation inplace on the original object.\n",
      "\n",
      "\n",
      "  df[rolling_avg_col].fillna(0, inplace=True)\n"
     ]
    },
    {
     "name": "stdout",
     "output_type": "stream",
     "text": [
      "Filling initial team NaNs with 0.\n",
      "DataFrame shape after revised merging: (9816, 298)\n",
      "\n",
      "Applying Opponent Adjustments with Hybrid League Average...\n",
      "\n",
      "Hybrid Opponent Adjustments Applied.\n",
      "Dropping potentially duplicated columns: ['id_y', 'season_type_y', 'completed_y', 'neutral_site_y', 'conference_game_y', 'attendance_y', 'home_conference_y', 'home_division_y', 'home_points_y', 'home_post_win_prob_y', 'home_pregame_elo_y', 'home_postgame_elo_y', 'away_conference_y', 'away_division_y', 'away_points_y', 'away_post_win_prob_y', 'away_pregame_elo_y', 'away_postgame_elo_y', 'avg_closing_spread_y', 'avg_closing_total_y', 'avg_opening_spread_y', 'avg_opening_total_y', 'home_offense_plays_y', 'home_offense_drives_y', 'home_offense_ppa_y', 'home_offense_totalPPA_y', 'home_offense_successRate_y', 'home_offense_explosiveness_y', 'home_offense_powerSuccess_y', 'home_offense_stuffRate_y', 'home_offense_lineYards_y', 'home_offense_lineYardsTotal_y', 'home_offense_secondLevelYards_y', 'home_offense_secondLevelYardsTotal_y', 'home_offense_openFieldYards_y', 'home_offense_openFieldYardsTotal_y', 'home_offense_standardDowns_ppa_y', 'home_offense_standardDowns_successRate_y', 'home_offense_standardDowns_explosiveness_y', 'home_offense_passingDowns_ppa_y', 'home_offense_passingDowns_successRate_y', 'home_offense_passingDowns_explosiveness_y', 'home_offense_rushingPlays_ppa_y', 'home_offense_rushingPlays_totalPPA_y', 'home_offense_rushingPlays_successRate_y', 'home_offense_rushingPlays_explosiveness_y', 'home_offense_passingPlays_ppa_y', 'home_offense_passingPlays_totalPPA_y', 'home_offense_passingPlays_successRate_y', 'home_offense_passingPlays_explosiveness_y', 'home_defense_plays_y', 'home_defense_drives_y', 'home_defense_ppa_y', 'home_defense_totalPPA_y', 'home_defense_successRate_y', 'home_defense_explosiveness_y', 'home_defense_powerSuccess_y', 'home_defense_stuffRate_y', 'home_defense_lineYards_y', 'home_defense_lineYardsTotal_y', 'home_defense_secondLevelYards_y', 'home_defense_secondLevelYardsTotal_y', 'home_defense_openFieldYards_y', 'home_defense_openFieldYardsTotal_y', 'home_defense_standardDowns_ppa_y', 'home_defense_standardDowns_successRate_y', 'home_defense_standardDowns_explosiveness_y', 'home_defense_passingDowns_ppa_y', 'home_defense_passingDowns_successRate_y', 'home_defense_passingDowns_explosiveness_y', 'home_defense_rushingPlays_ppa_y', 'home_defense_rushingPlays_totalPPA_y', 'home_defense_rushingPlays_successRate_y', 'home_defense_rushingPlays_explosiveness_y', 'home_defense_passingPlays_ppa_y', 'home_defense_passingPlays_totalPPA_y', 'home_defense_passingPlays_successRate_y', 'home_defense_passingPlays_explosiveness_y', 'away_offense_plays_y', 'away_offense_drives_y', 'away_offense_ppa_y', 'away_offense_totalPPA_y', 'away_offense_successRate_y', 'away_offense_explosiveness_y', 'away_offense_powerSuccess_y', 'away_offense_stuffRate_y', 'away_offense_lineYards_y', 'away_offense_lineYardsTotal_y', 'away_offense_secondLevelYards_y', 'away_offense_secondLevelYardsTotal_y', 'away_offense_openFieldYards_y', 'away_offense_openFieldYardsTotal_y', 'away_offense_standardDowns_ppa_y', 'away_offense_standardDowns_successRate_y', 'away_offense_standardDowns_explosiveness_y', 'away_offense_passingDowns_ppa_y', 'away_offense_passingDowns_successRate_y', 'away_offense_passingDowns_explosiveness_y', 'away_offense_rushingPlays_ppa_y', 'away_offense_rushingPlays_totalPPA_y', 'away_offense_rushingPlays_successRate_y', 'away_offense_rushingPlays_explosiveness_y', 'away_offense_passingPlays_ppa_y', 'away_offense_passingPlays_totalPPA_y', 'away_offense_passingPlays_successRate_y', 'away_offense_passingPlays_explosiveness_y', 'away_defense_plays_y', 'away_defense_drives_y', 'away_defense_ppa_y', 'away_defense_totalPPA_y', 'away_defense_successRate_y', 'away_defense_explosiveness_y', 'away_defense_powerSuccess_y', 'away_defense_stuffRate_y', 'away_defense_lineYards_y', 'away_defense_lineYardsTotal_y', 'away_defense_secondLevelYards_y', 'away_defense_secondLevelYardsTotal_y', 'away_defense_openFieldYards_y', 'away_defense_openFieldYardsTotal_y', 'away_defense_standardDowns_ppa_y', 'away_defense_standardDowns_successRate_y', 'away_defense_standardDowns_explosiveness_y', 'away_defense_passingDowns_ppa_y', 'away_defense_passingDowns_successRate_y', 'away_defense_passingDowns_explosiveness_y', 'away_defense_rushingPlays_ppa_y', 'away_defense_rushingPlays_totalPPA_y', 'away_defense_rushingPlays_successRate_y', 'away_defense_rushingPlays_explosiveness_y', 'away_defense_passingPlays_ppa_y', 'away_defense_passingPlays_totalPPA_y', 'away_defense_passingPlays_successRate_y', 'away_defense_passingPlays_explosiveness_y', 'home_turnovers_y', 'home_possessionTime_y', 'away_turnovers_y', 'away_possessionTime_y', 'home_pregame_elo_calc_y', 'away_pregame_elo_calc_y', 'home_rp_usage_y', 'home_rp_percentPPA_y', 'away_rp_usage_y', 'away_rp_percentPPA_y']\n"
     ]
    },
    {
     "name": "stderr",
     "output_type": "stream",
     "text": [
      "/content/drive/MyDrive/Betting/BettingModels/opponent_adjustments.py:254: FutureWarning: A value is trying to be set on a copy of a DataFrame or Series through chained assignment using an inplace method.\n",
      "The behavior will change in pandas 3.0. This inplace method will never work because the intermediate object on which we are setting values always behaves as a copy.\n",
      "\n",
      "For example, when doing 'df[col].method(value, inplace=True)', try using 'df.method({col: value}, inplace=True)' or df[col] = df[col].method(value) instead, to perform the operation inplace on the original object.\n",
      "\n",
      "\n",
      "  team_centric_df[col].fillna(0, inplace=True)\n"
     ]
    }
   ],
   "source": [
    "opponent_adjustment_df = get_opponent_adjustments(master_df)\n",
    "master_df = pd.merge(master_df, opponent_adjustment_df, on=['season', 'week', 'home_team', 'away_team'], how='left', suffixes=(\"\",\"_y\"))\n",
    "cols_to_drop = [col for col in master_df.columns if col.endswith('_y')]\n",
    "if cols_to_drop:\n",
    "    print(f\"Dropping potentially duplicated columns: {cols_to_drop}\")\n",
    "    master_df.drop(columns=cols_to_drop, inplace=True)"
   ]
  },
  {
   "cell_type": "markdown",
   "metadata": {
    "id": "hb74EF7bvqA3"
   },
   "source": [
    "### Critical: Drop Target Variable Missing Data and Sort Chronologically"
   ]
  },
  {
   "cell_type": "code",
   "execution_count": 26,
   "metadata": {
    "colab": {
     "base_uri": "https://localhost:8080/"
    },
    "executionInfo": {
     "elapsed": 43,
     "status": "ok",
     "timestamp": 1745933486688,
     "user": {
      "displayName": "Austin Bervig",
      "userId": "09756579539086543276"
     },
     "user_tz": 300
    },
    "id": "UPm8ZOOtvtNv",
    "outputId": "f85c7f42-1120-4d4b-e632-581f547950dc"
   },
   "outputs": [
    {
     "name": "stdout",
     "output_type": "stream",
     "text": [
      "Sorting final DataFrame chronologically...\n"
     ]
    }
   ],
   "source": [
    "print(\"Sorting final DataFrame chronologically...\")\n",
    "master_df.sort_values(by=['season', 'week', 'id'], inplace=True)\n",
    "master_df.reset_index(drop=True, inplace=True)"
   ]
  },
  {
   "cell_type": "markdown",
   "metadata": {
    "id": "hsr7FkJ5vxBn"
   },
   "source": [
    "### Inspect Consolidated Data"
   ]
  },
  {
   "cell_type": "code",
   "execution_count": 27,
   "metadata": {
    "colab": {
     "base_uri": "https://localhost:8080/"
    },
    "executionInfo": {
     "elapsed": 88,
     "status": "ok",
     "timestamp": 1745933491030,
     "user": {
      "displayName": "Austin Bervig",
      "userId": "09756579539086543276"
     },
     "user_tz": 300
    },
    "id": "pl0-Nhq6vzEv",
    "outputId": "1ade2071-7577-44e7-b9b7-449a4f1950e0"
   },
   "outputs": [
    {
     "name": "stdout",
     "output_type": "stream",
     "text": [
      "\n",
      "--- Master DataFrame Info (Now includes all stats) ---\n",
      "<class 'pandas.core.frame.DataFrame'>\n",
      "RangeIndex: 9816 entries, 0 to 9815\n",
      "Columns: 358 entries, id to adj_hybrid_away_defense_passingPlays_explosiveness\n",
      "dtypes: float64(345), int64(6), object(7)\n",
      "memory usage: 26.8+ MB\n",
      "\n",
      "--- Master DataFrame Head (Key Columns) ---\n",
      "          id  season  week       home_team         away_team  \\\n",
      "0  332410006    2013     1   South Alabama     Southern Utah   \n",
      "1  332410023    2013     1  San José State  Sacramento State   \n",
      "2  332410041    2013     1           UConn            Towson   \n",
      "3  332410062    2013     1         Hawai'i               USC   \n",
      "4  332410084    2013     1         Indiana     Indiana State   \n",
      "\n",
      "   avg_closing_spread  avg_opening_spread  home_pregame_elo_calc  \\\n",
      "0          -41.000000                 NaN                 1500.0   \n",
      "1          -33.000000                 NaN                 1500.0   \n",
      "2          -20.000000                 NaN                 1500.0   \n",
      "3           22.833333                 NaN                 1500.0   \n",
      "4          -30.500000                 NaN                 1500.0   \n",
      "\n",
      "   away_pregame_elo_calc  \n",
      "0                 1200.0  \n",
      "1                 1200.0  \n",
      "2                 1200.0  \n",
      "3                 1500.0  \n",
      "4                 1200.0  \n",
      "\n",
      "--- Master DataFrame Tail (Check Sorting - Key Columns) ---\n",
      "             id  season  week    home_team away_team  avg_closing_spread  \\\n",
      "9811  401673467    2024    15   Miami (OH)      Ohio           -2.500000   \n",
      "9812  401673468    2024    15  Boise State      UNLV           -3.833333   \n",
      "9813  401673469    2024    15        Texas   Georgia           -2.833333   \n",
      "9814  401673470    2024    15    Louisiana  Marshall           -4.833333   \n",
      "9815  401645383    2024    16         Army      Navy           -6.333333   \n",
      "\n",
      "      avg_opening_spread  home_pregame_elo_calc  away_pregame_elo_calc  \n",
      "9811           -2.500000            1638.372413            1576.517316  \n",
      "9812           -3.750000            1839.115158            1726.743803  \n",
      "9813           -2.500000            2075.010095            2046.421337  \n",
      "9814           -4.500000            1662.753236            1635.550921  \n",
      "9815           -3.666667            1777.817833            1515.335334  \n"
     ]
    }
   ],
   "source": [
    "print(\"\\n--- Master DataFrame Info (Now includes all stats) ---\")\n",
    "master_df.info() # Will show many more columns now\n",
    "\n",
    "# Displaying head/tail might be too wide, focus on key columns\n",
    "print(\"\\n--- Master DataFrame Head (Key Columns) ---\")\n",
    "print(master_df[['id', 'season', 'week', 'home_team', 'away_team',\n",
    "                 'avg_closing_spread', 'avg_opening_spread',\n",
    "                 'home_pregame_elo_calc', 'away_pregame_elo_calc']].head())\n",
    "\n",
    "print(\"\\n--- Master DataFrame Tail (Check Sorting - Key Columns) ---\")\n",
    "print(master_df[['id', 'season', 'week', 'home_team', 'away_team',\n",
    "                 'avg_closing_spread', 'avg_opening_spread',\n",
    "                 'home_pregame_elo_calc', 'away_pregame_elo_calc']].tail())"
   ]
  },
  {
   "cell_type": "markdown",
   "metadata": {
    "id": "w50XYshQv1q8"
   },
   "source": [
    "## Step 2: Definte Target Variable & Basic Features"
   ]
  },
  {
   "cell_type": "code",
   "execution_count": 28,
   "metadata": {
    "colab": {
     "base_uri": "https://localhost:8080/"
    },
    "executionInfo": {
     "elapsed": 21,
     "status": "ok",
     "timestamp": 1745933493161,
     "user": {
      "displayName": "Austin Bervig",
      "userId": "09756579539086543276"
     },
     "user_tz": 300
    },
    "id": "AvJYoRlrv4ij",
    "outputId": "a1d67d87-b22e-4475-9af4-48cd581c1938"
   },
   "outputs": [
    {
     "name": "stdout",
     "output_type": "stream",
     "text": [
      "\n",
      "Target Variable: 'avg_closing_spread'\n",
      "Missing values in target ('avg_closing_spread'): 0.95%\n",
      "Missing values in target after dropping: 0\n",
      "\n",
      "Basic Features Selected (7):\n",
      "['home_pregame_elo_calc', 'away_pregame_elo_calc', 'neutral_site', 'conference_game', 'season', 'week', 'elo_diff_calc']\n",
      "\n",
      "--- Target and Basic Features (Head) ---\n",
      "   avg_closing_spread  home_pregame_elo_calc  away_pregame_elo_calc  \\\n",
      "0          -41.000000                 1500.0                 1200.0   \n",
      "1          -33.000000                 1500.0                 1200.0   \n",
      "2          -20.000000                 1500.0                 1200.0   \n",
      "3           22.833333                 1500.0                 1500.0   \n",
      "4          -30.500000                 1500.0                 1200.0   \n",
      "\n",
      "   neutral_site  conference_game  season  week  elo_diff_calc  \n",
      "0             1                0    2013     1          300.0  \n",
      "1             0                0    2013     1          300.0  \n",
      "2             0                0    2013     1          300.0  \n",
      "3             0                0    2013     1            0.0  \n",
      "4             0                0    2013     1          300.0  \n"
     ]
    }
   ],
   "source": [
    "# Define the primary target variable\n",
    "target_variable = 'avg_closing_spread'\n",
    "print(f\"\\nTarget Variable: '{target_variable}'\")\n",
    "\n",
    "# Check target missing values\n",
    "target_missing_pct = master_df[target_variable].isnull().mean() * 100\n",
    "print(f\"Missing values in target ('{target_variable}'): {target_missing_pct:.2f}%\")\n",
    "\n",
    "# Drop rows where the target variable is NaN\n",
    "master_df.dropna(subset=[target_variable], inplace=True)\n",
    "master_df.reset_index(drop=True, inplace=True)\n",
    "\n",
    "# Verify the target column now has no NaNs\n",
    "print(f\"Missing values in target after dropping: {master_df[target_variable].isnull().sum()}\")\n",
    "\n",
    "# Define initial, basic features (using our CALCULATED Elo)\n",
    "# Note: We exclude the original home/away_pregame_elo from the DB unless needed for comparison\n",
    "basic_features = [\n",
    "    'home_pregame_elo_calc', # Our calculated Elo\n",
    "    'away_pregame_elo_calc', # Our calculated Elo\n",
    "    'neutral_site',\n",
    "    'conference_game',\n",
    "    'season',\n",
    "    'week'\n",
    "]\n",
    "# Engineer Elo difference feature using our calculated Elo\n",
    "master_df['elo_diff_calc'] = master_df['home_pregame_elo_calc'] - master_df['away_pregame_elo_calc']\n",
    "basic_features.append('elo_diff_calc')\n",
    "\n",
    "print(f\"\\nBasic Features Selected ({len(basic_features)}):\")\n",
    "print(basic_features)\n",
    "\n",
    "# Display the target and basic features for a few rows\n",
    "print(\"\\n--- Target and Basic Features (Head) ---\")\n",
    "# Handle potential missing calculated Elo values if not dropped earlier\n",
    "print(master_df[[target_variable] + basic_features].head())"
   ]
  },
  {
   "cell_type": "markdown",
   "metadata": {
    "id": "SQBwhQfW7AIk"
   },
   "source": [
    "## Step 3 Advanced Stat Feature Engineering"
   ]
  },
  {
   "cell_type": "markdown",
   "metadata": {
    "id": "_ULLRVjE7Gs8"
   },
   "source": [
    "### Identify Stats for Rolling Averages"
   ]
  },
  {
   "cell_type": "code",
   "execution_count": 29,
   "metadata": {
    "colab": {
     "base_uri": "https://localhost:8080/"
    },
    "executionInfo": {
     "elapsed": 6,
     "status": "ok",
     "timestamp": 1745933497209,
     "user": {
      "displayName": "Austin Bervig",
      "userId": "09756579539086543276"
     },
     "user_tz": 300
    },
    "id": "9b4rPHh26DD2",
    "outputId": "7379123f-e1a9-409d-bb00-6b84272e3098"
   },
   "outputs": [
    {
     "name": "stdout",
     "output_type": "stream",
     "text": [
      "Selected 33 stats for EWMA (span=5).\n"
     ]
    }
   ],
   "source": [
    "# Select key efficiency/explosiveness metrics. Start with a focused list.\n",
    "# Expand this list later if needed.\n",
    "stats_to_roll = [\n",
    "    # Overall Offense\n",
    "    'offense_ppa',\n",
    "    'offense_successRate',\n",
    "    'offense_explosiveness',\n",
    "    # Rushing Offense\n",
    "    'offense_rushingPlays_ppa',\n",
    "    'offense_rushingPlays_successRate',\n",
    "    'offense_rushingPlays_explosiveness',\n",
    "    'offense_lineYards', # Potentially useful offensive line proxy\n",
    "    # Passing Offense\n",
    "    'offense_passingPlays_ppa',\n",
    "    'offense_passingPlays_successRate',\n",
    "    'offense_passingPlays_explosiveness',\n",
    "    # Standard Downs\n",
    "    'offense_standardDowns_ppa',\n",
    "    'offense_standardDowns_successRate',\n",
    "    'offense_standardDowns_explosiveness',\n",
    "    # Passing Downs\n",
    "    'offense_passingDowns_ppa',\n",
    "    'offense_passingDowns_successRate',\n",
    "    'offense_passingDowns_explosiveness',\n",
    "    # Overall Defense (using opponent's offensive stats)\n",
    "    'defense_ppa',\n",
    "    'defense_successRate',\n",
    "    'defense_explosiveness',\n",
    "    # Rushing Defense\n",
    "    'defense_rushingPlays_ppa',\n",
    "    'defense_rushingPlays_successRate',\n",
    "    'defense_rushingPlays_explosiveness',\n",
    "    'defense_lineYards', # Potentially useful defensive line proxy\n",
    "    # Passing Defense\n",
    "    'defense_passingPlays_ppa',\n",
    "    'defense_passingPlays_successRate',\n",
    "    'defense_passingPlays_explosiveness',\n",
    "    # Standard Downs\n",
    "    'defense_standardDowns_ppa',\n",
    "    'defense_standardDowns_successRate',\n",
    "    'defense_standardDowns_explosiveness',\n",
    "    # Passing Downs\n",
    "    'defense_passingDowns_ppa',\n",
    "    'defense_passingDowns_successRate',\n",
    "    'defense_passingDowns_explosiveness',\n",
    "    # Special Teams / Other (Add if desired, e.g., avg starting field position - needs raw data)\n",
    "    'turnovers' # Average turnovers forced/committed\n",
    "]\n",
    "\n",
    "# Define EWMA span (adjust as needed, smaller span = more weight on recent)\n",
    "# A span of 5 roughly means the last ~5 games have the most influence.\n",
    "ewma_span = 5\n",
    "min_periods_for_ewma = max(1, ewma_span // 2)\n",
    "\n",
    "print(f\"Selected {len(stats_to_roll)} stats for EWMA (span={ewma_span}).\")"
   ]
  },
  {
   "cell_type": "markdown",
   "metadata": {
    "id": "uWECdum17N1i"
   },
   "source": [
    "### Reshape Data to Team-Centric Format"
   ]
  },
  {
   "cell_type": "code",
   "execution_count": 30,
   "metadata": {
    "colab": {
     "base_uri": "https://localhost:8080/"
    },
    "executionInfo": {
     "elapsed": 30,
     "status": "ok",
     "timestamp": 1745933499522,
     "user": {
      "displayName": "Austin Bervig",
      "userId": "09756579539086543276"
     },
     "user_tz": 300
    },
    "id": "F0-hE6pk7QFr",
    "outputId": "5b3d4ecc-9efe-4fd0-c60f-4ca66c8814e9"
   },
   "outputs": [
    {
     "name": "stdout",
     "output_type": "stream",
     "text": [
      "Reshaping data to team-centric format...\n"
     ]
    }
   ],
   "source": [
    "# Create two temporary dataframes, one for home team stats, one for away\n",
    "home_stats = master_df[['id', 'season', 'week', 'home_team', 'away_team']].copy()\n",
    "away_stats = master_df[['id', 'season', 'week', 'away_team', 'home_team']].copy()\n",
    "\n",
    "home_stats.rename(columns={'home_team': 'team', 'away_team': 'opponent'}, inplace=True)\n",
    "away_stats.rename(columns={'away_team': 'team', 'home_team': 'opponent'}, inplace=True)\n",
    "\n",
    "# Add actual stats, renaming columns to generic 'offense_*', 'defense_*'\n",
    "print(\"Reshaping data to team-centric format...\")\n",
    "for stat_base in stats_to_roll:\n",
    "    # Determine if it's an offense or defense stat based on original column name structure\n",
    "    # This requires stats_to_roll names to match the generic part after home_/away_\n",
    "    home_col = f'adj_hybrid_home_{stat_base}'\n",
    "    away_col = f'adj_hybrid_away_{stat_base}'\n",
    "\n",
    "    if home_col in master_df.columns and away_col in master_df.columns and stat_base != 'turnovers':\n",
    "        # Offensive and Defensive stat for the teams\n",
    "        home_stats[stat_base] = master_df[home_col]\n",
    "        away_stats[stat_base] = master_df[away_col]\n",
    "\n",
    "    # Handle turnovers specifically if included\n",
    "    elif stat_base == 'turnovers':\n",
    "      home_stats['turnovers_committed'] = master_df['home_turnovers']\n",
    "      home_stats['turnovers_forced'] = master_df['away_turnovers'] # Home defense forced away turnovers\n",
    "      away_stats['turnovers_committed'] = master_df['away_turnovers']\n",
    "      away_stats['turnovers_forced'] = master_df['home_turnovers'] # Away defense forced home turnovers\n",
    "\n",
    "\n",
    "# Combine home and away views\n",
    "team_game_df = pd.concat([home_stats, away_stats], ignore_index=True)"
   ]
  },
  {
   "cell_type": "code",
   "execution_count": 31,
   "metadata": {
    "colab": {
     "base_uri": "https://localhost:8080/",
     "height": 527
    },
    "executionInfo": {
     "elapsed": 14,
     "status": "ok",
     "timestamp": 1745933501691,
     "user": {
      "displayName": "Austin Bervig",
      "userId": "09756579539086543276"
     },
     "user_tz": 300
    },
    "id": "P-2fnd_ycdo-",
    "outputId": "9de6d298-dd07-4f25-eaea-7ddc3ea953f2"
   },
   "outputs": [
    {
     "data": {
      "application/vnd.google.colaboratory.intrinsic+json": {
       "type": "dataframe"
      },
      "text/html": [
       "\n",
       "  <div id=\"df-8df78500-b545-4d5e-8bbf-f46602254477\" class=\"colab-df-container\">\n",
       "    <div>\n",
       "<style scoped>\n",
       "    .dataframe tbody tr th:only-of-type {\n",
       "        vertical-align: middle;\n",
       "    }\n",
       "\n",
       "    .dataframe tbody tr th {\n",
       "        vertical-align: top;\n",
       "    }\n",
       "\n",
       "    .dataframe thead th {\n",
       "        text-align: right;\n",
       "    }\n",
       "</style>\n",
       "<table border=\"1\" class=\"dataframe\">\n",
       "  <thead>\n",
       "    <tr style=\"text-align: right;\">\n",
       "      <th></th>\n",
       "      <th>id</th>\n",
       "      <th>season</th>\n",
       "      <th>week</th>\n",
       "      <th>team</th>\n",
       "      <th>opponent</th>\n",
       "      <th>offense_ppa</th>\n",
       "      <th>offense_successRate</th>\n",
       "      <th>offense_explosiveness</th>\n",
       "      <th>offense_rushingPlays_ppa</th>\n",
       "      <th>offense_rushingPlays_successRate</th>\n",
       "      <th>...</th>\n",
       "      <th>defense_passingPlays_successRate</th>\n",
       "      <th>defense_passingPlays_explosiveness</th>\n",
       "      <th>defense_standardDowns_ppa</th>\n",
       "      <th>defense_standardDowns_successRate</th>\n",
       "      <th>defense_standardDowns_explosiveness</th>\n",
       "      <th>defense_passingDowns_ppa</th>\n",
       "      <th>defense_passingDowns_successRate</th>\n",
       "      <th>defense_passingDowns_explosiveness</th>\n",
       "      <th>turnovers_committed</th>\n",
       "      <th>turnovers_forced</th>\n",
       "    </tr>\n",
       "  </thead>\n",
       "  <tbody>\n",
       "    <tr>\n",
       "      <th>8865</th>\n",
       "      <td>401628319</td>\n",
       "      <td>2024</td>\n",
       "      <td>1</td>\n",
       "      <td>Alabama</td>\n",
       "      <td>Western Kentucky</td>\n",
       "      <td>1.524481</td>\n",
       "      <td>0.895222</td>\n",
       "      <td>4.683464</td>\n",
       "      <td>0.967134</td>\n",
       "      <td>0.825202</td>\n",
       "      <td>...</td>\n",
       "      <td>0.634800</td>\n",
       "      <td>3.252335</td>\n",
       "      <td>-0.227784</td>\n",
       "      <td>0.676303</td>\n",
       "      <td>2.049804</td>\n",
       "      <td>0.225114</td>\n",
       "      <td>0.519912</td>\n",
       "      <td>3.816694</td>\n",
       "      <td>1.0</td>\n",
       "      <td>2.0</td>\n",
       "    </tr>\n",
       "    <tr>\n",
       "      <th>8950</th>\n",
       "      <td>401628335</td>\n",
       "      <td>2024</td>\n",
       "      <td>2</td>\n",
       "      <td>Alabama</td>\n",
       "      <td>South Florida</td>\n",
       "      <td>0.728306</td>\n",
       "      <td>0.704370</td>\n",
       "      <td>1.455203</td>\n",
       "      <td>0.753767</td>\n",
       "      <td>0.793623</td>\n",
       "      <td>...</td>\n",
       "      <td>0.015240</td>\n",
       "      <td>1.986108</td>\n",
       "      <td>-0.203183</td>\n",
       "      <td>0.304508</td>\n",
       "      <td>0.787773</td>\n",
       "      <td>0.262563</td>\n",
       "      <td>0.132091</td>\n",
       "      <td>3.144557</td>\n",
       "      <td>3.0</td>\n",
       "      <td>0.0</td>\n",
       "    </tr>\n",
       "    <tr>\n",
       "      <th>9156</th>\n",
       "      <td>401628374</td>\n",
       "      <td>2024</td>\n",
       "      <td>5</td>\n",
       "      <td>Alabama</td>\n",
       "      <td>Georgia</td>\n",
       "      <td>0.565607</td>\n",
       "      <td>0.566716</td>\n",
       "      <td>1.771556</td>\n",
       "      <td>0.218166</td>\n",
       "      <td>0.334919</td>\n",
       "      <td>...</td>\n",
       "      <td>0.350689</td>\n",
       "      <td>1.841043</td>\n",
       "      <td>0.199137</td>\n",
       "      <td>0.443692</td>\n",
       "      <td>1.749634</td>\n",
       "      <td>-0.057714</td>\n",
       "      <td>0.256417</td>\n",
       "      <td>0.914937</td>\n",
       "      <td>1.0</td>\n",
       "      <td>4.0</td>\n",
       "    </tr>\n",
       "    <tr>\n",
       "      <th>9259</th>\n",
       "      <td>401628385</td>\n",
       "      <td>2024</td>\n",
       "      <td>7</td>\n",
       "      <td>Alabama</td>\n",
       "      <td>South Carolina</td>\n",
       "      <td>0.296912</td>\n",
       "      <td>0.528136</td>\n",
       "      <td>1.353404</td>\n",
       "      <td>0.201995</td>\n",
       "      <td>0.563048</td>\n",
       "      <td>...</td>\n",
       "      <td>0.492067</td>\n",
       "      <td>1.540036</td>\n",
       "      <td>-0.095420</td>\n",
       "      <td>0.472648</td>\n",
       "      <td>0.763007</td>\n",
       "      <td>0.888125</td>\n",
       "      <td>0.454206</td>\n",
       "      <td>2.930898</td>\n",
       "      <td>2.0</td>\n",
       "      <td>4.0</td>\n",
       "    </tr>\n",
       "    <tr>\n",
       "      <th>9370</th>\n",
       "      <td>401628400</td>\n",
       "      <td>2024</td>\n",
       "      <td>9</td>\n",
       "      <td>Alabama</td>\n",
       "      <td>Missouri</td>\n",
       "      <td>0.374898</td>\n",
       "      <td>0.529422</td>\n",
       "      <td>1.165439</td>\n",
       "      <td>0.336551</td>\n",
       "      <td>0.561780</td>\n",
       "      <td>...</td>\n",
       "      <td>0.150362</td>\n",
       "      <td>0.791201</td>\n",
       "      <td>-0.233863</td>\n",
       "      <td>0.404947</td>\n",
       "      <td>0.691204</td>\n",
       "      <td>-0.505974</td>\n",
       "      <td>0.010974</td>\n",
       "      <td>1.488321</td>\n",
       "      <td>0.0</td>\n",
       "      <td>3.0</td>\n",
       "    </tr>\n",
       "    <tr>\n",
       "      <th>9532</th>\n",
       "      <td>401628425</td>\n",
       "      <td>2024</td>\n",
       "      <td>12</td>\n",
       "      <td>Alabama</td>\n",
       "      <td>Mercer</td>\n",
       "      <td>0.804984</td>\n",
       "      <td>0.994875</td>\n",
       "      <td>2.787550</td>\n",
       "      <td>0.699243</td>\n",
       "      <td>1.006216</td>\n",
       "      <td>...</td>\n",
       "      <td>0.883867</td>\n",
       "      <td>2.825462</td>\n",
       "      <td>-0.379258</td>\n",
       "      <td>0.839773</td>\n",
       "      <td>2.043286</td>\n",
       "      <td>0.278240</td>\n",
       "      <td>0.713198</td>\n",
       "      <td>3.257472</td>\n",
       "      <td>0.0</td>\n",
       "      <td>3.0</td>\n",
       "    </tr>\n",
       "    <tr>\n",
       "      <th>9646</th>\n",
       "      <td>401628437</td>\n",
       "      <td>2024</td>\n",
       "      <td>14</td>\n",
       "      <td>Alabama</td>\n",
       "      <td>Auburn</td>\n",
       "      <td>0.272355</td>\n",
       "      <td>0.557980</td>\n",
       "      <td>0.919738</td>\n",
       "      <td>0.198340</td>\n",
       "      <td>0.494015</td>\n",
       "      <td>...</td>\n",
       "      <td>0.376205</td>\n",
       "      <td>1.392557</td>\n",
       "      <td>-0.153530</td>\n",
       "      <td>0.401089</td>\n",
       "      <td>0.855187</td>\n",
       "      <td>0.301553</td>\n",
       "      <td>0.333448</td>\n",
       "      <td>1.904591</td>\n",
       "      <td>4.0</td>\n",
       "      <td>2.0</td>\n",
       "    </tr>\n",
       "    <tr>\n",
       "      <th>18751</th>\n",
       "      <td>401628350</td>\n",
       "      <td>2024</td>\n",
       "      <td>3</td>\n",
       "      <td>Alabama</td>\n",
       "      <td>Wisconsin</td>\n",
       "      <td>0.615670</td>\n",
       "      <td>0.537810</td>\n",
       "      <td>1.547011</td>\n",
       "      <td>0.510258</td>\n",
       "      <td>0.486452</td>\n",
       "      <td>...</td>\n",
       "      <td>0.319325</td>\n",
       "      <td>1.955264</td>\n",
       "      <td>-0.096887</td>\n",
       "      <td>0.398850</td>\n",
       "      <td>1.090671</td>\n",
       "      <td>0.119738</td>\n",
       "      <td>0.294912</td>\n",
       "      <td>1.544667</td>\n",
       "      <td>0.0</td>\n",
       "      <td>2.0</td>\n",
       "    </tr>\n",
       "    <tr>\n",
       "      <th>18938</th>\n",
       "      <td>401628384</td>\n",
       "      <td>2024</td>\n",
       "      <td>6</td>\n",
       "      <td>Alabama</td>\n",
       "      <td>Vanderbilt</td>\n",
       "      <td>0.583123</td>\n",
       "      <td>0.649240</td>\n",
       "      <td>1.606761</td>\n",
       "      <td>0.572368</td>\n",
       "      <td>0.613848</td>\n",
       "      <td>...</td>\n",
       "      <td>0.592441</td>\n",
       "      <td>2.189885</td>\n",
       "      <td>-0.099624</td>\n",
       "      <td>0.321192</td>\n",
       "      <td>1.187400</td>\n",
       "      <td>0.672248</td>\n",
       "      <td>0.433562</td>\n",
       "      <td>2.478441</td>\n",
       "      <td>2.0</td>\n",
       "      <td>0.0</td>\n",
       "    </tr>\n",
       "    <tr>\n",
       "      <th>19039</th>\n",
       "      <td>401628397</td>\n",
       "      <td>2024</td>\n",
       "      <td>8</td>\n",
       "      <td>Alabama</td>\n",
       "      <td>Tennessee</td>\n",
       "      <td>0.182278</td>\n",
       "      <td>0.461634</td>\n",
       "      <td>1.215275</td>\n",
       "      <td>0.140436</td>\n",
       "      <td>0.556255</td>\n",
       "      <td>...</td>\n",
       "      <td>0.261245</td>\n",
       "      <td>2.421432</td>\n",
       "      <td>-0.374304</td>\n",
       "      <td>0.321818</td>\n",
       "      <td>0.630367</td>\n",
       "      <td>0.207132</td>\n",
       "      <td>0.233283</td>\n",
       "      <td>2.720923</td>\n",
       "      <td>2.0</td>\n",
       "      <td>3.0</td>\n",
       "    </tr>\n",
       "    <tr>\n",
       "      <th>19199</th>\n",
       "      <td>401628413</td>\n",
       "      <td>2024</td>\n",
       "      <td>11</td>\n",
       "      <td>Alabama</td>\n",
       "      <td>LSU</td>\n",
       "      <td>0.429327</td>\n",
       "      <td>0.543501</td>\n",
       "      <td>1.275173</td>\n",
       "      <td>0.544453</td>\n",
       "      <td>0.583263</td>\n",
       "      <td>...</td>\n",
       "      <td>0.270252</td>\n",
       "      <td>1.416539</td>\n",
       "      <td>-0.160076</td>\n",
       "      <td>0.459700</td>\n",
       "      <td>0.943004</td>\n",
       "      <td>0.284418</td>\n",
       "      <td>0.181316</td>\n",
       "      <td>2.797728</td>\n",
       "      <td>0.0</td>\n",
       "      <td>3.0</td>\n",
       "    </tr>\n",
       "    <tr>\n",
       "      <th>19310</th>\n",
       "      <td>401628433</td>\n",
       "      <td>2024</td>\n",
       "      <td>13</td>\n",
       "      <td>Alabama</td>\n",
       "      <td>Oklahoma</td>\n",
       "      <td>-0.032083</td>\n",
       "      <td>0.448035</td>\n",
       "      <td>1.112600</td>\n",
       "      <td>0.147720</td>\n",
       "      <td>0.520571</td>\n",
       "      <td>...</td>\n",
       "      <td>0.675285</td>\n",
       "      <td>0.918572</td>\n",
       "      <td>0.194577</td>\n",
       "      <td>0.567473</td>\n",
       "      <td>0.735457</td>\n",
       "      <td>0.490274</td>\n",
       "      <td>0.480571</td>\n",
       "      <td>1.272780</td>\n",
       "      <td>3.0</td>\n",
       "      <td>1.0</td>\n",
       "    </tr>\n",
       "  </tbody>\n",
       "</table>\n",
       "<p>12 rows × 37 columns</p>\n",
       "</div>\n",
       "    <div class=\"colab-df-buttons\">\n",
       "\n",
       "  <div class=\"colab-df-container\">\n",
       "    <button class=\"colab-df-convert\" onclick=\"convertToInteractive('df-8df78500-b545-4d5e-8bbf-f46602254477')\"\n",
       "            title=\"Convert this dataframe to an interactive table.\"\n",
       "            style=\"display:none;\">\n",
       "\n",
       "  <svg xmlns=\"http://www.w3.org/2000/svg\" height=\"24px\" viewBox=\"0 -960 960 960\">\n",
       "    <path d=\"M120-120v-720h720v720H120Zm60-500h600v-160H180v160Zm220 220h160v-160H400v160Zm0 220h160v-160H400v160ZM180-400h160v-160H180v160Zm440 0h160v-160H620v160ZM180-180h160v-160H180v160Zm440 0h160v-160H620v160Z\"/>\n",
       "  </svg>\n",
       "    </button>\n",
       "\n",
       "  <style>\n",
       "    .colab-df-container {\n",
       "      display:flex;\n",
       "      gap: 12px;\n",
       "    }\n",
       "\n",
       "    .colab-df-convert {\n",
       "      background-color: #E8F0FE;\n",
       "      border: none;\n",
       "      border-radius: 50%;\n",
       "      cursor: pointer;\n",
       "      display: none;\n",
       "      fill: #1967D2;\n",
       "      height: 32px;\n",
       "      padding: 0 0 0 0;\n",
       "      width: 32px;\n",
       "    }\n",
       "\n",
       "    .colab-df-convert:hover {\n",
       "      background-color: #E2EBFA;\n",
       "      box-shadow: 0px 1px 2px rgba(60, 64, 67, 0.3), 0px 1px 3px 1px rgba(60, 64, 67, 0.15);\n",
       "      fill: #174EA6;\n",
       "    }\n",
       "\n",
       "    .colab-df-buttons div {\n",
       "      margin-bottom: 4px;\n",
       "    }\n",
       "\n",
       "    [theme=dark] .colab-df-convert {\n",
       "      background-color: #3B4455;\n",
       "      fill: #D2E3FC;\n",
       "    }\n",
       "\n",
       "    [theme=dark] .colab-df-convert:hover {\n",
       "      background-color: #434B5C;\n",
       "      box-shadow: 0px 1px 3px 1px rgba(0, 0, 0, 0.15);\n",
       "      filter: drop-shadow(0px 1px 2px rgba(0, 0, 0, 0.3));\n",
       "      fill: #FFFFFF;\n",
       "    }\n",
       "  </style>\n",
       "\n",
       "    <script>\n",
       "      const buttonEl =\n",
       "        document.querySelector('#df-8df78500-b545-4d5e-8bbf-f46602254477 button.colab-df-convert');\n",
       "      buttonEl.style.display =\n",
       "        google.colab.kernel.accessAllowed ? 'block' : 'none';\n",
       "\n",
       "      async function convertToInteractive(key) {\n",
       "        const element = document.querySelector('#df-8df78500-b545-4d5e-8bbf-f46602254477');\n",
       "        const dataTable =\n",
       "          await google.colab.kernel.invokeFunction('convertToInteractive',\n",
       "                                                    [key], {});\n",
       "        if (!dataTable) return;\n",
       "\n",
       "        const docLinkHtml = 'Like what you see? Visit the ' +\n",
       "          '<a target=\"_blank\" href=https://colab.research.google.com/notebooks/data_table.ipynb>data table notebook</a>'\n",
       "          + ' to learn more about interactive tables.';\n",
       "        element.innerHTML = '';\n",
       "        dataTable['output_type'] = 'display_data';\n",
       "        await google.colab.output.renderOutput(dataTable, element);\n",
       "        const docLink = document.createElement('div');\n",
       "        docLink.innerHTML = docLinkHtml;\n",
       "        element.appendChild(docLink);\n",
       "      }\n",
       "    </script>\n",
       "  </div>\n",
       "\n",
       "\n",
       "    <div id=\"df-0a2307c5-f5e1-4fbf-8a94-c579392d189f\">\n",
       "      <button class=\"colab-df-quickchart\" onclick=\"quickchart('df-0a2307c5-f5e1-4fbf-8a94-c579392d189f')\"\n",
       "                title=\"Suggest charts\"\n",
       "                style=\"display:none;\">\n",
       "\n",
       "<svg xmlns=\"http://www.w3.org/2000/svg\" height=\"24px\"viewBox=\"0 0 24 24\"\n",
       "     width=\"24px\">\n",
       "    <g>\n",
       "        <path d=\"M19 3H5c-1.1 0-2 .9-2 2v14c0 1.1.9 2 2 2h14c1.1 0 2-.9 2-2V5c0-1.1-.9-2-2-2zM9 17H7v-7h2v7zm4 0h-2V7h2v10zm4 0h-2v-4h2v4z\"/>\n",
       "    </g>\n",
       "</svg>\n",
       "      </button>\n",
       "\n",
       "<style>\n",
       "  .colab-df-quickchart {\n",
       "      --bg-color: #E8F0FE;\n",
       "      --fill-color: #1967D2;\n",
       "      --hover-bg-color: #E2EBFA;\n",
       "      --hover-fill-color: #174EA6;\n",
       "      --disabled-fill-color: #AAA;\n",
       "      --disabled-bg-color: #DDD;\n",
       "  }\n",
       "\n",
       "  [theme=dark] .colab-df-quickchart {\n",
       "      --bg-color: #3B4455;\n",
       "      --fill-color: #D2E3FC;\n",
       "      --hover-bg-color: #434B5C;\n",
       "      --hover-fill-color: #FFFFFF;\n",
       "      --disabled-bg-color: #3B4455;\n",
       "      --disabled-fill-color: #666;\n",
       "  }\n",
       "\n",
       "  .colab-df-quickchart {\n",
       "    background-color: var(--bg-color);\n",
       "    border: none;\n",
       "    border-radius: 50%;\n",
       "    cursor: pointer;\n",
       "    display: none;\n",
       "    fill: var(--fill-color);\n",
       "    height: 32px;\n",
       "    padding: 0;\n",
       "    width: 32px;\n",
       "  }\n",
       "\n",
       "  .colab-df-quickchart:hover {\n",
       "    background-color: var(--hover-bg-color);\n",
       "    box-shadow: 0 1px 2px rgba(60, 64, 67, 0.3), 0 1px 3px 1px rgba(60, 64, 67, 0.15);\n",
       "    fill: var(--button-hover-fill-color);\n",
       "  }\n",
       "\n",
       "  .colab-df-quickchart-complete:disabled,\n",
       "  .colab-df-quickchart-complete:disabled:hover {\n",
       "    background-color: var(--disabled-bg-color);\n",
       "    fill: var(--disabled-fill-color);\n",
       "    box-shadow: none;\n",
       "  }\n",
       "\n",
       "  .colab-df-spinner {\n",
       "    border: 2px solid var(--fill-color);\n",
       "    border-color: transparent;\n",
       "    border-bottom-color: var(--fill-color);\n",
       "    animation:\n",
       "      spin 1s steps(1) infinite;\n",
       "  }\n",
       "\n",
       "  @keyframes spin {\n",
       "    0% {\n",
       "      border-color: transparent;\n",
       "      border-bottom-color: var(--fill-color);\n",
       "      border-left-color: var(--fill-color);\n",
       "    }\n",
       "    20% {\n",
       "      border-color: transparent;\n",
       "      border-left-color: var(--fill-color);\n",
       "      border-top-color: var(--fill-color);\n",
       "    }\n",
       "    30% {\n",
       "      border-color: transparent;\n",
       "      border-left-color: var(--fill-color);\n",
       "      border-top-color: var(--fill-color);\n",
       "      border-right-color: var(--fill-color);\n",
       "    }\n",
       "    40% {\n",
       "      border-color: transparent;\n",
       "      border-right-color: var(--fill-color);\n",
       "      border-top-color: var(--fill-color);\n",
       "    }\n",
       "    60% {\n",
       "      border-color: transparent;\n",
       "      border-right-color: var(--fill-color);\n",
       "    }\n",
       "    80% {\n",
       "      border-color: transparent;\n",
       "      border-right-color: var(--fill-color);\n",
       "      border-bottom-color: var(--fill-color);\n",
       "    }\n",
       "    90% {\n",
       "      border-color: transparent;\n",
       "      border-bottom-color: var(--fill-color);\n",
       "    }\n",
       "  }\n",
       "</style>\n",
       "\n",
       "      <script>\n",
       "        async function quickchart(key) {\n",
       "          const quickchartButtonEl =\n",
       "            document.querySelector('#' + key + ' button');\n",
       "          quickchartButtonEl.disabled = true;  // To prevent multiple clicks.\n",
       "          quickchartButtonEl.classList.add('colab-df-spinner');\n",
       "          try {\n",
       "            const charts = await google.colab.kernel.invokeFunction(\n",
       "                'suggestCharts', [key], {});\n",
       "          } catch (error) {\n",
       "            console.error('Error during call to suggestCharts:', error);\n",
       "          }\n",
       "          quickchartButtonEl.classList.remove('colab-df-spinner');\n",
       "          quickchartButtonEl.classList.add('colab-df-quickchart-complete');\n",
       "        }\n",
       "        (() => {\n",
       "          let quickchartButtonEl =\n",
       "            document.querySelector('#df-0a2307c5-f5e1-4fbf-8a94-c579392d189f button');\n",
       "          quickchartButtonEl.style.display =\n",
       "            google.colab.kernel.accessAllowed ? 'block' : 'none';\n",
       "        })();\n",
       "      </script>\n",
       "    </div>\n",
       "\n",
       "    </div>\n",
       "  </div>\n"
      ],
      "text/plain": [
       "              id  season  week     team          opponent  offense_ppa  \\\n",
       "8865   401628319    2024     1  Alabama  Western Kentucky     1.524481   \n",
       "8950   401628335    2024     2  Alabama     South Florida     0.728306   \n",
       "9156   401628374    2024     5  Alabama           Georgia     0.565607   \n",
       "9259   401628385    2024     7  Alabama    South Carolina     0.296912   \n",
       "9370   401628400    2024     9  Alabama          Missouri     0.374898   \n",
       "9532   401628425    2024    12  Alabama            Mercer     0.804984   \n",
       "9646   401628437    2024    14  Alabama            Auburn     0.272355   \n",
       "18751  401628350    2024     3  Alabama         Wisconsin     0.615670   \n",
       "18938  401628384    2024     6  Alabama        Vanderbilt     0.583123   \n",
       "19039  401628397    2024     8  Alabama         Tennessee     0.182278   \n",
       "19199  401628413    2024    11  Alabama               LSU     0.429327   \n",
       "19310  401628433    2024    13  Alabama          Oklahoma    -0.032083   \n",
       "\n",
       "       offense_successRate  offense_explosiveness  offense_rushingPlays_ppa  \\\n",
       "8865              0.895222               4.683464                  0.967134   \n",
       "8950              0.704370               1.455203                  0.753767   \n",
       "9156              0.566716               1.771556                  0.218166   \n",
       "9259              0.528136               1.353404                  0.201995   \n",
       "9370              0.529422               1.165439                  0.336551   \n",
       "9532              0.994875               2.787550                  0.699243   \n",
       "9646              0.557980               0.919738                  0.198340   \n",
       "18751             0.537810               1.547011                  0.510258   \n",
       "18938             0.649240               1.606761                  0.572368   \n",
       "19039             0.461634               1.215275                  0.140436   \n",
       "19199             0.543501               1.275173                  0.544453   \n",
       "19310             0.448035               1.112600                  0.147720   \n",
       "\n",
       "       offense_rushingPlays_successRate  ...  \\\n",
       "8865                           0.825202  ...   \n",
       "8950                           0.793623  ...   \n",
       "9156                           0.334919  ...   \n",
       "9259                           0.563048  ...   \n",
       "9370                           0.561780  ...   \n",
       "9532                           1.006216  ...   \n",
       "9646                           0.494015  ...   \n",
       "18751                          0.486452  ...   \n",
       "18938                          0.613848  ...   \n",
       "19039                          0.556255  ...   \n",
       "19199                          0.583263  ...   \n",
       "19310                          0.520571  ...   \n",
       "\n",
       "       defense_passingPlays_successRate  defense_passingPlays_explosiveness  \\\n",
       "8865                           0.634800                            3.252335   \n",
       "8950                           0.015240                            1.986108   \n",
       "9156                           0.350689                            1.841043   \n",
       "9259                           0.492067                            1.540036   \n",
       "9370                           0.150362                            0.791201   \n",
       "9532                           0.883867                            2.825462   \n",
       "9646                           0.376205                            1.392557   \n",
       "18751                          0.319325                            1.955264   \n",
       "18938                          0.592441                            2.189885   \n",
       "19039                          0.261245                            2.421432   \n",
       "19199                          0.270252                            1.416539   \n",
       "19310                          0.675285                            0.918572   \n",
       "\n",
       "       defense_standardDowns_ppa  defense_standardDowns_successRate  \\\n",
       "8865                   -0.227784                           0.676303   \n",
       "8950                   -0.203183                           0.304508   \n",
       "9156                    0.199137                           0.443692   \n",
       "9259                   -0.095420                           0.472648   \n",
       "9370                   -0.233863                           0.404947   \n",
       "9532                   -0.379258                           0.839773   \n",
       "9646                   -0.153530                           0.401089   \n",
       "18751                  -0.096887                           0.398850   \n",
       "18938                  -0.099624                           0.321192   \n",
       "19039                  -0.374304                           0.321818   \n",
       "19199                  -0.160076                           0.459700   \n",
       "19310                   0.194577                           0.567473   \n",
       "\n",
       "       defense_standardDowns_explosiveness  defense_passingDowns_ppa  \\\n",
       "8865                              2.049804                  0.225114   \n",
       "8950                              0.787773                  0.262563   \n",
       "9156                              1.749634                 -0.057714   \n",
       "9259                              0.763007                  0.888125   \n",
       "9370                              0.691204                 -0.505974   \n",
       "9532                              2.043286                  0.278240   \n",
       "9646                              0.855187                  0.301553   \n",
       "18751                             1.090671                  0.119738   \n",
       "18938                             1.187400                  0.672248   \n",
       "19039                             0.630367                  0.207132   \n",
       "19199                             0.943004                  0.284418   \n",
       "19310                             0.735457                  0.490274   \n",
       "\n",
       "       defense_passingDowns_successRate  defense_passingDowns_explosiveness  \\\n",
       "8865                           0.519912                            3.816694   \n",
       "8950                           0.132091                            3.144557   \n",
       "9156                           0.256417                            0.914937   \n",
       "9259                           0.454206                            2.930898   \n",
       "9370                           0.010974                            1.488321   \n",
       "9532                           0.713198                            3.257472   \n",
       "9646                           0.333448                            1.904591   \n",
       "18751                          0.294912                            1.544667   \n",
       "18938                          0.433562                            2.478441   \n",
       "19039                          0.233283                            2.720923   \n",
       "19199                          0.181316                            2.797728   \n",
       "19310                          0.480571                            1.272780   \n",
       "\n",
       "       turnovers_committed  turnovers_forced  \n",
       "8865                   1.0               2.0  \n",
       "8950                   3.0               0.0  \n",
       "9156                   1.0               4.0  \n",
       "9259                   2.0               4.0  \n",
       "9370                   0.0               3.0  \n",
       "9532                   0.0               3.0  \n",
       "9646                   4.0               2.0  \n",
       "18751                  0.0               2.0  \n",
       "18938                  2.0               0.0  \n",
       "19039                  2.0               3.0  \n",
       "19199                  0.0               3.0  \n",
       "19310                  3.0               1.0  \n",
       "\n",
       "[12 rows x 37 columns]"
      ]
     },
     "execution_count": 31,
     "metadata": {},
     "output_type": "execute_result"
    }
   ],
   "source": [
    "team_game_df[(team_game_df['season'] == 2024) & (team_game_df['team'] == 'Alabama')]"
   ]
  },
  {
   "cell_type": "markdown",
   "metadata": {
    "id": "KPG8ommA7WUj"
   },
   "source": [
    "### Critical: Sort for Rolling Calculation"
   ]
  },
  {
   "cell_type": "code",
   "execution_count": 32,
   "metadata": {
    "colab": {
     "base_uri": "https://localhost:8080/"
    },
    "executionInfo": {
     "elapsed": 19,
     "status": "ok",
     "timestamp": 1745933511375,
     "user": {
      "displayName": "Austin Bervig",
      "userId": "09756579539086543276"
     },
     "user_tz": 300
    },
    "id": "X80ZErSj7YmD",
    "outputId": "0046d6de-3a5b-42bf-d2dc-119e681e449d"
   },
   "outputs": [
    {
     "name": "stdout",
     "output_type": "stream",
     "text": [
      "Sorting team-centric data...\n"
     ]
    }
   ],
   "source": [
    "print(\"Sorting team-centric data...\")\n",
    "team_game_df.sort_values(by=['team', 'season', 'week', 'id'], inplace=True)"
   ]
  },
  {
   "cell_type": "markdown",
   "metadata": {
    "id": "I-UroxYF7atT"
   },
   "source": [
    "### Calculate Lagged EWMA"
   ]
  },
  {
   "cell_type": "code",
   "execution_count": 33,
   "metadata": {
    "colab": {
     "base_uri": "https://localhost:8080/"
    },
    "executionInfo": {
     "elapsed": 1947,
     "status": "ok",
     "timestamp": 1745933515097,
     "user": {
      "displayName": "Austin Bervig",
      "userId": "09756579539086543276"
     },
     "user_tz": 300
    },
    "id": "RSiI2jmM7fQ5",
    "outputId": "f5063068-65b8-448e-8bdf-17cdcc1e745e"
   },
   "outputs": [
    {
     "name": "stdout",
     "output_type": "stream",
     "text": [
      "Calculating SEASONAL lagged EWMAs (span=5)...\n",
      "Skipping EWMA for 'offense_lineYards' as column not found in team_game_df.\n",
      "Skipping EWMA for 'defense_lineYards' as column not found in team_game_df.\n",
      "Generated 32 EWMA columns.\n"
     ]
    }
   ],
   "source": [
    "print(f\"Calculating SEASONAL lagged EWMAs (span={ewma_span})...\")\n",
    "ewma_cols_generated = []\n",
    "stats_to_roll.append('turnovers_committed')\n",
    "stats_to_roll.append('turnovers_forced')\n",
    "stats_to_roll.remove('turnovers')\n",
    "for stat in stats_to_roll:\n",
    "    if stat in team_game_df.columns: # Ensure stat column was created successfully\n",
    "        ewma_col_name = f'{stat}_ewma_lag1'\n",
    "        # Calculate EWMA and shift within each group\n",
    "        # Use transform for efficiency if possible\n",
    "        team_game_df[ewma_col_name] = team_game_df.groupby('team')[stat].transform(\n",
    "            lambda x: x.ewm(span=ewma_span, min_periods=min_periods_for_ewma, adjust=True).mean().shift(1)\n",
    "        )\n",
    "        ewma_cols_generated.append(ewma_col_name)\n",
    "    else:\n",
    "        print(f\"Skipping EWMA for '{stat}' as column not found in team_game_df.\")\n",
    "\n",
    "print(f\"Generated {len(ewma_cols_generated)} EWMA columns.\")"
   ]
  },
  {
   "cell_type": "markdown",
   "metadata": {
    "id": "mF41eMYY7hpJ"
   },
   "source": [
    "### Merge back to Master DataFrame"
   ]
  },
  {
   "cell_type": "code",
   "execution_count": 34,
   "metadata": {
    "colab": {
     "base_uri": "https://localhost:8080/"
    },
    "executionInfo": {
     "elapsed": 103,
     "status": "ok",
     "timestamp": 1745933525110,
     "user": {
      "displayName": "Austin Bervig",
      "userId": "09756579539086543276"
     },
     "user_tz": 300
    },
    "id": "knFsdM6s7lwp",
    "outputId": "3bf8eda0-493f-4f08-f0b0-230dc378301a"
   },
   "outputs": [
    {
     "name": "stdout",
     "output_type": "stream",
     "text": [
      "Merging EWMA features back to master DataFrame...\n"
     ]
    }
   ],
   "source": [
    "print(\"Merging EWMA features back to master DataFrame...\")\n",
    "\n",
    "# Select only necessary columns from team_game_df for merging\n",
    "ewma_features_to_merge = team_game_df[['id', 'team'] + ewma_cols_generated].copy()\n",
    "\n",
    "# Merge for Home Team stats\n",
    "master_df_merged = pd.merge(\n",
    "    master_df,\n",
    "    ewma_features_to_merge,\n",
    "    left_on=['id', 'home_team'],\n",
    "    right_on=['id', 'team'],\n",
    "    how='left',\n",
    "    suffixes=('', '_y') # Avoid suffix collision initially\n",
    ")\n",
    "# Rename merged columns for home team\n",
    "home_ewma_rename_dict = {col: f'adj_hybrid_home_{col}' for col in ewma_cols_generated}\n",
    "master_df_merged.rename(columns=home_ewma_rename_dict, inplace=True)\n",
    "master_df_merged.drop(columns=['team'], inplace=True) # Drop the 'team' column from the merge\n",
    "\n",
    "# Merge for Away Team stats\n",
    "master_df_final = pd.merge(\n",
    "    master_df_merged,\n",
    "    ewma_features_to_merge,\n",
    "    left_on=['id', 'away_team'],\n",
    "    right_on=['id', 'team'],\n",
    "    how='left',\n",
    "    suffixes=('', '_y') # Avoid suffix collision\n",
    ")\n",
    "# Rename merged columns for away team\n",
    "away_ewma_rename_dict = {col: f'adj_hybrid_away_{col}' for col in ewma_cols_generated}\n",
    "master_df_final.rename(columns=away_ewma_rename_dict, inplace=True)\n",
    "master_df_final.drop(columns=['team'], inplace=True) # Drop the 'team' column from the merge\n",
    "\n",
    "# Clean up any potential duplicate '_y' columns if merging caused issues (shouldn't with suffixes)\n",
    "cols_to_drop = [col for col in master_df_final.columns if col.endswith('_y')]\n",
    "if cols_to_drop:\n",
    "    print(f\"Dropping potentially duplicated columns: {cols_to_drop}\")\n",
    "    master_df_final.drop(columns=cols_to_drop, inplace=True)\n",
    "master_df = master_df_final\n",
    "del master_df_merged, master_df_final # Clean up memory"
   ]
  },
  {
   "cell_type": "markdown",
   "metadata": {
    "id": "Z6-XjwFkjQcT"
   },
   "source": [
    "**Note: When we have FBS vs. FCS games, all of our shifted EWM data for the FCS team is very likely to be NaN because we don't have previous games**"
   ]
  },
  {
   "cell_type": "markdown",
   "metadata": {
    "id": "rOuRl2na7qpI"
   },
   "source": [
    "### Create Matchup Features"
   ]
  },
  {
   "cell_type": "code",
   "execution_count": 35,
   "metadata": {
    "colab": {
     "base_uri": "https://localhost:8080/"
    },
    "executionInfo": {
     "elapsed": 12,
     "status": "ok",
     "timestamp": 1745933529659,
     "user": {
      "displayName": "Austin Bervig",
      "userId": "09756579539086543276"
     },
     "user_tz": 300
    },
    "id": "PP_e_8cX7sIm",
    "outputId": "ca73e3f6-a250-4a3e-a09a-c3b77f5772fd"
   },
   "outputs": [
    {
     "name": "stdout",
     "output_type": "stream",
     "text": [
      "Creating matchup features (differences)...\n",
      "Generated 15 SEASONAL matchup difference features.\n"
     ]
    }
   ],
   "source": [
    "print(\"Creating matchup features (differences)...\")\n",
    "matchup_features_seasonal = []\n",
    "# Construct names based on the NEW 'seasonal_' prefixed EWMA columns\n",
    "for stat in stats_to_roll:\n",
    "  base_stat_name = stat.split('_')[-1]\n",
    "  if stat.startswith('offense_'):\n",
    "    def_equiv_stat_base = stat.replace(\"offense_\", \"\")\n",
    "  elif stat.startswith('defense_'):\n",
    "    def_equiv_stat_base = stat.replace(\"defense_\", \"\")\n",
    "  else:\n",
    "    def_equiv_stat_base = stat\n",
    "\n",
    "  home_off_col = f'adj_hybrid_home_offense_{def_equiv_stat_base}_ewma_lag1'\n",
    "  away_def_col = f'adj_hybrid_away_defense_{def_equiv_stat_base}_ewma_lag1'\n",
    "  away_off_col = f'adj_hybrid_away_offense_{def_equiv_stat_base}_ewma_lag1'\n",
    "  home_def_col = f'adj_hyrbid_home_defense_{def_equiv_stat_base}_ewma_lag1'\n",
    "\n",
    "  matchup_col_name_ho_ad = f'matchup_HO_v_AD_{def_equiv_stat_base}'\n",
    "  matchup_col_name_ao_hd = f'matchup_AO_v_HD_{def_equiv_stat_base}'\n",
    "\n",
    "  if home_off_col in master_df.columns and away_def_col in master_df.columns:\n",
    "      master_df[matchup_col_name_ho_ad] = master_df[home_off_col] - master_df[away_def_col]\n",
    "      if matchup_col_name_ho_ad not in matchup_features_seasonal: matchup_features_seasonal.append(matchup_col_name_ho_ad)\n",
    "\n",
    "  if away_off_col in master_df.columns and home_def_col in master_df.columns:\n",
    "      master_df[matchup_col_name_ao_hd] = master_df[away_off_col] - master_df[home_def_col]\n",
    "      if matchup_col_name_ao_hd not in matchup_features_seasonal: matchup_features_seasonal.append(matchup_col_name_ao_hd)\n",
    "\n",
    "print(f\"Generated {len(matchup_features_seasonal)} SEASONAL matchup difference features.\")\n",
    "\n",
    "# Clean up memory\n",
    "del team_game_df, home_stats, away_stats, ewma_features_to_merge"
   ]
  },
  {
   "cell_type": "markdown",
   "metadata": {
    "id": "Xp2vvViY59ed"
   },
   "source": [
    "### Returning Production Feature Creation"
   ]
  },
  {
   "cell_type": "code",
   "execution_count": 36,
   "metadata": {
    "colab": {
     "base_uri": "https://localhost:8080/"
    },
    "executionInfo": {
     "elapsed": 17,
     "status": "ok",
     "timestamp": 1745933532808,
     "user": {
      "displayName": "Austin Bervig",
      "userId": "09756579539086543276"
     },
     "user_tz": 300
    },
    "id": "4IcqaF5s6BNZ",
    "outputId": "3c58d49a-1ca8-40c6-9095-e68d17043c32"
   },
   "outputs": [
    {
     "name": "stdout",
     "output_type": "stream",
     "text": [
      "\n",
      "--- Phase 1, Step 3 (Continued): Returning Production Features ---\n",
      "Created 2 RP difference features.\n",
      "Created 6 conditionally active RP features (Weeks 1-4).\n",
      "\n",
      "--- Conditionally Active RP Features (Head - Week 1) ---\n",
      "   week  home_rp_usage_Wk1_4  away_rp_usage_Wk1_4  rp_usage_diff_Wk1_4  \\\n",
      "0     1                  0.5                  0.5                  0.0   \n",
      "1     1                  0.5                  0.5                  0.0   \n",
      "2     1                  0.5                  0.5                  0.0   \n",
      "3     1                  0.5                  0.5                  0.0   \n",
      "4     1                  0.5                  0.5                  0.0   \n",
      "\n",
      "   home_rp_percentPPA_Wk1_4  away_rp_percentPPA_Wk1_4  \\\n",
      "0                       0.5                       0.5   \n",
      "1                       0.5                       0.5   \n",
      "2                       0.5                       0.5   \n",
      "3                       0.5                       0.5   \n",
      "4                       0.5                       0.5   \n",
      "\n",
      "   rp_percentPPA_diff_Wk1_4  \n",
      "0                       0.0  \n",
      "1                       0.0  \n",
      "2                       0.0  \n",
      "3                       0.0  \n",
      "4                       0.0  \n",
      "\n",
      "--- Conditionally Active RP Features (Head - Week 5) ---\n",
      "     week  home_rp_usage_Wk1_4  away_rp_usage_Wk1_4  rp_usage_diff_Wk1_4  \\\n",
      "268     5                  0.0                  0.0                  0.0   \n",
      "269     5                  0.0                  0.0                  0.0   \n",
      "270     5                  0.0                  0.0                  0.0   \n",
      "271     5                  0.0                  0.0                  0.0   \n",
      "272     5                  0.0                  0.0                  0.0   \n",
      "\n",
      "     home_rp_percentPPA_Wk1_4  away_rp_percentPPA_Wk1_4  \\\n",
      "268                       0.0                       0.0   \n",
      "269                       0.0                       0.0   \n",
      "270                       0.0                       0.0   \n",
      "271                       0.0                       0.0   \n",
      "272                       0.0                       0.0   \n",
      "\n",
      "     rp_percentPPA_diff_Wk1_4  \n",
      "268                       0.0  \n",
      "269                       0.0  \n",
      "270                       0.0  \n",
      "271                       0.0  \n",
      "272                       0.0  \n",
      "\n",
      "Updating potential features list...\n",
      "Total potential features (incl. Seasonal EWMA & Conditional RP): 92\n"
     ]
    }
   ],
   "source": [
    "print(\"\\n--- Phase 1, Step 3 (Continued): Returning Production Features ---\")\n",
    "\n",
    "rp_features = []\n",
    "rp_diff_features = []\n",
    "\n",
    "# Create difference features and conditional features\n",
    "for metric in RP_METRICS_TO_USE:\n",
    "    home_rp_col = f'home_rp_{metric}'\n",
    "    away_rp_col = f'away_rp_{metric}'\n",
    "\n",
    "    # 1. Create Difference Feature\n",
    "    diff_col_name = f'rp_{metric}_diff'\n",
    "    master_df[diff_col_name] = master_df[home_rp_col] - master_df[away_rp_col]\n",
    "    rp_diff_features.append(diff_col_name)\n",
    "\n",
    "    # 2. Create Conditionally Active RP Features (Active Weeks 1-RP_ACTIVE_WEEKS)\n",
    "    home_rp_cond_col = f'{home_rp_col}_Wk1_{RP_ACTIVE_WEEKS}'\n",
    "    away_rp_cond_col = f'{away_rp_col}_Wk1_{RP_ACTIVE_WEEKS}'\n",
    "    diff_cond_col = f'{diff_col_name}_Wk1_{RP_ACTIVE_WEEKS}'\n",
    "\n",
    "    master_df[home_rp_cond_col] = np.where(master_df['week'] <= RP_ACTIVE_WEEKS, master_df[home_rp_col], 0.0)\n",
    "    master_df[away_rp_cond_col] = np.where(master_df['week'] <= RP_ACTIVE_WEEKS, master_df[away_rp_col], 0.0)\n",
    "    master_df[diff_cond_col] = np.where(master_df['week'] <= RP_ACTIVE_WEEKS, master_df[diff_col_name], 0.0)\n",
    "\n",
    "    # Add the conditional features to our list\n",
    "    rp_features.extend([home_rp_cond_col, away_rp_cond_col, diff_cond_col])\n",
    "\n",
    "print(f\"Created {len(rp_diff_features)} RP difference features.\")\n",
    "print(f\"Created {len(rp_features)} conditionally active RP features (Weeks 1-{RP_ACTIVE_WEEKS}).\")\n",
    "\n",
    "# Display example RP features\n",
    "print(\"\\n--- Conditionally Active RP Features (Head - Week 1) ---\")\n",
    "print(master_df[master_df['week']==1][['week'] + rp_features].head())\n",
    "print(\"\\n--- Conditionally Active RP Features (Head - Week 5) ---\")\n",
    "print(master_df[master_df['week']==5][['week'] + rp_features].head())\n",
    "\n",
    "\n",
    "# --- Update Potential Features List ---\n",
    "# Redefine the full list to include new RP features and SEASONAL EWMAs\n",
    "print(\"\\nUpdating potential features list...\")\n",
    "# Basic features (ensure these are still relevant and exist)\n",
    "basic_features = [col for col in master_df.columns if col in [\n",
    "    'home_pregame_elo_calc', 'away_pregame_elo_calc', 'neutral_site',\n",
    "    'conference_game', 'season', 'week', 'elo_diff_calc']]\n",
    "\n",
    "# Get names of the newly created seasonal EWMA and matchup columns\n",
    "ewma_cols = [col for col in master_df.columns if '_ewma_lag1' in col]\n",
    "matchup_cols = [col for col in master_df.columns if 'matchup_' in col]\n",
    "\n",
    "# The new RP features are in the 'rp_features' list already\n",
    "\n",
    "potential_features = basic_features + ewma_cols + matchup_cols + rp_features\n",
    "# Remove potential duplicates if any column accidentally got added twice\n",
    "potential_features = sorted(list(set(potential_features)))\n",
    "\n",
    "print(f\"Total potential features (incl. Seasonal EWMA & Conditional RP): {len(potential_features)}\")"
   ]
  },
  {
   "cell_type": "markdown",
   "metadata": {
    "id": "X2VOIoeu7zUe"
   },
   "source": [
    "### Inspect Engineered Features"
   ]
  },
  {
   "cell_type": "code",
   "execution_count": 37,
   "metadata": {
    "colab": {
     "base_uri": "https://localhost:8080/"
    },
    "executionInfo": {
     "elapsed": 30,
     "status": "ok",
     "timestamp": 1745933537843,
     "user": {
      "displayName": "Austin Bervig",
      "userId": "09756579539086543276"
     },
     "user_tz": 300
    },
    "id": "NKyITBC-70vX",
    "outputId": "f9817e3c-7a23-4fed-d74d-5244f590f374"
   },
   "outputs": [
    {
     "name": "stdout",
     "output_type": "stream",
     "text": [
      "\n",
      "--- Inspecting Engineered Features (Head) ---\n",
      "          id  season  week       home_team         away_team  \\\n",
      "0  332410006    2013     1   South Alabama     Southern Utah   \n",
      "1  332410023    2013     1  San José State  Sacramento State   \n",
      "2  332410041    2013     1           UConn            Towson   \n",
      "3  332410062    2013     1         Hawai'i               USC   \n",
      "4  332410084    2013     1         Indiana     Indiana State   \n",
      "\n",
      "   adj_hybrid_home_offense_ppa_ewma_lag1  \\\n",
      "0                                    NaN   \n",
      "1                                    NaN   \n",
      "2                                    NaN   \n",
      "3                                    NaN   \n",
      "4                                    NaN   \n",
      "\n",
      "   adj_hybrid_home_offense_successRate_ewma_lag1  \\\n",
      "0                                            NaN   \n",
      "1                                            NaN   \n",
      "2                                            NaN   \n",
      "3                                            NaN   \n",
      "4                                            NaN   \n",
      "\n",
      "   adj_hybrid_home_offense_explosiveness_ewma_lag1  \\\n",
      "0                                              NaN   \n",
      "1                                              NaN   \n",
      "2                                              NaN   \n",
      "3                                              NaN   \n",
      "4                                              NaN   \n",
      "\n",
      "   adj_hybrid_home_offense_rushingPlays_ppa_ewma_lag1  \\\n",
      "0                                                NaN    \n",
      "1                                                NaN    \n",
      "2                                                NaN    \n",
      "3                                                NaN    \n",
      "4                                                NaN    \n",
      "\n",
      "   adj_hybrid_home_offense_rushingPlays_successRate_ewma_lag1  ...  \\\n",
      "0                                                NaN           ...   \n",
      "1                                                NaN           ...   \n",
      "2                                                NaN           ...   \n",
      "3                                                NaN           ...   \n",
      "4                                                NaN           ...   \n",
      "\n",
      "   matchup_HO_v_AD_standardDowns_explosiveness  \\\n",
      "0                                          NaN   \n",
      "1                                          NaN   \n",
      "2                                          NaN   \n",
      "3                                          NaN   \n",
      "4                                          NaN   \n",
      "\n",
      "   matchup_HO_v_AD_passingDowns_ppa  matchup_HO_v_AD_passingDowns_successRate  \\\n",
      "0                               NaN                                       NaN   \n",
      "1                               NaN                                       NaN   \n",
      "2                               NaN                                       NaN   \n",
      "3                               NaN                                       NaN   \n",
      "4                               NaN                                       NaN   \n",
      "\n",
      "   matchup_HO_v_AD_passingDowns_explosiveness  home_rp_usage_Wk1_4  \\\n",
      "0                                         NaN                  0.5   \n",
      "1                                         NaN                  0.5   \n",
      "2                                         NaN                  0.5   \n",
      "3                                         NaN                  0.5   \n",
      "4                                         NaN                  0.5   \n",
      "\n",
      "   away_rp_usage_Wk1_4  rp_usage_diff_Wk1_4  home_rp_percentPPA_Wk1_4  \\\n",
      "0                  0.5                  0.0                       0.5   \n",
      "1                  0.5                  0.0                       0.5   \n",
      "2                  0.5                  0.0                       0.5   \n",
      "3                  0.5                  0.0                       0.5   \n",
      "4                  0.5                  0.0                       0.5   \n",
      "\n",
      "   away_rp_percentPPA_Wk1_4  rp_percentPPA_diff_Wk1_4  \n",
      "0                       0.5                       0.0  \n",
      "1                       0.5                       0.0  \n",
      "2                       0.5                       0.0  \n",
      "3                       0.5                       0.0  \n",
      "4                       0.5                       0.0  \n",
      "\n",
      "[5 rows x 90 columns]\n",
      "\n",
      "--- NaN check for first few EWMA features ---\n",
      "  Feature 'adj_hybrid_home_offense_ppa_ewma_lag1' missing: 1.65%\n",
      "  Feature 'adj_hybrid_home_offense_successRate_ewma_lag1' missing: 1.65%\n",
      "  Feature 'adj_hybrid_home_offense_explosiveness_ewma_lag1' missing: 1.65%\n",
      "  Feature 'adj_hybrid_home_offense_rushingPlays_ppa_ewma_lag1' missing: 1.65%\n",
      "  Feature 'adj_hybrid_home_offense_rushingPlays_successRate_ewma_lag1' missing: 1.65%\n",
      "  Feature 'adj_hybrid_home_offense_rushingPlays_explosiveness_ewma_lag1' missing: 1.65%\n",
      "  Feature 'adj_hybrid_home_offense_passingPlays_ppa_ewma_lag1' missing: 1.65%\n",
      "  Feature 'adj_hybrid_home_offense_passingPlays_successRate_ewma_lag1' missing: 1.65%\n",
      "  Feature 'adj_hybrid_home_offense_passingPlays_explosiveness_ewma_lag1' missing: 1.66%\n",
      "  Feature 'adj_hybrid_home_offense_standardDowns_ppa_ewma_lag1' missing: 1.65%\n",
      "  Feature 'adj_hybrid_home_offense_standardDowns_successRate_ewma_lag1' missing: 1.65%\n",
      "  Feature 'adj_hybrid_home_offense_standardDowns_explosiveness_ewma_lag1' missing: 1.65%\n",
      "  Feature 'adj_hybrid_home_offense_passingDowns_ppa_ewma_lag1' missing: 1.65%\n",
      "  Feature 'adj_hybrid_home_offense_passingDowns_successRate_ewma_lag1' missing: 1.65%\n",
      "  Feature 'adj_hybrid_home_offense_passingDowns_explosiveness_ewma_lag1' missing: 1.66%\n",
      "  Feature 'adj_hybrid_home_defense_ppa_ewma_lag1' missing: 1.65%\n",
      "  Feature 'adj_hybrid_home_defense_successRate_ewma_lag1' missing: 1.65%\n",
      "  Feature 'adj_hybrid_home_defense_explosiveness_ewma_lag1' missing: 1.65%\n",
      "  Feature 'adj_hybrid_home_defense_rushingPlays_ppa_ewma_lag1' missing: 1.65%\n",
      "  Feature 'adj_hybrid_home_defense_rushingPlays_successRate_ewma_lag1' missing: 1.65%\n",
      "  Feature 'adj_hybrid_home_defense_rushingPlays_explosiveness_ewma_lag1' missing: 1.66%\n",
      "  Feature 'adj_hybrid_home_defense_passingPlays_ppa_ewma_lag1' missing: 1.65%\n",
      "  Feature 'adj_hybrid_home_defense_passingPlays_successRate_ewma_lag1' missing: 1.65%\n",
      "  Feature 'adj_hybrid_home_defense_passingPlays_explosiveness_ewma_lag1' missing: 1.65%\n",
      "  Feature 'adj_hybrid_home_defense_standardDowns_ppa_ewma_lag1' missing: 1.65%\n",
      "  Feature 'adj_hybrid_home_defense_standardDowns_successRate_ewma_lag1' missing: 1.65%\n",
      "  Feature 'adj_hybrid_home_defense_standardDowns_explosiveness_ewma_lag1' missing: 1.65%\n",
      "  Feature 'adj_hybrid_home_defense_passingDowns_ppa_ewma_lag1' missing: 1.65%\n",
      "  Feature 'adj_hybrid_home_defense_passingDowns_successRate_ewma_lag1' missing: 1.65%\n",
      "  Feature 'adj_hybrid_home_defense_passingDowns_explosiveness_ewma_lag1' missing: 1.68%\n",
      "  Feature 'adj_hybrid_home_turnovers_committed_ewma_lag1' missing: 1.65%\n",
      "  Feature 'adj_hybrid_home_turnovers_forced_ewma_lag1' missing: 1.65%\n",
      "  Feature 'adj_hybrid_away_offense_ppa_ewma_lag1' missing: 3.36%\n",
      "  Feature 'adj_hybrid_away_offense_successRate_ewma_lag1' missing: 3.36%\n",
      "  Feature 'adj_hybrid_away_offense_explosiveness_ewma_lag1' missing: 3.38%\n",
      "  Feature 'adj_hybrid_away_offense_rushingPlays_ppa_ewma_lag1' missing: 3.36%\n",
      "  Feature 'adj_hybrid_away_offense_rushingPlays_successRate_ewma_lag1' missing: 3.36%\n",
      "  Feature 'adj_hybrid_away_offense_rushingPlays_explosiveness_ewma_lag1' missing: 3.42%\n",
      "  Feature 'adj_hybrid_away_offense_passingPlays_ppa_ewma_lag1' missing: 3.36%\n",
      "  Feature 'adj_hybrid_away_offense_passingPlays_successRate_ewma_lag1' missing: 3.36%\n",
      "  Feature 'adj_hybrid_away_offense_passingPlays_explosiveness_ewma_lag1' missing: 3.42%\n",
      "  Feature 'adj_hybrid_away_offense_standardDowns_ppa_ewma_lag1' missing: 3.36%\n",
      "  Feature 'adj_hybrid_away_offense_standardDowns_successRate_ewma_lag1' missing: 3.36%\n",
      "  Feature 'adj_hybrid_away_offense_standardDowns_explosiveness_ewma_lag1' missing: 3.39%\n",
      "  Feature 'adj_hybrid_away_offense_passingDowns_ppa_ewma_lag1' missing: 3.36%\n",
      "  Feature 'adj_hybrid_away_offense_passingDowns_successRate_ewma_lag1' missing: 3.36%\n",
      "  Feature 'adj_hybrid_away_offense_passingDowns_explosiveness_ewma_lag1' missing: 3.56%\n",
      "  Feature 'adj_hybrid_away_defense_ppa_ewma_lag1' missing: 3.36%\n",
      "  Feature 'adj_hybrid_away_defense_successRate_ewma_lag1' missing: 3.36%\n",
      "  Feature 'adj_hybrid_away_defense_explosiveness_ewma_lag1' missing: 3.36%\n",
      "  Feature 'adj_hybrid_away_defense_rushingPlays_ppa_ewma_lag1' missing: 3.37%\n",
      "  Feature 'adj_hybrid_away_defense_rushingPlays_successRate_ewma_lag1' missing: 3.36%\n",
      "  Feature 'adj_hybrid_away_defense_rushingPlays_explosiveness_ewma_lag1' missing: 3.38%\n",
      "  Feature 'adj_hybrid_away_defense_passingPlays_ppa_ewma_lag1' missing: 3.36%\n",
      "  Feature 'adj_hybrid_away_defense_passingPlays_successRate_ewma_lag1' missing: 3.36%\n",
      "  Feature 'adj_hybrid_away_defense_passingPlays_explosiveness_ewma_lag1' missing: 3.37%\n",
      "  Feature 'adj_hybrid_away_defense_standardDowns_ppa_ewma_lag1' missing: 3.36%\n",
      "  Feature 'adj_hybrid_away_defense_standardDowns_successRate_ewma_lag1' missing: 3.36%\n",
      "  Feature 'adj_hybrid_away_defense_standardDowns_explosiveness_ewma_lag1' missing: 3.37%\n",
      "  Feature 'adj_hybrid_away_defense_passingDowns_ppa_ewma_lag1' missing: 3.36%\n",
      "  Feature 'adj_hybrid_away_defense_passingDowns_successRate_ewma_lag1' missing: 3.36%\n",
      "  Feature 'adj_hybrid_away_defense_passingDowns_explosiveness_ewma_lag1' missing: 3.40%\n",
      "  Feature 'adj_hybrid_away_turnovers_committed_ewma_lag1' missing: 3.32%\n",
      "  Feature 'adj_hybrid_away_turnovers_forced_ewma_lag1' missing: 3.32%\n",
      "  Feature 'matchup_HO_v_AD_ppa' missing: 3.45%\n",
      "  Feature 'matchup_HO_v_AD_successRate' missing: 3.45%\n",
      "  Feature 'matchup_HO_v_AD_explosiveness' missing: 3.45%\n",
      "  Feature 'matchup_HO_v_AD_rushingPlays_ppa' missing: 3.46%\n",
      "  Feature 'matchup_HO_v_AD_rushingPlays_successRate' missing: 3.45%\n",
      "  Feature 'matchup_HO_v_AD_rushingPlays_explosiveness' missing: 3.47%\n",
      "  Feature 'matchup_HO_v_AD_passingPlays_ppa' missing: 3.45%\n",
      "  Feature 'matchup_HO_v_AD_passingPlays_successRate' missing: 3.45%\n",
      "  Feature 'matchup_HO_v_AD_passingPlays_explosiveness' missing: 3.47%\n",
      "  Feature 'matchup_HO_v_AD_standardDowns_ppa' missing: 3.45%\n",
      "  Feature 'matchup_HO_v_AD_standardDowns_successRate' missing: 3.45%\n",
      "  Feature 'matchup_HO_v_AD_standardDowns_explosiveness' missing: 3.46%\n",
      "  Feature 'matchup_HO_v_AD_passingDowns_ppa' missing: 3.45%\n",
      "  Feature 'matchup_HO_v_AD_passingDowns_successRate' missing: 3.45%\n",
      "  Feature 'matchup_HO_v_AD_passingDowns_explosiveness' missing: 3.49%\n",
      "  Feature 'home_rp_usage_Wk1_4' missing: 0.00%\n",
      "  Feature 'away_rp_usage_Wk1_4' missing: 0.00%\n",
      "  Feature 'rp_usage_diff_Wk1_4' missing: 0.00%\n",
      "  Feature 'home_rp_percentPPA_Wk1_4' missing: 0.00%\n",
      "  Feature 'away_rp_percentPPA_Wk1_4' missing: 0.00%\n",
      "  Feature 'rp_percentPPA_diff_Wk1_4' missing: 0.00%\n"
     ]
    }
   ],
   "source": [
    "print(\"\\n--- Inspecting Engineered Features (Head) ---\")\n",
    "engineered_feature_cols = [col for col in master_df.columns if '_ewma_lag1' in col or 'matchup_' in col] + rp_features\n",
    "print(master_df[['id', 'season', 'week', 'home_team', 'away_team'] + engineered_feature_cols].head())\n",
    "\n",
    "# Check for NaNs introduced by lagging/EWMA (expected early season)\n",
    "print(\"\\n--- NaN check for first few EWMA features ---\")\n",
    "missing_pcts = []\n",
    "for col in engineered_feature_cols: # Check first few\n",
    "    missing_pct = master_df[col].isnull().mean() * 100\n",
    "    missing_pcts.append(missing_pct)\n",
    "    print(f\"  Feature '{col}' missing: {missing_pct:.2f}%\")"
   ]
  },
  {
   "cell_type": "markdown",
   "metadata": {
    "id": "wv_N4Sb-A-9F"
   },
   "source": [
    "## Step 4: Handling Missing Data"
   ]
  },
  {
   "cell_type": "markdown",
   "metadata": {
    "id": "uR8BxnbYBIcf"
   },
   "source": [
    "### Indentify and Quantify Missing Feature Values"
   ]
  },
  {
   "cell_type": "code",
   "execution_count": 38,
   "metadata": {
    "colab": {
     "base_uri": "https://localhost:8080/"
    },
    "executionInfo": {
     "elapsed": 12,
     "status": "ok",
     "timestamp": 1745933575799,
     "user": {
      "displayName": "Austin Bervig",
      "userId": "09756579539086543276"
     },
     "user_tz": 300
    },
    "id": "Q085mG4QBBzt",
    "outputId": "6ca1fc0a-0a4a-4051-d378-d6b00e287c5c"
   },
   "outputs": [
    {
     "name": "stdout",
     "output_type": "stream",
     "text": [
      "Checking missing values for 92 potential features...\n",
      "\n",
      "Features with Missing Values (%):\n",
      "adj_hybrid_away_offense_passingDowns_explosiveness_ewma_lag1     3.558572\n",
      "matchup_HO_v_AD_passingDowns_explosiveness                       3.486578\n",
      "matchup_HO_v_AD_passingPlays_explosiveness                       3.466008\n",
      "matchup_HO_v_AD_rushingPlays_explosiveness                       3.466008\n",
      "matchup_HO_v_AD_rushingPlays_ppa                                 3.455724\n",
      "matchup_HO_v_AD_standardDowns_explosiveness                      3.455724\n",
      "matchup_HO_v_AD_explosiveness                                    3.445439\n",
      "matchup_HO_v_AD_successRate                                      3.445439\n",
      "matchup_HO_v_AD_standardDowns_ppa                                3.445439\n",
      "matchup_HO_v_AD_passingDowns_ppa                                 3.445439\n",
      "matchup_HO_v_AD_passingDowns_successRate                         3.445439\n",
      "matchup_HO_v_AD_ppa                                              3.445439\n",
      "matchup_HO_v_AD_standardDowns_successRate                        3.445439\n",
      "matchup_HO_v_AD_rushingPlays_successRate                         3.445439\n",
      "matchup_HO_v_AD_passingPlays_successRate                         3.445439\n",
      "matchup_HO_v_AD_passingPlays_ppa                                 3.445439\n",
      "adj_hybrid_away_offense_rushingPlays_explosiveness_ewma_lag1     3.424869\n",
      "adj_hybrid_away_offense_passingPlays_explosiveness_ewma_lag1     3.424869\n",
      "adj_hybrid_away_defense_passingDowns_explosiveness_ewma_lag1     3.404299\n",
      "adj_hybrid_away_offense_standardDowns_explosiveness_ewma_lag1    3.394014\n",
      "adj_hybrid_away_offense_explosiveness_ewma_lag1                  3.383729\n",
      "adj_hybrid_away_defense_rushingPlays_explosiveness_ewma_lag1     3.383729\n",
      "adj_hybrid_away_defense_standardDowns_explosiveness_ewma_lag1    3.373444\n",
      "adj_hybrid_away_defense_passingPlays_explosiveness_ewma_lag1     3.373444\n",
      "adj_hybrid_away_defense_rushingPlays_ppa_ewma_lag1               3.373444\n",
      "adj_hybrid_away_defense_rushingPlays_successRate_ewma_lag1       3.363160\n",
      "adj_hybrid_away_defense_explosiveness_ewma_lag1                  3.363160\n",
      "adj_hybrid_away_defense_passingDowns_successRate_ewma_lag1       3.363160\n",
      "adj_hybrid_away_offense_standardDowns_ppa_ewma_lag1              3.363160\n",
      "adj_hybrid_away_offense_rushingPlays_successRate_ewma_lag1       3.363160\n",
      "adj_hybrid_away_offense_rushingPlays_ppa_ewma_lag1               3.363160\n",
      "adj_hybrid_away_offense_ppa_ewma_lag1                            3.363160\n",
      "adj_hybrid_away_offense_passingPlays_ppa_ewma_lag1               3.363160\n",
      "adj_hybrid_away_offense_passingPlays_successRate_ewma_lag1       3.363160\n",
      "adj_hybrid_away_offense_passingDowns_ppa_ewma_lag1               3.363160\n",
      "adj_hybrid_away_offense_passingDowns_successRate_ewma_lag1       3.363160\n",
      "adj_hybrid_away_defense_standardDowns_ppa_ewma_lag1              3.363160\n",
      "adj_hybrid_away_defense_successRate_ewma_lag1                    3.363160\n",
      "adj_hybrid_away_defense_standardDowns_successRate_ewma_lag1      3.363160\n",
      "adj_hybrid_away_defense_passingDowns_ppa_ewma_lag1               3.363160\n",
      "adj_hybrid_away_defense_ppa_ewma_lag1                            3.363160\n",
      "adj_hybrid_away_defense_passingPlays_successRate_ewma_lag1       3.363160\n",
      "adj_hybrid_away_defense_passingPlays_ppa_ewma_lag1               3.363160\n",
      "adj_hybrid_away_offense_standardDowns_successRate_ewma_lag1      3.363160\n",
      "adj_hybrid_away_offense_successRate_ewma_lag1                    3.363160\n",
      "adj_hybrid_away_turnovers_committed_ewma_lag1                    3.322020\n",
      "adj_hybrid_away_turnovers_forced_ewma_lag1                       3.322020\n",
      "adj_hybrid_home_defense_passingDowns_explosiveness_ewma_lag1     1.676437\n",
      "adj_hybrid_home_offense_passingDowns_explosiveness_ewma_lag1     1.655868\n",
      "adj_hybrid_home_defense_rushingPlays_explosiveness_ewma_lag1     1.655868\n",
      "adj_hybrid_home_offense_passingPlays_explosiveness_ewma_lag1     1.655868\n",
      "adj_hybrid_home_defense_standardDowns_explosiveness_ewma_lag1    1.645583\n",
      "adj_hybrid_home_defense_passingDowns_successRate_ewma_lag1       1.645583\n",
      "adj_hybrid_home_defense_passingPlays_explosiveness_ewma_lag1     1.645583\n",
      "adj_hybrid_home_defense_passingPlays_successRate_ewma_lag1       1.645583\n",
      "adj_hybrid_home_defense_passingPlays_ppa_ewma_lag1               1.645583\n",
      "adj_hybrid_home_defense_ppa_ewma_lag1                            1.645583\n",
      "adj_hybrid_home_defense_rushingPlays_ppa_ewma_lag1               1.645583\n",
      "adj_hybrid_home_defense_passingDowns_ppa_ewma_lag1               1.645583\n",
      "adj_hybrid_home_defense_explosiveness_ewma_lag1                  1.645583\n",
      "adj_hybrid_home_offense_standardDowns_ppa_ewma_lag1              1.645583\n",
      "adj_hybrid_home_offense_standardDowns_explosiveness_ewma_lag1    1.645583\n",
      "adj_hybrid_home_offense_rushingPlays_successRate_ewma_lag1       1.645583\n",
      "adj_hybrid_home_offense_rushingPlays_ppa_ewma_lag1               1.645583\n",
      "adj_hybrid_home_offense_rushingPlays_explosiveness_ewma_lag1     1.645583\n",
      "adj_hybrid_home_offense_ppa_ewma_lag1                            1.645583\n",
      "adj_hybrid_home_offense_passingPlays_successRate_ewma_lag1       1.645583\n",
      "adj_hybrid_home_offense_passingPlays_ppa_ewma_lag1               1.645583\n",
      "adj_hybrid_home_offense_passingDowns_successRate_ewma_lag1       1.645583\n",
      "adj_hybrid_home_offense_passingDowns_ppa_ewma_lag1               1.645583\n",
      "adj_hybrid_home_defense_successRate_ewma_lag1                    1.645583\n",
      "adj_hybrid_home_offense_explosiveness_ewma_lag1                  1.645583\n",
      "adj_hybrid_home_defense_standardDowns_successRate_ewma_lag1      1.645583\n",
      "adj_hybrid_home_defense_standardDowns_ppa_ewma_lag1              1.645583\n",
      "adj_hybrid_home_defense_rushingPlays_successRate_ewma_lag1       1.645583\n",
      "adj_hybrid_home_offense_standardDowns_successRate_ewma_lag1      1.645583\n",
      "adj_hybrid_home_turnovers_forced_ewma_lag1                       1.645583\n",
      "adj_hybrid_home_turnovers_committed_ewma_lag1                    1.645583\n",
      "adj_hybrid_home_offense_successRate_ewma_lag1                    1.645583\n",
      "dtype: float64\n"
     ]
    }
   ],
   "source": [
    "# Use the 'potential_features' list created at the end of Step 3\n",
    "# If you didn't create it, define it again:\n",
    "# all_engineered_features = [col for col in master_df.columns if '_ewma_lag1' in col or 'matchup_' in col]\n",
    "# potential_features = basic_features + all_engineered_features # basic_features defined in step 2\n",
    "\n",
    "# Calculate missing percentage for features we might use\n",
    "print(f\"Checking missing values for {len(potential_features)} potential features...\")\n",
    "missing_summary = master_df[potential_features].isnull().mean().sort_values(ascending=False) * 100\n",
    "missing_summary = missing_summary[missing_summary > 0] # Filter to only show columns with missing data\n",
    "\n",
    "print(\"\\nFeatures with Missing Values (%):\")\n",
    "if missing_summary.empty:\n",
    "    print(\"No missing values found in the potential feature set.\")\n",
    "else:\n",
    "    with pd.option_context('display.max_rows', None): # Ensure all rows are printed\n",
    "        print(missing_summary)"
   ]
  },
  {
   "cell_type": "markdown",
   "metadata": {
    "id": "5Xt4MDOABOLu"
   },
   "source": [
    "### Decide on Imputation Strategy\n",
    "\n",
    "Option A: Let Model Handle (XGBoost/LightGBM) -- Chosen for Now\n",
    "\n",
    "* These models can often learn optimal imputation strategy internally\n",
    "* PROS: Simple, potentially optimal performance\n",
    "* CONS: Requires model that supports it.\n",
    "\n",
    "Option B: Mean/Median Imputation:\n",
    "\n",
    "\n",
    "*   Replace NaN with mean/median calculated ONLY from the training set\n",
    "*   PROS: Works for any model\n",
    "*   CONS: Distorts feature distribution, leaks info if mean/median calculated globally\n",
    "\n",
    "Option C: Zero Imputation\n",
    "* Replace NaN with 0\n",
    "* PROS: Simple\n",
    "* CONS: Often inappropriate for rates/averages, changes feature meaning.\n",
    "\n"
   ]
  },
  {
   "cell_type": "markdown",
   "metadata": {
    "id": "P4PU8CWbCJ3-"
   },
   "source": [
    "### Implement Strategy"
   ]
  },
  {
   "cell_type": "code",
   "execution_count": 39,
   "metadata": {
    "executionInfo": {
     "elapsed": 4,
     "status": "ok",
     "timestamp": 1745933581097,
     "user": {
      "displayName": "Austin Bervig",
      "userId": "09756579539086543276"
     },
     "user_tz": 300
    },
    "id": "y3ooEtvdBQdu"
   },
   "outputs": [],
   "source": [
    "# If we were doing Option B (Mean Imputation - Incorrect Global Example for Demo):\n",
    "# print(\"\\n--- Example: Global Mean Imputation (NOT RECOMMENDED - DATA LEAKAGE) ---\")\n",
    "# features_to_impute = missing_summary.index.tolist() # Columns identified with NaNs\n",
    "# for col in features_to_impute:\n",
    "#    mean_val = master_df[col].mean() # GLOBAL mean - incorrect for proper validation\n",
    "#    master_df[col].fillna(mean_val, inplace=True)\n",
    "#    print(f\"Imputed '{col}' with global mean: {mean_val:.4f}\")\n",
    "# print(\"--- End Example ---\")"
   ]
  },
  {
   "cell_type": "markdown",
   "metadata": {
    "id": "HYVSMzTmP3FA"
   },
   "source": [
    "### Drop FCS Games"
   ]
  },
  {
   "cell_type": "code",
   "execution_count": 40,
   "metadata": {
    "colab": {
     "base_uri": "https://localhost:8080/"
    },
    "executionInfo": {
     "elapsed": 41,
     "status": "ok",
     "timestamp": 1745933581822,
     "user": {
      "displayName": "Austin Bervig",
      "userId": "09756579539086543276"
     },
     "user_tz": 300
    },
    "id": "cqU43RqcP5JW",
    "outputId": "75aa6704-4275-465c-e3cf-531cd53293f9"
   },
   "outputs": [
    {
     "name": "stdout",
     "output_type": "stream",
     "text": [
      "\n",
      "--- Filtering Out Games Against FCS Opponents ---\n",
      "Dropped 1171 games where away_team division is 'fcs'.\n",
      "Remaining rows in master_df: 8552\n"
     ]
    }
   ],
   "source": [
    "# Add this cell AFTER all feature engineering (EWMA, RP, Matchups) is complete\n",
    "# and merged into master_df, but BEFORE splitting into train/val/test\n",
    "\n",
    "print(\"\\n--- Filtering Out Games Against FCS Opponents ---\")\n",
    "\n",
    "# Assuming 'away_division' column exists and indicates 'fcs'\n",
    "if 'away_division' in master_df.columns:\n",
    "    initial_rows = len(master_df)\n",
    "    fcs_games_count = (master_df['away_division'] == 'fcs').sum()\n",
    "\n",
    "    if fcs_games_count > 0:\n",
    "        master_df = master_df[master_df['away_division'] != 'fcs'].copy()\n",
    "        rows_dropped = initial_rows - len(master_df)\n",
    "        print(f\"Dropped {rows_dropped} games where away_team division is 'fcs'.\")\n",
    "        print(f\"Remaining rows in master_df: {len(master_df)}\")\n",
    "        # Reset index after dropping\n",
    "        master_df.reset_index(drop=True, inplace=True)\n",
    "    else:\n",
    "        print(\"No games found with away_team division marked as 'fcs'.\")\n",
    "elif 'away_conference' in master_df.columns:\n",
    "     # Alternative: Infer FCS based on conference if division is unreliable\n",
    "     # You would need a list of known FCS conferences\n",
    "     fcs_conferences = ['Big Sky', 'CAA', 'Ivy League', 'MEAC', 'MVFC', 'NEC', 'OVC', 'Patriot', 'Pioneer', 'Southern', 'Southland', 'SWAC'] # Example list, verify!\n",
    "     initial_rows = len(master_df)\n",
    "     fcs_games_mask = master_df['away_conference'].isin(fcs_conferences)\n",
    "     fcs_games_count = fcs_games_mask.sum()\n",
    "     if fcs_games_count > 0:\n",
    "        master_df = master_df[~fcs_games_mask].copy()\n",
    "        rows_dropped = initial_rows - len(master_df)\n",
    "        print(f\"Dropped {rows_dropped} games based on away_team conference possibly being FCS.\")\n",
    "        print(f\"Remaining rows in master_df: {len(master_df)}\")\n",
    "        master_df.reset_index(drop=True, inplace=True)\n",
    "     else:\n",
    "        print(\"No games found with away_team in known FCS conferences.\")\n",
    "\n",
    "else:\n",
    "    print(\"Warning: Cannot identify FCS opponents ('away_division' or 'away_conference' column missing/unreliable). Skipping FCS game removal.\")\n",
    "\n",
    "# Now, proceed with train/val/test splits using the filtered master_df\n",
    "# ... subsequent code for splits, feature selection, training ..."
   ]
  },
  {
   "cell_type": "markdown",
   "metadata": {
    "id": "GkL-xdHxCOkr"
   },
   "source": [
    "### Verify"
   ]
  },
  {
   "cell_type": "code",
   "execution_count": 41,
   "metadata": {
    "colab": {
     "base_uri": "https://localhost:8080/"
    },
    "executionInfo": {
     "elapsed": 12,
     "status": "ok",
     "timestamp": 1745933598712,
     "user": {
      "displayName": "Austin Bervig",
      "userId": "09756579539086543276"
     },
     "user_tz": 300
    },
    "id": "RahTep7cCQ3I",
    "outputId": "0ab21779-fa39-416d-8921-6aa7c04f08ba"
   },
   "outputs": [
    {
     "name": "stdout",
     "output_type": "stream",
     "text": [
      "\n",
      "Verifying NaN status (Option A - NaNs should remain):\n",
      "Missing values changed unexpectedly without imputation.\n",
      "\n",
      "Remaining Features with Missing Values (%):\n",
      "matchup_HO_v_AD_passingDowns_explosiveness                       1.274556\n",
      "matchup_HO_v_AD_passingPlays_explosiveness                       1.239476\n",
      "matchup_HO_v_AD_rushingPlays_explosiveness                       1.239476\n",
      "matchup_HO_v_AD_passingPlays_ppa                                 1.227783\n",
      "matchup_HO_v_AD_standardDowns_successRate                        1.227783\n",
      "matchup_HO_v_AD_passingPlays_successRate                         1.227783\n",
      "matchup_HO_v_AD_standardDowns_ppa                                1.227783\n",
      "matchup_HO_v_AD_ppa                                              1.227783\n",
      "matchup_HO_v_AD_explosiveness                                    1.227783\n",
      "matchup_HO_v_AD_successRate                                      1.227783\n",
      "matchup_HO_v_AD_passingDowns_successRate                         1.227783\n",
      "matchup_HO_v_AD_passingDowns_ppa                                 1.227783\n",
      "matchup_HO_v_AD_rushingPlays_ppa                                 1.227783\n",
      "matchup_HO_v_AD_standardDowns_explosiveness                      1.227783\n",
      "matchup_HO_v_AD_rushingPlays_successRate                         1.227783\n",
      "adj_hybrid_away_defense_passingDowns_explosiveness_ewma_lag1     1.192703\n",
      "adj_hybrid_away_offense_rushingPlays_explosiveness_ewma_lag1     1.157624\n",
      "adj_hybrid_away_defense_passingPlays_explosiveness_ewma_lag1     1.157624\n",
      "adj_hybrid_away_defense_rushingPlays_explosiveness_ewma_lag1     1.157624\n",
      "adj_hybrid_away_offense_passingDowns_explosiveness_ewma_lag1     1.157624\n",
      "adj_hybrid_away_defense_standardDowns_explosiveness_ewma_lag1    1.145931\n",
      "adj_hybrid_away_defense_passingDowns_ppa_ewma_lag1               1.145931\n",
      "adj_hybrid_away_defense_passingDowns_successRate_ewma_lag1       1.145931\n",
      "adj_hybrid_away_defense_passingPlays_ppa_ewma_lag1               1.145931\n",
      "adj_hybrid_away_defense_ppa_ewma_lag1                            1.145931\n",
      "adj_hybrid_away_defense_rushingPlays_ppa_ewma_lag1               1.145931\n",
      "adj_hybrid_away_defense_passingPlays_successRate_ewma_lag1       1.145931\n",
      "adj_hybrid_away_defense_explosiveness_ewma_lag1                  1.145931\n",
      "adj_hybrid_away_offense_standardDowns_ppa_ewma_lag1              1.145931\n",
      "adj_hybrid_away_offense_standardDowns_explosiveness_ewma_lag1    1.145931\n",
      "adj_hybrid_away_offense_rushingPlays_successRate_ewma_lag1       1.145931\n",
      "adj_hybrid_away_offense_rushingPlays_ppa_ewma_lag1               1.145931\n",
      "adj_hybrid_away_offense_ppa_ewma_lag1                            1.145931\n",
      "adj_hybrid_away_offense_passingPlays_successRate_ewma_lag1       1.145931\n",
      "adj_hybrid_away_offense_passingPlays_ppa_ewma_lag1               1.145931\n",
      "adj_hybrid_away_offense_passingPlays_explosiveness_ewma_lag1     1.145931\n",
      "adj_hybrid_away_defense_standardDowns_successRate_ewma_lag1      1.145931\n",
      "adj_hybrid_away_offense_passingDowns_successRate_ewma_lag1       1.145931\n",
      "adj_hybrid_away_offense_passingDowns_ppa_ewma_lag1               1.145931\n",
      "adj_hybrid_away_offense_explosiveness_ewma_lag1                  1.145931\n",
      "adj_hybrid_away_defense_standardDowns_ppa_ewma_lag1              1.145931\n",
      "adj_hybrid_away_defense_successRate_ewma_lag1                    1.145931\n",
      "adj_hybrid_away_defense_rushingPlays_successRate_ewma_lag1       1.145931\n",
      "adj_hybrid_away_offense_standardDowns_successRate_ewma_lag1      1.145931\n",
      "adj_hybrid_away_turnovers_committed_ewma_lag1                    1.145931\n",
      "adj_hybrid_away_offense_successRate_ewma_lag1                    1.145931\n",
      "adj_hybrid_away_turnovers_forced_ewma_lag1                       1.145931\n",
      "adj_hybrid_home_defense_passingDowns_explosiveness_ewma_lag1     1.134238\n",
      "adj_hybrid_home_offense_passingDowns_explosiveness_ewma_lag1     1.110851\n",
      "adj_hybrid_home_defense_rushingPlays_explosiveness_ewma_lag1     1.110851\n",
      "adj_hybrid_home_defense_standardDowns_explosiveness_ewma_lag1    1.099158\n",
      "adj_hybrid_home_defense_passingDowns_ppa_ewma_lag1               1.099158\n",
      "adj_hybrid_home_defense_passingDowns_successRate_ewma_lag1       1.099158\n",
      "adj_hybrid_home_defense_passingPlays_explosiveness_ewma_lag1     1.099158\n",
      "adj_hybrid_home_defense_passingPlays_successRate_ewma_lag1       1.099158\n",
      "adj_hybrid_home_defense_passingPlays_ppa_ewma_lag1               1.099158\n",
      "adj_hybrid_home_defense_ppa_ewma_lag1                            1.099158\n",
      "adj_hybrid_home_defense_rushingPlays_ppa_ewma_lag1               1.099158\n",
      "adj_hybrid_home_defense_rushingPlays_successRate_ewma_lag1       1.099158\n",
      "adj_hybrid_home_defense_explosiveness_ewma_lag1                  1.099158\n",
      "adj_hybrid_home_offense_standardDowns_ppa_ewma_lag1              1.099158\n",
      "adj_hybrid_home_offense_standardDowns_explosiveness_ewma_lag1    1.099158\n",
      "adj_hybrid_home_offense_rushingPlays_successRate_ewma_lag1       1.099158\n",
      "adj_hybrid_home_offense_rushingPlays_ppa_ewma_lag1               1.099158\n",
      "adj_hybrid_home_offense_rushingPlays_explosiveness_ewma_lag1     1.099158\n",
      "adj_hybrid_home_offense_ppa_ewma_lag1                            1.099158\n",
      "adj_hybrid_home_offense_passingPlays_successRate_ewma_lag1       1.099158\n",
      "adj_hybrid_home_offense_passingPlays_ppa_ewma_lag1               1.099158\n",
      "adj_hybrid_home_offense_passingPlays_explosiveness_ewma_lag1     1.099158\n",
      "adj_hybrid_home_offense_passingDowns_successRate_ewma_lag1       1.099158\n",
      "adj_hybrid_home_offense_passingDowns_ppa_ewma_lag1               1.099158\n",
      "adj_hybrid_home_offense_explosiveness_ewma_lag1                  1.099158\n",
      "adj_hybrid_home_defense_standardDowns_successRate_ewma_lag1      1.099158\n",
      "adj_hybrid_home_defense_successRate_ewma_lag1                    1.099158\n",
      "adj_hybrid_home_defense_standardDowns_ppa_ewma_lag1              1.099158\n",
      "adj_hybrid_home_offense_standardDowns_successRate_ewma_lag1      1.099158\n",
      "adj_hybrid_home_turnovers_forced_ewma_lag1                       1.099158\n",
      "adj_hybrid_home_turnovers_committed_ewma_lag1                    1.099158\n",
      "adj_hybrid_home_offense_successRate_ewma_lag1                    1.099158\n",
      "dtype: float64\n",
      "\n",
      "--- Phase 1, Step 4 Complete ---\n",
      "Missing data identified and strategy chosen (defer imputation for tree models).\n",
      "Next Steps: Feature Selection.\n"
     ]
    }
   ],
   "source": [
    "print(\"\\nVerifying NaN status (Option A - NaNs should remain):\")\n",
    "remaining_missing_summary = master_df[potential_features].isnull().mean().sort_values(ascending=False) * 100\n",
    "remaining_missing_summary = remaining_missing_summary[remaining_missing_summary > 0]\n",
    "\n",
    "if remaining_missing_summary.empty:\n",
    "    print(\"No missing values remain in potential features (unexpected for Option A).\")\n",
    "elif not remaining_missing_summary.equals(missing_summary):\n",
    "     print(\"Missing values changed unexpectedly without imputation.\")\n",
    "     print(\"\\nRemaining Features with Missing Values (%):\")\n",
    "     with pd.option_context('display.max_rows', None):\n",
    "        print(remaining_missing_summary)\n",
    "else:\n",
    "    print(\"NaN values remain in features as expected for Strategy A.\")\n",
    "    print(f\"Top 5 features with most NaNs:\\n{remaining_missing_summary.head()}\")\n",
    "\n",
    "\n",
    "print(\"\\n--- Phase 1, Step 4 Complete ---\")\n",
    "print(\"Missing data identified and strategy chosen (defer imputation for tree models).\")\n",
    "print(\"Next Steps: Feature Selection.\")"
   ]
  },
  {
   "cell_type": "markdown",
   "metadata": {
    "id": "J8fjSS-5CWdr"
   },
   "source": [
    "# Phase 2: Feature Selection and Training"
   ]
  },
  {
   "cell_type": "code",
   "execution_count": 42,
   "metadata": {
    "executionInfo": {
     "elapsed": 1399,
     "status": "ok",
     "timestamp": 1745933603749,
     "user": {
      "displayName": "Austin Bervig",
      "userId": "09756579539086543276"
     },
     "user_tz": 300
    },
    "id": "RIP9kJRwCes0"
   },
   "outputs": [],
   "source": [
    "from sklearn.feature_selection import VarianceThreshold\n",
    "from sklearn.model_selection import train_test_split # We'll use this for structure, but split chronologically\n",
    "import matplotlib.pyplot as plt\n",
    "import seaborn as sns"
   ]
  },
  {
   "cell_type": "markdown",
   "metadata": {
    "id": "2frzn-qLq1JD"
   },
   "source": [
    "## Feature Selection"
   ]
  },
  {
   "cell_type": "markdown",
   "metadata": {
    "id": "ShCm7781o6zq"
   },
   "source": [
    "## Step 0: Preparation - Temporal Split"
   ]
  },
  {
   "cell_type": "code",
   "execution_count": 43,
   "metadata": {
    "colab": {
     "base_uri": "https://localhost:8080/"
    },
    "executionInfo": {
     "elapsed": 6,
     "status": "ok",
     "timestamp": 1745933604957,
     "user": {
      "displayName": "Austin Bervig",
      "userId": "09756579539086543276"
     },
     "user_tz": 300
    },
    "id": "V6zAT8lRo-uw",
    "outputId": "2a3c543c-8715-45f0-9280-8a947e5a50e6"
   },
   "outputs": [
    {
     "name": "stdout",
     "output_type": "stream",
     "text": [
      "Splitting data chronologically:\n",
      "  Training:   Seasons <= 2020\n",
      "  Validation: Seasons > 2020 and <= 2022\n"
     ]
    }
   ],
   "source": [
    "# Define split points (adjust seasons as needed based on your data range)\n",
    "# Example: Train through 2020, Validate on 2021-2022, Test on 2023+\n",
    "TRAIN_END_SEASON = 2020\n",
    "VALIDATION_END_SEASON = 2022\n",
    "# TEST_START_SEASON = VALIDATION_END_SEASON + 1\n",
    "\n",
    "print(f\"Splitting data chronologically:\")\n",
    "print(f\"  Training:   Seasons <= {TRAIN_END_SEASON}\")\n",
    "print(f\"  Validation: Seasons > {TRAIN_END_SEASON} and <= {VALIDATION_END_SEASON}\")\n",
    "# print(f\"  Test:       Seasons > {VALIDATION_END_SEASON}\") # Test set held out"
   ]
  },
  {
   "cell_type": "code",
   "execution_count": 44,
   "metadata": {
    "colab": {
     "base_uri": "https://localhost:8080/"
    },
    "executionInfo": {
     "elapsed": 19,
     "status": "ok",
     "timestamp": 1745933606678,
     "user": {
      "displayName": "Austin Bervig",
      "userId": "09756579539086543276"
     },
     "user_tz": 300
    },
    "id": "_fpprMkBpGpr",
    "outputId": "45e23e4d-2cfb-4983-f730-f9cc2f2de335"
   },
   "outputs": [
    {
     "name": "stdout",
     "output_type": "stream",
     "text": [
      "\n",
      "Data Shapes:\n",
      "  Training Set:   (5583, 446)\n",
      "  Validation Set: (1467, 446)\n",
      "\n",
      "Feature matrix shapes:\n",
      "  X_train: (5583, 92)\n",
      "  X_val:   (1467, 92)\n"
     ]
    }
   ],
   "source": [
    "train_df = master_df[master_df['season'] <= TRAIN_END_SEASON].copy()\n",
    "val_df = master_df[(master_df['season'] > TRAIN_END_SEASON) &\n",
    "                   (master_df['season'] <= VALIDATION_END_SEASON)].copy()\n",
    "# test_df = master_df[master_df['season'] >= TEST_START_SEASON].copy() # Keep this commented out for now\n",
    "\n",
    "print(f\"\\nData Shapes:\")\n",
    "print(f\"  Training Set:   {train_df.shape}\")\n",
    "print(f\"  Validation Set: {val_df.shape}\")\n",
    "# print(f\"  Test Set:       {test_df.shape}\")\n",
    "\n",
    "# Separate features (X) and target (y) for each set\n",
    "y_train = train_df[target_variable]\n",
    "X_train = train_df[potential_features].copy() # Use .copy() to avoid SettingWithCopyWarning\n",
    "\n",
    "y_val = val_df[target_variable]\n",
    "X_val = val_df[potential_features].copy()\n",
    "\n",
    "# y_test = test_df[target_variable]\n",
    "# X_test = test_df[potential_features].copy()\n",
    "\n",
    "print(f\"\\nFeature matrix shapes:\")\n",
    "print(f\"  X_train: {X_train.shape}\")\n",
    "print(f\"  X_val:   {X_val.shape}\")\n",
    "# print(f\"  X_test:  {X_test.shape}\")\n"
   ]
  },
  {
   "cell_type": "code",
   "execution_count": 45,
   "metadata": {
    "colab": {
     "base_uri": "https://localhost:8080/"
    },
    "executionInfo": {
     "elapsed": 59,
     "status": "ok",
     "timestamp": 1745933609751,
     "user": {
      "displayName": "Austin Bervig",
      "userId": "09756579539086543276"
     },
     "user_tz": 300
    },
    "id": "cn6VylDVpQrZ",
    "outputId": "5ac870f5-eaf5-4b90-f775-1a410a9a7858"
   },
   "outputs": [
    {
     "name": "stdout",
     "output_type": "stream",
     "text": [
      "\n",
      "Temporarily imputing NaNs with training set median for selection analysis...\n",
      "Temporarily imputed 79 columns.\n",
      "NaN check after imputation (X_train): 0\n",
      "NaN check after imputation (X_val):   0\n"
     ]
    }
   ],
   "source": [
    "# --- Handling NaNs Temporarily for Selection Analysis ---\n",
    "# VarianceThreshold and .corr() don't handle NaNs well.\n",
    "# We'll impute with the MEDIAN calculated *only from the training set*\n",
    "# This is TEMPORARY for analysis; the final model might handle NaNs differently.\n",
    "print(\"\\nTemporarily imputing NaNs with training set median for selection analysis...\")\n",
    "features_with_nan = X_train.columns[X_train.isnull().any()].tolist()\n",
    "imputation_values = X_train[features_with_nan].median()\n",
    "\n",
    "#Create COPIES for analysis to avoid modifying original X_train/X_val\n",
    "X_train_analysis = X_train.copy()\n",
    "X_val_analysis = X_val.copy()\n",
    "\n",
    "\n",
    "X_train_analysis.fillna(imputation_values, inplace=True)\n",
    "# Apply the SAME imputation values calculated from training data to validation set\n",
    "X_val_analysis.fillna(imputation_values, inplace=True)\n",
    "# X_test.fillna(imputation_values, inplace=True) # Impute test set later\n",
    "\n",
    "print(f\"Temporarily imputed {len(features_with_nan)} columns.\")\n",
    "print(f\"NaN check after imputation (X_train): {X_train_analysis.isnull().sum().sum()}\") # Should be 0\n",
    "print(f\"NaN check after imputation (X_val):   {X_val_analysis.isnull().sum().sum()}\")   # Should be 0"
   ]
  },
  {
   "cell_type": "markdown",
   "metadata": {
    "id": "pF6sK-0zpWQ6"
   },
   "source": [
    "## Step 1: Initial Filtering"
   ]
  },
  {
   "cell_type": "code",
   "execution_count": 46,
   "metadata": {
    "colab": {
     "base_uri": "https://localhost:8080/"
    },
    "executionInfo": {
     "elapsed": 14,
     "status": "ok",
     "timestamp": 1745933612347,
     "user": {
      "displayName": "Austin Bervig",
      "userId": "09756579539086543276"
     },
     "user_tz": 300
    },
    "id": "RWbExcFwpXro",
    "outputId": "82eaa0cf-6870-4e6a-9cd8-bed3c3b3170d"
   },
   "outputs": [
    {
     "name": "stdout",
     "output_type": "stream",
     "text": [
      "\n",
      "--- Filtering: Low Variance Features ---\n",
      "Initial feature count: 92\n",
      "Variance Threshold:    0.005\n",
      "No features dropped by variance threshold.\n",
      "Features remaining:    92\n"
     ]
    }
   ],
   "source": [
    "# --- 1a: Low Variance Feature Removal ---\n",
    "print(\"\\n--- Filtering: Low Variance Features ---\")\n",
    "variance_threshold = 0.005 # Remove features with variance below this (tweak if needed)\n",
    "selector_var = VarianceThreshold(threshold=variance_threshold)\n",
    "\n",
    "# Fit ONLY on training data\n",
    "selector_var.fit(X_train_analysis)\n",
    "\n",
    "# Get boolean mask of features to keep\n",
    "features_kept_mask_var = selector_var.get_support()\n",
    "features_kept_var = X_train_analysis.columns[features_kept_mask_var].tolist()\n",
    "features_dropped_var = X_train_analysis.columns[~features_kept_mask_var].tolist()\n",
    "\n",
    "print(f\"Initial feature count: {X_train_analysis.shape[1]}\")\n",
    "print(f\"Variance Threshold:    {variance_threshold}\")\n",
    "if features_dropped_var:\n",
    "    print(f\"Features dropped ({len(features_dropped_var)}): {features_dropped_var}\")\n",
    "else:\n",
    "    print(\"No features dropped by variance threshold.\")\n",
    "print(f\"Features remaining:    {len(features_kept_var)}\")\n",
    "\n",
    "# Update feature list and DataFrames\n",
    "current_features = [f for f in X_train.columns if f in features_kept_var]\n",
    "# X_train = X_train[current_features]\n",
    "# X_val = X_val[current_features]\n",
    "# X_test = X_test[current_features]"
   ]
  },
  {
   "cell_type": "code",
   "execution_count": 47,
   "metadata": {
    "colab": {
     "base_uri": "https://localhost:8080/"
    },
    "executionInfo": {
     "elapsed": 6,
     "status": "ok",
     "timestamp": 1745933614988,
     "user": {
      "displayName": "Austin Bervig",
      "userId": "09756579539086543276"
     },
     "user_tz": 300
    },
    "id": "8UCcVvHjpbDi",
    "outputId": "3a0c6c58-3dc9-468e-8ee1-8b6d07eb00b7"
   },
   "outputs": [
    {
     "name": "stdout",
     "output_type": "stream",
     "text": [
      "\n",
      "--- Filtering: High Missing Values (Check on Original Data) ---\n",
      "Missing Value Threshold: > 90.0%\n",
      "No features dropped by high missing value threshold.\n"
     ]
    }
   ],
   "source": [
    "# --- 1b: High Missing Value Feature Removal ---\n",
    "# Note: We already imputed NaNs for this analysis step. If we hadn't,\n",
    "# this step would calculate missing % on the original data BEFORE imputation.\n",
    "# Since XGBoost handles NaNs, we might skip strict missing % filtering,\n",
    "# but let's include the check for completeness.\n",
    "print(\"\\n--- Filtering: High Missing Values (Check on Original Data) ---\")\n",
    "# Recalculate missing % on the original training features *before* imputation\n",
    "missing_perc_orig = train_df[current_features].isnull().mean().sort_values(ascending=False) * 100\n",
    "missing_perc_orig = missing_perc_orig[missing_perc_orig > 0]\n",
    "\n",
    "missing_threshold = 90.0 # Drop features missing more than this % (e.g., 90%)\n",
    "features_to_drop_missing = missing_perc_orig[missing_perc_orig > missing_threshold].index.tolist()\n",
    "\n",
    "print(f\"Missing Value Threshold: > {missing_threshold}%\")\n",
    "if features_to_drop_missing:\n",
    "    print(f\"Features to drop due to high missing values ({len(features_to_drop_missing)}): {features_to_drop_missing}\")\n",
    "    # Remove from current_features list and DataFrames\n",
    "    current_features = [f for f in current_features if f not in features_to_drop_missing]\n",
    "    # X_train = X_train[current_features]\n",
    "    # X_val = X_val[current_features]\n",
    "    # X_test = X_test[current_features]\n",
    "    print(f\"Features remaining after missing value filter: {len(current_features)}\")\n",
    "else:\n",
    "    print(\"No features dropped by high missing value threshold.\")"
   ]
  },
  {
   "cell_type": "markdown",
   "metadata": {
    "id": "8psMWgkupdwC"
   },
   "source": [
    "## Step 2: Correlation Analysis"
   ]
  },
  {
   "cell_type": "code",
   "execution_count": 48,
   "metadata": {
    "colab": {
     "base_uri": "https://localhost:8080/",
     "height": 1000
    },
    "executionInfo": {
     "elapsed": 406,
     "status": "ok",
     "timestamp": 1745933618250,
     "user": {
      "displayName": "Austin Bervig",
      "userId": "09756579539086543276"
     },
     "user_tz": 300
    },
    "id": "gBLH8HSxpfXv",
    "outputId": "935ca43d-0c68-463c-a143-a40313c255f2"
   },
   "outputs": [
    {
     "name": "stdout",
     "output_type": "stream",
     "text": [
      "\n",
      "--- Analysis: Feature-Target Correlation ---\n",
      "Top 20 Features correlated with 'avg_closing_spread' (Absolute Value):\n",
      "elo_diff_calc                                                 0.883668\n",
      "away_pregame_elo_calc                                         0.536656\n",
      "home_pregame_elo_calc                                         0.527691\n",
      "adj_hybrid_away_offense_ppa_ewma_lag1                         0.407555\n",
      "adj_hybrid_home_offense_ppa_ewma_lag1                         0.399217\n",
      "adj_hybrid_away_offense_standardDowns_ppa_ewma_lag1           0.377536\n",
      "adj_hybrid_home_offense_standardDowns_ppa_ewma_lag1           0.364887\n",
      "adj_hybrid_home_defense_ppa_ewma_lag1                         0.355050\n",
      "adj_hybrid_away_offense_passingPlays_ppa_ewma_lag1            0.353799\n",
      "adj_hybrid_home_offense_passingPlays_ppa_ewma_lag1            0.343164\n",
      "adj_hybrid_away_defense_ppa_ewma_lag1                         0.337521\n",
      "adj_hybrid_home_defense_standardDowns_ppa_ewma_lag1           0.330794\n",
      "adj_hybrid_home_offense_passingDowns_ppa_ewma_lag1            0.322355\n",
      "adj_hybrid_away_offense_passingDowns_ppa_ewma_lag1            0.314833\n",
      "adj_hybrid_away_defense_standardDowns_ppa_ewma_lag1           0.311180\n",
      "adj_hybrid_home_offense_passingDowns_successRate_ewma_lag1    0.307656\n",
      "adj_hybrid_home_offense_passingPlays_successRate_ewma_lag1    0.300083\n",
      "adj_hybrid_home_offense_successRate_ewma_lag1                 0.296621\n",
      "adj_hybrid_home_defense_passingPlays_ppa_ewma_lag1            0.292729\n",
      "adj_hybrid_home_offense_rushingPlays_ppa_ewma_lag1            0.283612\n",
      "Name: avg_closing_spread, dtype: float64\n",
      "\n",
      "Bottom 10 Features correlated with 'avg_closing_spread' (Absolute Value):\n",
      "adj_hybrid_away_defense_passingPlays_explosiveness_ewma_lag1    0.021666\n",
      "adj_hybrid_away_offense_explosiveness_ewma_lag1                 0.019877\n",
      "matchup_HO_v_AD_rushingPlays_successRate                        0.016247\n",
      "adj_hybrid_home_defense_passingDowns_explosiveness_ewma_lag1    0.013934\n",
      "adj_hybrid_away_defense_explosiveness_ewma_lag1                 0.012149\n",
      "matchup_HO_v_AD_passingDowns_explosiveness                      0.011921\n",
      "matchup_HO_v_AD_rushingPlays_ppa                                0.011256\n",
      "matchup_HO_v_AD_rushingPlays_explosiveness                      0.010227\n",
      "adj_hybrid_home_defense_passingPlays_explosiveness_ewma_lag1    0.008123\n",
      "adj_hybrid_home_defense_explosiveness_ewma_lag1                 0.004216\n",
      "Name: avg_closing_spread, dtype: float64\n"
     ]
    },
    {
     "data": {
      "image/png": "[encoded data removed]",
      "text/plain": [
       "<Figure size 1000x500 with 1 Axes>"
      ]
     },
     "metadata": {},
     "output_type": "display_data"
    }
   ],
   "source": [
    "# --- 2a: Feature-Target Correlation ---\n",
    "print(\"\\n--- Analysis: Feature-Target Correlation ---\")\n",
    "# Combine X_train and y_train temporarily for correlation calculation\n",
    "train_corr_df = X_train_analysis[current_features].copy()\n",
    "train_corr_df[target_variable] = y_train\n",
    "\n",
    "# Calculate correlations with the target variable\n",
    "correlations = train_corr_df.corr()[target_variable].drop(target_variable) # Drop self-correlation\n",
    "correlations_abs = correlations.abs().sort_values(ascending=False)\n",
    "\n",
    "print(f\"Top 20 Features correlated with '{target_variable}' (Absolute Value):\")\n",
    "print(correlations_abs.head(20))\n",
    "print(f\"\\nBottom 10 Features correlated with '{target_variable}' (Absolute Value):\")\n",
    "print(correlations_abs.tail(10))\n",
    "\n",
    "# Plotting the distribution of absolute correlations\n",
    "plt.figure(figsize=(10, 5))\n",
    "sns.histplot(correlations_abs, bins=30, kde=True)\n",
    "plt.title(f'Distribution of Absolute Correlations with {target_variable}')\n",
    "plt.xlabel('Absolute Correlation')\n",
    "plt.ylabel('Frequency')\n",
    "plt.grid(True, axis='y', linestyle='--', alpha=0.7)\n",
    "plt.show()"
   ]
  },
  {
   "cell_type": "code",
   "execution_count": 49,
   "metadata": {
    "colab": {
     "base_uri": "https://localhost:8080/"
    },
    "executionInfo": {
     "elapsed": 175,
     "status": "ok",
     "timestamp": 1745933634157,
     "user": {
      "displayName": "Austin Bervig",
      "userId": "09756579539086543276"
     },
     "user_tz": 300
    },
    "id": "L292LwcOpiDz",
    "outputId": "ce504475-2b99-40ed-b122-f0046ab2300b"
   },
   "outputs": [
    {
     "name": "stdout",
     "output_type": "stream",
     "text": [
      "\n",
      "--- Analysis: Feature-Feature Correlation ---\n",
      "Found 19 pairs with absolute correlation > 0.9\n",
      "\n",
      "Highly Correlated Pairs (Feature1, Feature2, Correlation):\n",
      "  - ('away_rp_percentPPA_Wk1_4' [0.079], 'away_rp_usage_Wk1_4' [0.081], 0.9796) -> Suggest dropping: 'away_rp_percentPPA_Wk1_4'\n",
      "  - ('home_rp_percentPPA_Wk1_4' [0.102], 'home_rp_usage_Wk1_4' [0.107], 0.9783) -> Suggest dropping: 'home_rp_percentPPA_Wk1_4'\n",
      "  - ('adj_hybrid_away_defense_standardDowns_successRate_ewma_lag1' [0.227], 'adj_hybrid_away_defense_successRate_ewma_lag1' [0.257], 0.9726) -> Suggest dropping: 'adj_hybrid_away_defense_standardDowns_successRate_ewma_lag1'\n",
      "  - ('adj_hybrid_away_offense_standardDowns_successRate_ewma_lag1' [0.221], 'adj_hybrid_away_offense_successRate_ewma_lag1' [0.263], 0.9713) -> Suggest dropping: 'adj_hybrid_away_offense_standardDowns_successRate_ewma_lag1'\n",
      "  - ('adj_hybrid_home_defense_standardDowns_successRate_ewma_lag1' [0.197], 'adj_hybrid_home_defense_successRate_ewma_lag1' [0.229], 0.9712) -> Suggest dropping: 'adj_hybrid_home_defense_standardDowns_successRate_ewma_lag1'\n",
      "  - ('adj_hybrid_home_offense_standardDowns_successRate_ewma_lag1' [0.250], 'adj_hybrid_home_offense_successRate_ewma_lag1' [0.297], 0.9712) -> Suggest dropping: 'adj_hybrid_home_offense_standardDowns_successRate_ewma_lag1'\n",
      "  - ('matchup_HO_v_AD_standardDowns_successRate' [0.027], 'matchup_HO_v_AD_successRate' [0.046], 0.9557) -> Suggest dropping: 'matchup_HO_v_AD_standardDowns_successRate'\n",
      "  - ('adj_hybrid_away_defense_rushingPlays_successRate_ewma_lag1' [0.231], 'adj_hybrid_away_defense_successRate_ewma_lag1' [0.257], 0.9295) -> Suggest dropping: 'adj_hybrid_away_defense_rushingPlays_successRate_ewma_lag1'\n",
      "  - ('adj_hybrid_home_defense_rushingPlays_successRate_ewma_lag1' [0.202], 'adj_hybrid_home_defense_successRate_ewma_lag1' [0.229], 0.9282) -> Suggest dropping: 'adj_hybrid_home_defense_rushingPlays_successRate_ewma_lag1'\n",
      "  - ('adj_hybrid_home_offense_rushingPlays_successRate_ewma_lag1' [0.247], 'adj_hybrid_home_offense_standardDowns_successRate_ewma_lag1' [0.250], 0.9268) -> Suggest dropping: 'adj_hybrid_home_offense_rushingPlays_successRate_ewma_lag1'\n",
      "  - ('adj_hybrid_away_defense_rushingPlays_successRate_ewma_lag1' [0.231], 'adj_hybrid_away_defense_standardDowns_successRate_ewma_lag1' [0.227], 0.9263) -> Suggest dropping: 'adj_hybrid_away_defense_standardDowns_successRate_ewma_lag1'\n",
      "  - ('adj_hybrid_home_offense_rushingPlays_successRate_ewma_lag1' [0.247], 'adj_hybrid_home_offense_successRate_ewma_lag1' [0.297], 0.9263) -> Suggest dropping: 'adj_hybrid_home_offense_rushingPlays_successRate_ewma_lag1'\n",
      "  - ('adj_hybrid_away_offense_rushingPlays_successRate_ewma_lag1' [0.214], 'adj_hybrid_away_offense_standardDowns_successRate_ewma_lag1' [0.221], 0.9257) -> Suggest dropping: 'adj_hybrid_away_offense_rushingPlays_successRate_ewma_lag1'\n",
      "  - ('adj_hybrid_away_offense_rushingPlays_successRate_ewma_lag1' [0.214], 'adj_hybrid_away_offense_successRate_ewma_lag1' [0.263], 0.9254) -> Suggest dropping: 'adj_hybrid_away_offense_rushingPlays_successRate_ewma_lag1'\n",
      "  - ('adj_hybrid_home_defense_explosiveness_ewma_lag1' [0.004], 'adj_hybrid_home_defense_standardDowns_explosiveness_ewma_lag1' [0.027], 0.9241) -> Suggest dropping: 'adj_hybrid_home_defense_explosiveness_ewma_lag1'\n",
      "  - ('adj_hybrid_away_offense_explosiveness_ewma_lag1' [0.020], 'adj_hybrid_away_offense_standardDowns_explosiveness_ewma_lag1' [0.051], 0.9219) -> Suggest dropping: 'adj_hybrid_away_offense_explosiveness_ewma_lag1'\n",
      "  - ('adj_hybrid_home_defense_rushingPlays_successRate_ewma_lag1' [0.202], 'adj_hybrid_home_defense_standardDowns_successRate_ewma_lag1' [0.197], 0.9219) -> Suggest dropping: 'adj_hybrid_home_defense_standardDowns_successRate_ewma_lag1'\n",
      "  - ('adj_hybrid_away_defense_explosiveness_ewma_lag1' [0.012], 'adj_hybrid_away_defense_standardDowns_explosiveness_ewma_lag1' [0.042], 0.9212) -> Suggest dropping: 'adj_hybrid_away_defense_explosiveness_ewma_lag1'\n",
      "  - ('adj_hybrid_home_offense_explosiveness_ewma_lag1' [0.051], 'adj_hybrid_home_offense_standardDowns_explosiveness_ewma_lag1' [0.075], 0.9202) -> Suggest dropping: 'adj_hybrid_home_offense_explosiveness_ewma_lag1'\n",
      "\n",
      "Total features suggested for dropping due to high correlation: 15\n"
     ]
    }
   ],
   "source": [
    "# --- 2b: Feature-Feature Correlation ---\n",
    "print(\"\\n--- Analysis: Feature-Feature Correlation ---\")\n",
    "feature_corr_matrix = X_train_analysis.corr()\n",
    "\n",
    "# Find highly correlated pairs\n",
    "correlation_threshold = 0.9 # Identify pairs with correlation > this value\n",
    "highly_correlated_pairs = []\n",
    "cols = feature_corr_matrix.columns\n",
    "for i in range(len(cols)):\n",
    "    for j in range(i + 1, len(cols)): # Iterate upper triangle\n",
    "        corr_value = feature_corr_matrix.iloc[i, j]\n",
    "        if abs(corr_value) > correlation_threshold:\n",
    "            pair = (cols[i], cols[j], round(corr_value, 4))\n",
    "            highly_correlated_pairs.append(pair)\n",
    "\n",
    "print(f\"Found {len(highly_correlated_pairs)} pairs with absolute correlation > {correlation_threshold}\")\n",
    "\n",
    "# Identify which feature in the pair to potentially drop (lower correlation with target)\n",
    "features_to_consider_dropping_corr = set()\n",
    "if highly_correlated_pairs:\n",
    "    print(\"\\nHighly Correlated Pairs (Feature1, Feature2, Correlation):\")\n",
    "    # Sort pairs for consistent display (optional)\n",
    "    highly_correlated_pairs.sort(key=lambda x: abs(x[2]), reverse=True)\n",
    "    for pair in highly_correlated_pairs[:20]: # Show top 20 pairs\n",
    "        f1, f2, corr_val = pair\n",
    "        corr_f1_target = correlations_abs.get(f1, 0) # Get correlation with target\n",
    "        corr_f2_target = correlations_abs.get(f2, 0)\n",
    "\n",
    "        # Suggest dropping the one with lower absolute correlation to target\n",
    "        drop_candidate = f1 if corr_f1_target < corr_f2_target else f2\n",
    "        keep_candidate = f2 if drop_candidate == f1 else f1\n",
    "        print(f\"  - ('{f1}' [{corr_f1_target:.3f}], '{f2}' [{corr_f2_target:.3f}], {corr_val}) -> Suggest dropping: '{drop_candidate}'\")\n",
    "        features_to_consider_dropping_corr.add(drop_candidate) # Add suggestion to a set\n",
    "\n",
    "    print(f\"\\nTotal features suggested for dropping due to high correlation: {len(features_to_consider_dropping_corr)}\")\n",
    "    # print(\"Candidates for dropping:\", list(features_to_consider_dropping_corr)) # Uncomment to see full list"
   ]
  },
  {
   "cell_type": "code",
   "execution_count": 50,
   "metadata": {
    "colab": {
     "base_uri": "https://localhost:8080/"
    },
    "executionInfo": {
     "elapsed": 12,
     "status": "ok",
     "timestamp": 1745933637742,
     "user": {
      "displayName": "Austin Bervig",
      "userId": "09756579539086543276"
     },
     "user_tz": 300
    },
    "id": "te7VjOZFmow8",
    "outputId": "fa88c65b-6488-4dfb-a057-519ef1414371"
   },
   "outputs": [
    {
     "data": {
      "text/plain": [
       "{'adj_hybrid_away_defense_explosiveness_ewma_lag1',\n",
       " 'adj_hybrid_away_defense_rushingPlays_successRate_ewma_lag1',\n",
       " 'adj_hybrid_away_defense_standardDowns_successRate_ewma_lag1',\n",
       " 'adj_hybrid_away_offense_explosiveness_ewma_lag1',\n",
       " 'adj_hybrid_away_offense_rushingPlays_successRate_ewma_lag1',\n",
       " 'adj_hybrid_away_offense_standardDowns_successRate_ewma_lag1',\n",
       " 'adj_hybrid_home_defense_explosiveness_ewma_lag1',\n",
       " 'adj_hybrid_home_defense_rushingPlays_successRate_ewma_lag1',\n",
       " 'adj_hybrid_home_defense_standardDowns_successRate_ewma_lag1',\n",
       " 'adj_hybrid_home_offense_explosiveness_ewma_lag1',\n",
       " 'adj_hybrid_home_offense_rushingPlays_successRate_ewma_lag1',\n",
       " 'adj_hybrid_home_offense_standardDowns_successRate_ewma_lag1',\n",
       " 'away_rp_percentPPA_Wk1_4',\n",
       " 'home_rp_percentPPA_Wk1_4',\n",
       " 'matchup_HO_v_AD_standardDowns_successRate'}"
      ]
     },
     "execution_count": 50,
     "metadata": {},
     "output_type": "execute_result"
    }
   ],
   "source": [
    "features_to_consider_dropping_corr"
   ]
  },
  {
   "cell_type": "markdown",
   "metadata": {
    "id": "HDFcpydAplIj"
   },
   "source": [
    "### Step 3: Model Based Feature Importance (Initial Run)"
   ]
  },
  {
   "cell_type": "code",
   "execution_count": 51,
   "metadata": {
    "colab": {
     "base_uri": "https://localhost:8080/",
     "height": 1000
    },
    "executionInfo": {
     "elapsed": 1865,
     "status": "ok",
     "timestamp": 1745933641915,
     "user": {
      "displayName": "Austin Bervig",
      "userId": "09756579539086543276"
     },
     "user_tz": 300
    },
    "id": "cjimoUaSpoMP",
    "outputId": "f559d3ae-8b33-411b-f069-4e5fd67ecb48"
   },
   "outputs": [
    {
     "name": "stdout",
     "output_type": "stream",
     "text": [
      "\n",
      "--- Analysis: Model-Based Feature Importance (GPU Accelerated XGBoost) ---\n",
      "Training initial XGBoost model on GPU for feature importance...\n",
      "\n",
      "Top 30 Features by XGBoost Importance (Gain):\n",
      "                                              feature    importance\n",
      "68                                      elo_diff_calc  18440.371094\n",
      "64                              away_pregame_elo_calc   3709.247314\n",
      "54              adj_hybrid_home_offense_ppa_ewma_lag1   2099.526367\n",
      "39              adj_hybrid_home_defense_ppa_ewma_lag1   2054.182373\n",
      "22              adj_hybrid_away_offense_ppa_ewma_lag1    946.143921\n",
      "69                              home_pregame_elo_calc    889.890076\n",
      "67                                    conference_game    775.170227\n",
      "90                                             season    770.192810\n",
      "46      adj_hybrid_home_defense_successRate_ewma_lag1    669.284119\n",
      "14      adj_hybrid_away_defense_successRate_ewma_lag1    592.486877\n",
      "61      adj_hybrid_home_offense_successRate_ewma_lag1    536.685791\n",
      "29      adj_hybrid_away_offense_successRate_ewma_lag1    510.466034\n",
      "50  adj_hybrid_home_offense_passingDowns_successRa...    471.684235\n",
      "87                                       neutral_site    462.648438\n",
      "45  adj_hybrid_home_defense_standardDowns_successR...    459.867828\n",
      "53  adj_hybrid_home_offense_passingPlays_successRa...    452.180511\n",
      "89                                rp_usage_diff_Wk1_4    436.850708\n",
      "12  adj_hybrid_away_defense_standardDowns_ppa_ewma...    388.201752\n",
      "59  adj_hybrid_home_offense_standardDowns_ppa_ewma...    371.911926\n",
      "88                           rp_percentPPA_diff_Wk1_4    368.252106\n",
      "71                                home_rp_usage_Wk1_4    367.304779\n",
      "70                           home_rp_percentPPA_Wk1_4    365.551758\n",
      "21  adj_hybrid_away_offense_passingPlays_successRa...    351.119659\n",
      "38  adj_hybrid_home_defense_passingPlays_successRa...    350.081299\n",
      "44  adj_hybrid_home_defense_standardDowns_ppa_ewma...    349.580078\n",
      "60  adj_hybrid_home_offense_standardDowns_successR...    348.363007\n",
      "37  adj_hybrid_home_defense_passingPlays_ppa_ewma_...    336.863190\n",
      "57  adj_hybrid_home_offense_rushingPlays_successRa...    330.116180\n",
      "27  adj_hybrid_away_offense_standardDowns_ppa_ewma...    327.881592\n",
      "9   adj_hybrid_away_defense_rushingPlays_ppa_ewma_...    313.589233\n",
      "\n",
      "Bottom 10 Features by XGBoost Importance (Gain):\n",
      "                                              feature  importance\n",
      "26  adj_hybrid_away_offense_standardDowns_explosiv...  158.010254\n",
      "4   adj_hybrid_away_defense_passingPlays_explosive...  155.955750\n",
      "10  adj_hybrid_away_defense_rushingPlays_successRa...  155.384476\n",
      "30      adj_hybrid_away_turnovers_committed_ewma_lag1  150.884369\n",
      "19  adj_hybrid_away_offense_passingPlays_explosive...  147.392334\n",
      "5   adj_hybrid_away_defense_passingPlays_ppa_ewma_...  144.435898\n",
      "76         matchup_HO_v_AD_passingPlays_explosiveness  143.491379\n",
      "72                      matchup_HO_v_AD_explosiveness  136.713989\n",
      "0     adj_hybrid_away_defense_explosiveness_ewma_lag1   75.957474\n",
      "1   adj_hybrid_away_defense_passingDowns_explosive...   69.126045\n"
     ]
    },
    {
     "name": "stderr",
     "output_type": "stream",
     "text": [
      "<ipython-input-51-16569ee76ce6>:54: FutureWarning: \n",
      "\n",
      "Passing `palette` without assigning `hue` is deprecated and will be removed in v0.14.0. Assign the `y` variable to `hue` and set `legend=False` for the same effect.\n",
      "\n",
      "  sns.barplot(x='importance', y='feature', data=feature_importance_df.head(30), palette='viridis')\n"
     ]
    },
    {
     "data": {
      "image/png": "[encoded data removed]",
      "text/plain": [
       "<Figure size 1000x800 with 1 Axes>"
      ]
     },
     "metadata": {},
     "output_type": "display_data"
    },
    {
     "name": "stdout",
     "output_type": "stream",
     "text": [
      "\n",
      "Features remaining after initial filtering & analysis: 92\n",
      "\n",
      "--- Phase 2, Step 1 (Initial Analysis/Filtering) Complete ---\n",
      "Next Steps: Use validation set performance to iteratively select best feature subset based on these analyses.\n"
     ]
    }
   ],
   "source": [
    "print(\"\\n--- Analysis: Model-Based Feature Importance (GPU Accelerated XGBoost) ---\")\n",
    "import xgboost as xgb\n",
    "\n",
    "# Use the imputed data (X_train, y_train)\n",
    "\n",
    "# Define basic XGBoost parameters for importance calculation\n",
    "xgb_importance_params = {\n",
    "    'objective': 'reg:squarederror',\n",
    "    'eval_metric': 'rmse',\n",
    "    'seed': 42,\n",
    "    'nthread': -1,\n",
    "    # --- Enable GPU ---\n",
    "    'device': 'cuda',\n",
    "    # ------------------\n",
    "    # Use relatively simple settings for speed\n",
    "    'eta': 0.1,\n",
    "    'max_depth': 5,\n",
    "    'subsample': 0.8,\n",
    "    'colsample_bytree': 0.8\n",
    "}\n",
    "num_round_importance = 100 # Fewer rounds might suffice for ranking\n",
    "\n",
    "print(f\"Training initial XGBoost model on GPU for feature importance...\")\n",
    "dtrain_importance = xgb.DMatrix(X_train_analysis[current_features], label=y_train)\n",
    "model_importance = xgb.train(\n",
    "    xgb_importance_params,\n",
    "    dtrain_importance,\n",
    "    num_boost_round=num_round_importance,\n",
    "    verbose_eval=False\n",
    ")\n",
    "\n",
    "# Get feature importances (using 'gain' is often good)\n",
    "importance_dict = model_importance.get_score(importance_type='gain')\n",
    "if not importance_dict:\n",
    "    importance_dict = model_importance.get_score(importance_type='weight') # Fallback\n",
    "\n",
    "# Create DataFrame - Need to handle features potentially not used\n",
    "all_features = X_train.columns.tolist()\n",
    "importance_values = [importance_dict.get(f, 0) for f in all_features] # Assign 0 if feature not used\n",
    "\n",
    "feature_importance_df = pd.DataFrame({\n",
    "    'feature': all_features,\n",
    "    'importance': importance_values\n",
    "}).sort_values('importance', ascending=False)\n",
    "\n",
    "\n",
    "print(\"\\nTop 30 Features by XGBoost Importance (Gain):\")\n",
    "print(feature_importance_df.head(30))\n",
    "print(\"\\nBottom 10 Features by XGBoost Importance (Gain):\")\n",
    "print(feature_importance_df.tail(10))\n",
    "\n",
    "# Optional: Plot top N feature importances\n",
    "plt.figure(figsize=(10, 8))\n",
    "sns.barplot(x='importance', y='feature', data=feature_importance_df.head(30), palette='viridis')\n",
    "plt.title('Top 30 Feature Importances (Random Forest)')\n",
    "plt.tight_layout()\n",
    "plt.show()\n",
    "\n",
    "# Store the current list of features after initial filtering\n",
    "features_after_initial_analysis = current_features\n",
    "print(f\"\\nFeatures remaining after initial filtering & analysis: {len(features_after_initial_analysis)}\")\n",
    "\n",
    "print(\"\\n--- Phase 2, Step 1 (Initial Analysis/Filtering) Complete ---\")\n",
    "print(\"Next Steps: Use validation set performance to iteratively select best feature subset based on these analyses.\")\n",
    "del X_train_analysis, X_val_analysis, train_corr_df # Cleanup"
   ]
  },
  {
   "cell_type": "markdown",
   "metadata": {
    "id": "bk2aFh4yz-11"
   },
   "source": [
    "## Steps 4,5: Regularization and Iteration"
   ]
  },
  {
   "cell_type": "code",
   "execution_count": 52,
   "metadata": {
    "executionInfo": {
     "elapsed": 4,
     "status": "ok",
     "timestamp": 1745933661351,
     "user": {
      "displayName": "Austin Bervig",
      "userId": "09756579539086543276"
     },
     "user_tz": 300
    },
    "id": "moLV_Zcnyw_L"
   },
   "outputs": [],
   "source": [
    "import xgboost as xgb\n",
    "from sklearn.metrics import mean_squared_error, mean_absolute_error, r2_score\n",
    "import time\n",
    "import warnings"
   ]
  },
  {
   "cell_type": "code",
   "execution_count": 53,
   "metadata": {
    "executionInfo": {
     "elapsed": 5,
     "status": "ok",
     "timestamp": 1745933662741,
     "user": {
      "displayName": "Austin Bervig",
      "userId": "09756579539086543276"
     },
     "user_tz": 300
    },
    "id": "IyPbYB8zAQwp"
   },
   "outputs": [],
   "source": [
    "warnings.filterwarnings(\"ignore\", category=UserWarning, module=\"xgboost\")"
   ]
  },
  {
   "cell_type": "markdown",
   "metadata": {
    "id": "hbDvVrVM0JQi"
   },
   "source": [
    "### Define Candidate Feature Sets"
   ]
  },
  {
   "cell_type": "code",
   "execution_count": 54,
   "metadata": {
    "colab": {
     "base_uri": "https://localhost:8080/"
    },
    "executionInfo": {
     "elapsed": 45,
     "status": "ok",
     "timestamp": 1745933664369,
     "user": {
      "displayName": "Austin Bervig",
      "userId": "09756579539086543276"
     },
     "user_tz": 300
    },
    "id": "wpNUHcJQ0Nln",
    "outputId": "ad680d09-9c8b-4cf7-c109-cadd4af87c95"
   },
   "outputs": [
    {
     "name": "stdout",
     "output_type": "stream",
     "text": [
      "\n",
      "Defined 6 candidate feature sets:\n",
      "  - A_Basic: 7 features\n",
      "  - B_Top50_Corr: 50 features\n",
      "  - C_Top50_RF_Importance: 50 features\n",
      "  - D_Reduced_Correlation: 77 features\n",
      "  - E_All_Initial_Filtered: 92 features\n",
      "  - F_Top50_RF_plus_Basic: 50 features\n"
     ]
    }
   ],
   "source": [
    "candidate_feature_sets = {}\n",
    "\n",
    "# Set A: Basic Features Only (Baseline)\n",
    "candidate_feature_sets['A_Basic'] = [f for f in basic_features if f in features_after_initial_analysis]\n",
    "\n",
    "# Set B: Top N by Absolute Correlation with Target\n",
    "N_corr = 50 # Example: Top 100\n",
    "top_corr_features = correlations_abs.head(N_corr).index.tolist()\n",
    "candidate_feature_sets[f'B_Top{N_corr}_Corr'] = [f for f in top_corr_features if f in features_after_initial_analysis]\n",
    "\n",
    "# Set C: Top N by Random Forest Importance\n",
    "N_rf = 50 # Example: Top 100\n",
    "top_rf_features = feature_importance_df['feature'].head(N_rf).tolist()\n",
    "candidate_feature_sets[f'C_Top{N_rf}_RF_Importance'] = [f for f in top_rf_features if f in features_after_initial_analysis]\n",
    "\n",
    "# Set D: Features after removing high inter-feature correlation candidates\n",
    "# Start with all features after initial filtering\n",
    "features_after_corr_drop = [f for f in features_after_initial_analysis if f not in features_to_consider_dropping_corr]\n",
    "candidate_feature_sets['D_Reduced_Correlation'] = features_after_corr_drop\n",
    "\n",
    "# Set E: All features remaining after initial filtering (Variance/Missing)\n",
    "candidate_feature_sets['E_All_Initial_Filtered'] = features_after_initial_analysis\n",
    "\n",
    "# Optional: Combine Top RF + Basic Features\n",
    "combined_rf_basic = list(set(top_rf_features + candidate_feature_sets['A_Basic']))\n",
    "candidate_feature_sets[f'F_Top{N_rf}_RF_plus_Basic'] = [f for f in combined_rf_basic if f in features_after_initial_analysis]\n",
    "\n",
    "\n",
    "print(f\"\\nDefined {len(candidate_feature_sets)} candidate feature sets:\")\n",
    "for name, features in candidate_feature_sets.items():\n",
    "    print(f\"  - {name}: {len(features)} features\")"
   ]
  },
  {
   "cell_type": "markdown",
   "metadata": {
    "id": "M39_0udL0QzA"
   },
   "source": [
    "### Choose Model for Evaluation: XGBoost"
   ]
  },
  {
   "cell_type": "code",
   "execution_count": 55,
   "metadata": {
    "executionInfo": {
     "elapsed": 4,
     "status": "ok",
     "timestamp": 1745933668424,
     "user": {
      "displayName": "Austin Bervig",
      "userId": "09756579539086543276"
     },
     "user_tz": 300
    },
    "id": "fVTWwm4O0Ss_"
   },
   "outputs": [],
   "source": [
    "# Define XGBoost parameters (use reasonable defaults or slightly tuned values)\n",
    "# We are NOT tuning hyperparameters here, just evaluating feature sets\n",
    "xgb_params = {\n",
    "    'objective': 'reg:squarederror', # Regression task\n",
    "    'eval_metric': 'rmse',           # Evaluation metric for XGBoost internal use\n",
    "    'eta': 0.1,                      # Learning rate\n",
    "    'max_depth': 5,                  # Max tree depth (control complexity)\n",
    "    'subsample': 0.8,                # Fraction of samples used per tree\n",
    "    'colsample_bytree': 0.8,         # Fraction of features used per tree\n",
    "    'seed': 42,\n",
    "    'nthread': -1, # Use all available CPU threads\n",
    "    'device': 'cuda'\n",
    "    # Enable internal NaN handling if using non-imputed data:\n",
    "    # 'missing': np.nan # Tells XGBoost to handle NaNs\n",
    "}\n",
    "num_boost_round = 100 # Number of boosting rounds (trees)"
   ]
  },
  {
   "cell_type": "markdown",
   "metadata": {
    "id": "fwuOlgLAyV21"
   },
   "source": [
    "### Create Betting Model"
   ]
  },
  {
   "cell_type": "code",
   "execution_count": 56,
   "metadata": {
    "executionInfo": {
     "elapsed": 12,
     "status": "ok",
     "timestamp": 1745933670668,
     "user": {
      "displayName": "Austin Bervig",
      "userId": "09756579539086543276"
     },
     "user_tz": 300
    },
    "id": "K9g_3j6Cyac9"
   },
   "outputs": [],
   "source": [
    "import math\n",
    "from tqdm import tqdm\n",
    "\n",
    "def simulate_betting(simulation_input_df):\n",
    "    \"\"\"\n",
    "    Simulates the betting strategy on provided data with predictions.\n",
    "    Expects 'predicted_spread_market', 'avg_opening_spread', 'home_points',\n",
    "    'away_points', and other game identifiers.\n",
    "    Returns a DataFrame with results for each potential bet.\n",
    "    \"\"\"\n",
    "    results = []\n",
    "\n",
    "    # Ensure necessary columns exist and drop rows with missing critical data for simulation\n",
    "    required_cols = ['id', 'season', 'week', 'home_team', 'away_team', 'home_points', 'away_points',\n",
    "                     'avg_opening_spread', 'neutral_site', # neutral_site might not be needed if HFA baked into prediction\n",
    "                     'predicted_spread_market'] # This comes from the model now\n",
    "    sim_df = simulation_input_df[required_cols].copy()\n",
    "    sim_df.dropna(subset=['avg_opening_spread', 'home_points', 'away_points',\n",
    "                           'predicted_spread_market'], inplace=True) # Crucial dropna\n",
    "\n",
    "    if sim_df.empty:\n",
    "        print(\"Warning: No games available for betting simulation after dropping NaNs.\")\n",
    "        return pd.DataFrame() # Return empty DataFrame\n",
    "\n",
    "    # print(f\"Simulating bets for {len(sim_df)} games...\") # Optional debug\n",
    "\n",
    "    for index, game in sim_df.iterrows():\n",
    "        predicted_spread = game['predicted_spread_market']\n",
    "        opening_spread = game['avg_opening_spread']\n",
    "\n",
    "        bet_on = None\n",
    "        profit_loss = 0.0\n",
    "        result = 'no_bet' # Default if threshold not met\n",
    "        difference = predicted_spread - opening_spread\n",
    "\n",
    "        # REVISED Trigger Logic\n",
    "        if abs(difference) > BET_THRESHOLD:\n",
    "            if predicted_spread > opening_spread:\n",
    "                bet_on = 'away'\n",
    "            elif predicted_spread < opening_spread:\n",
    "                bet_on = 'home'\n",
    "            # else: difference == 0, no bet\n",
    "\n",
    "        # Grade the bet if one was placed\n",
    "        if bet_on:\n",
    "            # REVISED: Actual margin from AWAY team perspective\n",
    "            actual_margin = game['away_points'] - game['home_points']\n",
    "\n",
    "            if bet_on == 'away':\n",
    "                if actual_margin > opening_spread: result, profit_loss = 'win', WIN_PAYOUT\n",
    "                elif actual_margin < opening_spread: result, profit_loss = 'loss', -LOSS_AMOUNT\n",
    "                else: result, profit_loss = 'push', 0\n",
    "            elif bet_on == 'home':\n",
    "                if actual_margin < opening_spread: result, profit_loss = 'win', WIN_PAYOUT\n",
    "                elif actual_margin > opening_spread: result, profit_loss = 'loss', -LOSS_AMOUNT\n",
    "                else: result, profit_loss = 'push', 0\n",
    "\n",
    "        results.append({\n",
    "            'game_id': game['id'],\n",
    "            'season': game['season'],\n",
    "            'predicted_spread_market': predicted_spread,\n",
    "            'opening_spread': opening_spread,\n",
    "            'bet_on': bet_on,\n",
    "            'result': result,\n",
    "            'profit_loss': profit_loss\n",
    "        })\n",
    "\n",
    "    return pd.DataFrame(results)"
   ]
  },
  {
   "cell_type": "markdown",
   "metadata": {
    "id": "fVlIszjx0WJg"
   },
   "source": [
    "### Create Evaluation Function"
   ]
  },
  {
   "cell_type": "code",
   "execution_count": 57,
   "metadata": {
    "colab": {
     "base_uri": "https://localhost:8080/"
    },
    "executionInfo": {
     "elapsed": 6,
     "status": "ok",
     "timestamp": 1745933673090,
     "user": {
      "displayName": "Austin Bervig",
      "userId": "09756579539086543276"
     },
     "user_tz": 300
    },
    "id": "1BFwarwfrML5",
    "outputId": "cd81ec6e-714a-4bae-b21d-4280ff3dd1d4"
   },
   "outputs": [
    {
     "name": "stdout",
     "output_type": "stream",
     "text": [
      "['home_pregame_elo', 'home_postgame_elo', 'away_pregame_elo', 'away_postgame_elo', 'home_pregame_elo_calc', 'away_pregame_elo_calc', 'elo_diff_calc']\n"
     ]
    }
   ],
   "source": [
    "print([f for f in val_df.columns if 'elo' in f])"
   ]
  },
  {
   "cell_type": "code",
   "execution_count": 58,
   "metadata": {
    "colab": {
     "base_uri": "https://localhost:8080/"
    },
    "executionInfo": {
     "elapsed": 3138,
     "status": "ok",
     "timestamp": 1745933677340,
     "user": {
      "displayName": "Austin Bervig",
      "userId": "09756579539086543276"
     },
     "user_tz": 300
    },
    "id": "TdV9LOXL0X6y",
    "outputId": "8e0dc9ca-4d71-4f84-bcee-3de91560ddd1"
   },
   "outputs": [
    {
     "name": "stdout",
     "output_type": "stream",
     "text": [
      "Collecting optuna\n",
      "  Downloading optuna-4.3.0-py3-none-any.whl.metadata (17 kB)\n",
      "Collecting alembic>=1.5.0 (from optuna)\n",
      "  Downloading alembic-1.15.2-py3-none-any.whl.metadata (7.3 kB)\n",
      "Collecting colorlog (from optuna)\n",
      "  Downloading colorlog-6.9.0-py3-none-any.whl.metadata (10 kB)\n",
      "Requirement already satisfied: numpy in /usr/local/lib/python3.11/dist-packages (from optuna) (2.0.2)\n",
      "Requirement already satisfied: packaging>=20.0 in /usr/local/lib/python3.11/dist-packages (from optuna) (24.2)\n",
      "Requirement already satisfied: sqlalchemy>=1.4.2 in /usr/local/lib/python3.11/dist-packages (from optuna) (2.0.40)\n",
      "Requirement already satisfied: tqdm in /usr/local/lib/python3.11/dist-packages (from optuna) (4.67.1)\n",
      "Requirement already satisfied: PyYAML in /usr/local/lib/python3.11/dist-packages (from optuna) (6.0.2)\n",
      "Requirement already satisfied: Mako in /usr/lib/python3/dist-packages (from alembic>=1.5.0->optuna) (1.1.3)\n",
      "Requirement already satisfied: typing-extensions>=4.12 in /usr/local/lib/python3.11/dist-packages (from alembic>=1.5.0->optuna) (4.13.2)\n",
      "Requirement already satisfied: greenlet>=1 in /usr/local/lib/python3.11/dist-packages (from sqlalchemy>=1.4.2->optuna) (3.2.1)\n",
      "Downloading optuna-4.3.0-py3-none-any.whl (386 kB)\n",
      "\u001b[2K   \u001b[90m━━━━━━━━━━━━━━━━━━━━━━━━━━━━━━━━━━━━━━━━\u001b[0m \u001b[32m386.6/386.6 kB\u001b[0m \u001b[31m14.6 MB/s\u001b[0m eta \u001b[36m0:00:00\u001b[0m\n",
      "\u001b[?25hDownloading alembic-1.15.2-py3-none-any.whl (231 kB)\n",
      "\u001b[2K   \u001b[90m━━━━━━━━━━━━━━━━━━━━━━━━━━━━━━━━━━━━━━━━\u001b[0m \u001b[32m231.9/231.9 kB\u001b[0m \u001b[31m21.8 MB/s\u001b[0m eta \u001b[36m0:00:00\u001b[0m\n",
      "\u001b[?25hDownloading colorlog-6.9.0-py3-none-any.whl (11 kB)\n",
      "Installing collected packages: colorlog, alembic, optuna\n",
      "Successfully installed alembic-1.15.2 colorlog-6.9.0 optuna-4.3.0\n"
     ]
    }
   ],
   "source": [
    "!pip install optuna\n",
    "# Optional: Integrate betting simulation (requires val_df to have opening spreads & scores)\n",
    "# Ensure val_df has needed columns if simulating bets:\n",
    "val_required_cols = ['avg_opening_spread', 'home_points', 'away_points', 'neutral_site', 'id', 'season', 'week', 'home_team', 'away_team', 'home_pregame_elo_calc', 'away_pregame_elo_calc']\n",
    "\n",
    "\n",
    "def evaluate_feature_set_with_bets_nan(feature_set_name, features, xgb_params, num_round, X_train_fs_nan, y_train_fs, X_val_fs_nan, y_val_fs, val_df):\n",
    "    \"\"\"Trains XGBoost and evaluates on the validation set.\"\"\"\n",
    "    print(f\"\\n--- Evaluating Feature Set: {feature_set_name} ({len(features)} features) ---\")\n",
    "    start_time = time.time()\n",
    "\n",
    "    # Select features - using the PRE-IMPUTED data for this loop\n",
    "    X_train_subset = X_train_fs_nan[features]\n",
    "    X_val_subset = X_val_fs_nan[features]\n",
    "\n",
    "    # Prepare data for XGBoost\n",
    "    dtrain = xgb.DMatrix(X_train_subset, label=y_train, enable_categorical=False)\n",
    "    dval = xgb.DMatrix(X_val_subset, label=y_val, enable_categorical=False)\n",
    "\n",
    "    # Train the model\n",
    "    watchlist = [(dtrain, 'train'), (dval, 'eval')]\n",
    "    model = xgb.train(\n",
    "        xgb_params,\n",
    "        dtrain,\n",
    "        num_boost_round=num_round,\n",
    "        evals=watchlist,\n",
    "        verbose_eval=False, # Suppress verbose output during training\n",
    "        # early_stopping_rounds=10 # Optional: Stop early if validation RMSE doesn't improve\n",
    "    )\n",
    "\n",
    "    # Predict on validation set\n",
    "    y_pred_val = model.predict(dval)\n",
    "\n",
    "    # Calculate performance metrics\n",
    "    rmse = np.sqrt(mean_squared_error(y_val_fs, y_pred_val))\n",
    "    mae = mean_absolute_error(y_val_fs, y_pred_val)\n",
    "    # Calculate correlation using pandas Series for correct handling\n",
    "    predictions_series = pd.Series(y_pred_val, index=y_val_fs.index)\n",
    "    correlation = y_val_fs.corr(predictions_series)\n",
    "    bias = np.mean(y_pred_val - y_val_fs)\n",
    "\n",
    "    # --- Optional: Betting Simulation ---\n",
    "    betting_units = np.nan # Placeholder\n",
    "    betting_roi = np.nan\n",
    "    betting_win_rate = np.nan\n",
    "    # Uncomment and adapt if you have the simulator and necessary columns in val_df\n",
    "    try:\n",
    "      # Create a temporary df with predictions and necessary info for sim\n",
    "      sim_input_df = val_df[val_required_cols].copy()\n",
    "      sim_input_df['predicted_spread_market'] = y_pred_val\n",
    "      #Note: The simulator needs the ELO_SPREAD_DIVISOR and HFA from Elo tuning\n",
    "      #Pass them appropriately if needed by the simulator function\n",
    "      betting_results = simulate_betting(sim_input_df) # Need elo params\n",
    "      betting_units = betting_results['profit_loss'].sum()\n",
    "      total_bets = len(betting_results[betting_results['bet_on'].notna()])\n",
    "      total_wins = len(betting_results[betting_results['result'] == 'win'])\n",
    "      total_losses = len(betting_results[betting_results['result'] == 'loss'])\n",
    "      if (total_wins + total_losses) > 0:\n",
    "          betting_win_rate = total_wins / (total_wins + total_losses)\n",
    "      total_risked = (total_wins + total_losses)  # LOSS_AMOUNT=1\n",
    "      if total_risked > 0:\n",
    "          betting_roi = (betting_units / total_risked) * 100\n",
    "    except Exception as e:\n",
    "      print(f\"Betting simulation failed for {feature_set_name}: {e}\")\n",
    "    # ------------------------------------\n",
    "\n",
    "    end_time = time.time()\n",
    "    duration = end_time - start_time\n",
    "\n",
    "    results = {\n",
    "        'Set Name': feature_set_name,\n",
    "        'Num Features': len(features),\n",
    "        'RMSE': rmse,\n",
    "        'MAE': mae,\n",
    "        'Correlation': correlation,\n",
    "        'Bias': bias,\n",
    "        'Betting Units': betting_units, # Will be NaN if simulation skipped\n",
    "        'Betting Win Rate': betting_win_rate, # Will be NaN if simulation skipped\n",
    "        'Betting ROI': betting_roi, # Will be NaN if simulation skipped\n",
    "        'Eval Time (s)': duration\n",
    "    }\n",
    "\n",
    "    print(f\"  RMSE: {rmse:.4f}, MAE: {mae:.4f}, Correlation: {correlation:.4f}, Bias: {bias:.4f}, Time: {duration:.1f}s\")\n",
    "    # print(f\"  Betting: Units={betting_units:.2f}, Win Rate={betting_win_rate:.2%}, ROI={betting_roi:.2f}%\") # Uncomment if sim runs\n",
    "\n",
    "    return results"
   ]
  },
  {
   "cell_type": "markdown",
   "metadata": {
    "id": "b9fy43tb0dNU"
   },
   "source": [
    "### Run the Loop"
   ]
  },
  {
   "cell_type": "code",
   "execution_count": 59,
   "metadata": {
    "colab": {
     "base_uri": "https://localhost:8080/"
    },
    "executionInfo": {
     "elapsed": 5043,
     "status": "ok",
     "timestamp": 1745933688089,
     "user": {
      "displayName": "Austin Bervig",
      "userId": "09756579539086543276"
     },
     "user_tz": 300
    },
    "id": "GdDiaa5_0eBi",
    "outputId": "b29a5a31-6b17-4710-cd3d-eb8d3a94b846"
   },
   "outputs": [
    {
     "name": "stdout",
     "output_type": "stream",
     "text": [
      "\n",
      "--- Evaluating Feature Set: A_Basic (7 features) ---\n",
      "  RMSE: 5.9103, MAE: 4.5935, Correlation: 0.9072, Bias: 0.3813, Time: 0.7s\n",
      "\n",
      "--- Evaluating Feature Set: B_Top50_Corr (50 features) ---\n",
      "  RMSE: 5.2609, MAE: 4.0520, Correlation: 0.9276, Bias: -0.3532, Time: 0.8s\n",
      "\n",
      "--- Evaluating Feature Set: C_Top50_RF_Importance (50 features) ---\n",
      "  RMSE: 5.1361, MAE: 3.9042, Correlation: 0.9306, Bias: 0.1785, Time: 0.8s\n",
      "\n",
      "--- Evaluating Feature Set: D_Reduced_Correlation (77 features) ---\n",
      "  RMSE: 5.1797, MAE: 4.0107, Correlation: 0.9294, Bias: 0.2816, Time: 1.1s\n",
      "\n",
      "--- Evaluating Feature Set: E_All_Initial_Filtered (92 features) ---\n",
      "  RMSE: 5.0551, MAE: 3.9148, Correlation: 0.9327, Bias: 0.0572, Time: 0.9s\n",
      "\n",
      "--- Evaluating Feature Set: F_Top50_RF_plus_Basic (50 features) ---\n",
      "  RMSE: 5.1861, MAE: 3.9805, Correlation: 0.9291, Bias: 0.1960, Time: 0.7s\n"
     ]
    }
   ],
   "source": [
    "all_results = []\n",
    "for name, feature_list in candidate_feature_sets.items():\n",
    "    # Ensure feature list is not empty and features exist in X_train\n",
    "    valid_features = [f for f in feature_list if f in X_train.columns]\n",
    "    if not valid_features:\n",
    "        print(f\"\\n--- Skipping Feature Set: {name} (No valid features found) ---\")\n",
    "        continue\n",
    "    if len(valid_features) < len(feature_list):\n",
    "         print(f\"\\nWarning: Some features for set '{name}' were not found in X_train after filtering.\")\n",
    "\n",
    "    result = evaluate_feature_set_with_bets_nan(name, valid_features, xgb_params, num_boost_round, X_train, y_train, X_val, y_val, val_df)\n",
    "    all_results.append(result)"
   ]
  },
  {
   "cell_type": "markdown",
   "metadata": {
    "id": "9INyhLeC0gk8"
   },
   "source": [
    "### Present Results"
   ]
  },
  {
   "cell_type": "code",
   "execution_count": null,
   "metadata": {
    "colab": {
     "base_uri": "https://localhost:8080/"
    },
    "executionInfo": {
     "elapsed": 6,
     "status": "ok",
     "timestamp": 1745933696658,
     "user": {
      "displayName": "Austin Bervig",
      "userId": "09756579539086543276"
     },
     "user_tz": 300
    },
    "id": "MTS-9K4J0h6C",
    "outputId": "e08f459a-1581-4bcc-e73f-b333df9298f0"
   },
   "outputs": [
    {
     "name": "stdout",
     "output_type": "stream",
     "text": [
      "\n",
      "--- Feature Set Evaluation Summary ---\n",
      "              Set Name  Num Features   RMSE    MAE Correlation    Bias Betting Units Betting Win Rate Betting ROI Eval Time (s)\n",
      "E_All_Initial_Filtered            92 5.0551 3.9148      0.9327  0.0572        -29.24           51.22%      -2.23%           0.9\n",
      " C_Top50_RF_Importance            50 5.1361 3.9042      0.9306  0.1785        -35.88           50.93%      -2.78%           0.8\n",
      " D_Reduced_Correlation            77 5.1797 4.0107      0.9294  0.2816        -36.15           50.95%      -2.74%           1.1\n",
      " F_Top50_RF_plus_Basic            50 5.1861 3.9805      0.9291  0.1960        -29.70           51.17%      -2.32%           0.7\n",
      "          B_Top50_Corr            50 5.2609 4.0520      0.9276 -0.3532        -45.61           50.57%      -3.46%           0.8\n",
      "               A_Basic             7 5.9103 4.5935      0.9072  0.3813        -69.51           49.62%      -5.27%           0.7\n",
      "\n",
      "--- Phase 2, Steps 4 & 5 Complete ---\n",
      "Evaluated candidate feature sets on the validation data.\n",
      "Next Steps: Analyze results, potentially refine feature sets and iterate, then proceed to hyperparameter tuning (Phase 3) on the chosen set(s).\n"
     ]
    }
   ],
   "source": [
    "print(\"\\n--- Feature Set Evaluation Summary ---\")\n",
    "results_df = pd.DataFrame(all_results)\n",
    "results_df.sort_values(by='RMSE', ascending=True, inplace=True) # Sort by primary metric (RMSE)\n",
    "\n",
    "# Format columns for display\n",
    "results_df['RMSE'] = results_df['RMSE'].map('{:.4f}'.format)\n",
    "results_df['MAE'] = results_df['MAE'].map('{:.4f}'.format)\n",
    "results_df['Correlation'] = results_df['Correlation'].map('{:.4f}'.format)\n",
    "results_df['Bias'] = results_df['Bias'].map('{:.4f}'.format)\n",
    "results_df['Betting Units'] = results_df['Betting Units'].map('{:.2f}'.format)\n",
    "results_df['Betting Win Rate'] = results_df['Betting Win Rate'].map('{:.2%}'.format)\n",
    "results_df['Betting ROI'] = results_df['Betting ROI'].map('{:.2f}%'.format)\n",
    "results_df['Eval Time (s)'] = results_df['Eval Time (s)'].map('{:.1f}'.format)\n",
    "\n",
    "\n",
    "print(results_df.to_string(index=False))\n",
    "\n",
    "print(\"\\n--- Phase 2, Steps 4 & 5 Complete ---\")\n",
    "print(\"Evaluated candidate feature sets on the validation data.\")\n",
    "print(\"Next Steps: Analyze results, potentially refine feature sets and iterate, then proceed to hyperparameter tuning (Phase 3) on the chosen set(s).\")"
   ]
  },
  {
   "cell_type": "markdown",
   "metadata": {
    "id": "hk9qi8O13ftD"
   },
   "source": [
    "# Phase 3: Model Selection and Training"
   ]
  },
  {
   "cell_type": "markdown",
   "metadata": {
    "id": "7Y20JREOcVq4"
   },
   "source": [
    "### Select Best Feature Set"
   ]
  },
  {
   "cell_type": "code",
   "execution_count": 61,
   "metadata": {
    "colab": {
     "base_uri": "https://localhost:8080/"
    },
    "executionInfo": {
     "elapsed": 6,
     "status": "ok",
     "timestamp": 1745933709857,
     "user": {
      "displayName": "Austin Bervig",
      "userId": "09756579539086543276"
     },
     "user_tz": 300
    },
    "id": "HdV3N6mC3jNI",
    "outputId": "78f286f6-e40d-4d1c-e4e8-1f1b8c187c01"
   },
   "outputs": [
    {
     "name": "stdout",
     "output_type": "stream",
     "text": [
      "Selected best feature set for tuning: 'E_All_Initial_Filtered' (92 features)\n",
      "Using feature shapes: X_train_best=(5583, 92), X_val_best=(1467, 92)\n"
     ]
    }
   ],
   "source": [
    "# Choose the set name that performed best in the previous step's results_df\n",
    "# Example: Assuming 'D_Reduced_Correlation' was best\n",
    "# best_feature_set_name = 'D_Reduced_Correlation'\n",
    "# If you manually created the list previously:\n",
    "# best_features = features_after_corr_drop # Or whichever list corresponds to the best set\n",
    "# Or retrieve from the candidate dictionary:\n",
    "best_feature_set_name = results_df.iloc[0]['Set Name'] # Assumes results_df sorted by best metric\n",
    "best_features = candidate_feature_sets[best_feature_set_name]\n",
    "\n",
    "print(f\"Selected best feature set for tuning: '{best_feature_set_name}' ({len(best_features)} features)\")\n",
    "\n",
    "# Prepare final training and validation data with ONLY the selected features\n",
    "# Using the temporarily imputed data from the previous step for consistency during tuning\n",
    "X_train_best = X_train[best_features].copy()\n",
    "X_val_best = X_val[best_features].copy()\n",
    "\n",
    "print(f\"Using feature shapes: X_train_best={X_train_best.shape}, X_val_best={X_val_best.shape}\")"
   ]
  },
  {
   "cell_type": "markdown",
   "metadata": {
    "id": "n5lhXQjZcfGc"
   },
   "source": [
    "### Define Objective Function for Optuna"
   ]
  },
  {
   "cell_type": "code",
   "execution_count": 62,
   "metadata": {
    "executionInfo": {
     "elapsed": 47,
     "status": "ok",
     "timestamp": 1745933712008,
     "user": {
      "displayName": "Austin Bervig",
      "userId": "09756579539086543276"
     },
     "user_tz": 300
    },
    "id": "-e07bF18cg-Y"
   },
   "outputs": [],
   "source": [
    "import optuna\n",
    "\n",
    "def objective_xgb_nan(trial, X_train_hp_nan, y_train_hp, X_val_hp_nan, y_val_hp, validation_df_hp):\n",
    "    \"\"\"Objective function for Optuna XGBoost hyperparameter tuning.\"\"\"\n",
    "\n",
    "    # --- 3. Define Search Space ---\n",
    "    xgb_params = {\n",
    "        'objective': 'reg:squarederror',\n",
    "        'eval_metric': 'rmse',\n",
    "        'seed': 42,\n",
    "        'nthread': -1, # Use all cores\n",
    "        'device': 'cuda', # Enable GPU Acceleration\n",
    "        # Parameters to tune:\n",
    "        'eta': trial.suggest_float('eta', 0.01, 0.3, log=True),             # Learning rate\n",
    "        'max_depth': trial.suggest_int('max_depth', 3, 9),                  # Max tree depth\n",
    "        'subsample': trial.suggest_float('subsample', 0.5, 1.0),            # Row subsampling\n",
    "        'colsample_bytree': trial.suggest_float('colsample_bytree', 0.5, 1.0), # Feature subsampling\n",
    "        'min_child_weight': trial.suggest_int('min_child_weight', 1, 10),   # Min samples in leaf node\n",
    "        'gamma': trial.suggest_float('gamma', 0, 0.5),                      # Min loss reduction for split\n",
    "        'lambda': trial.suggest_float('lambda', 1e-8, 1.0, log=True),       # L2 regularization\n",
    "        'alpha': trial.suggest_float('alpha', 1e-8, 1.0, log=True),         # L1 regularization\n",
    "        # 'missing': np.nan # Enable if using non-imputed data\n",
    "    }\n",
    "\n",
    "    # Fixed number of boosting rounds for tuning (can be tuned itself later)\n",
    "    # Or use early stopping within the training call\n",
    "    num_boost_round_hp = 200 # Increase rounds for tuning?\n",
    "\n",
    "    # Prepare data\n",
    "    dtrain = xgb.DMatrix(X_train_hp_nan, label=y_train_hp)\n",
    "    dval = xgb.DMatrix(X_val_hp_nan, label=y_val_hp)\n",
    "    watchlist = [(dtrain, 'train'), (dval, 'eval')]\n",
    "\n",
    "    # Train model with suggested parameters\n",
    "    # Using early stopping is highly recommended during tuning\n",
    "    bst = xgb.train(\n",
    "        xgb_params,\n",
    "        dtrain,\n",
    "        num_boost_round=num_boost_round_hp,\n",
    "        evals=watchlist,\n",
    "        early_stopping_rounds=25, # Stop if validation RMSE doesn't improve for 25 rounds\n",
    "        verbose_eval=False # Keep quiet during Optuna trials\n",
    "    )\n",
    "\n",
    "    # Evaluate on validation set\n",
    "    y_pred_val_hp = bst.predict(dval, iteration_range=(0, bst.best_iteration)) # Use best iteration\n",
    "    rmse_val = np.sqrt(mean_squared_error(y_val_hp, y_pred_val_hp))\n",
    "\n",
    "    # --- Optional: Calculate betting simulation for this trial ---\n",
    "    # This adds significant time to each trial but directly optimizes for bets\n",
    "\n",
    "    run_betting_sim_in_tuning = False # Set to False to speed up tuning based only on RMSE\n",
    "\n",
    "    if run_betting_sim_in_tuning:\n",
    "        try:\n",
    "            sim_input_df_hp = validation_df_hp[val_required_cols].copy()\n",
    "            sim_input_df_hp['predicted_spread_market'] = pd.Series(y_pred_val_hp, index=validation_df_hp.index) # Align index\n",
    "            betting_results_hp = simulate_betting(sim_input_df_hp)\n",
    "\n",
    "            if not betting_results_hp.empty:\n",
    "                betting_units_hp = betting_results_hp['profit_loss'].sum()\n",
    "                bets_placed_df_hp = betting_results_hp[betting_results_hp['bet_on'].notna()]\n",
    "                wins_hp = len(bets_placed_df_hp[bets_placed_df_hp['result'] == 'win'])\n",
    "                losses_hp = len(bets_placed_df_hp[bets_placed_df_hp['result'] == 'loss'])\n",
    "                if (wins_hp + losses_hp) > 0:\n",
    "                    total_risked_hp = (wins_hp + losses_hp) * LOSS_AMOUNT\n",
    "                    roi_hp = (betting_units_hp / total_risked_hp) * 100 if total_risked_hp > 0 else 0.0\n",
    "                else:\n",
    "                     roi_hp = 0.0 # Or NaN\n",
    "                 # Store ROI as user attribute to see it, but still optimize RMSE\n",
    "                trial.set_user_attr(\"val_roi\", roi_hp)\n",
    "                trial.set_user_attr(\"val_units\", betting_units_hp)\n",
    "            else:\n",
    "                 trial.set_user_attr(\"val_roi\", np.nan)\n",
    "                 trial.set_user_attr(\"val_units\", 0.0)\n",
    "\n",
    "        except Exception as e:\n",
    "             print(f\"Warning: Betting sim failed in trial {trial.number}: {e}\")\n",
    "             trial.set_user_attr(\"val_roi\", np.nan)\n",
    "             trial.set_user_attr(\"val_units\", np.nan)\n",
    "\n",
    "    # Return the metric to minimize (Validation RMSE)\n",
    "    return rmse_val"
   ]
  },
  {
   "cell_type": "markdown",
   "metadata": {
    "id": "yrhlLUSPclWP"
   },
   "source": [
    "### Run Optuna Study"
   ]
  },
  {
   "cell_type": "code",
   "execution_count": 63,
   "metadata": {
    "colab": {
     "base_uri": "https://localhost:8080/",
     "height": 1000,
     "referenced_widgets": [
      "cfa549d0894f4620b750921ce19304ab",
      "497bbca2343c496db1d513de2df10a78",
      "02643d7484594b728339bd9d8222f6ad",
      "4ac8770b9fdf4e7ab4a574f431b2996d",
      "c91fa4c26db1438abab0cb8d546041dc",
      "ce009419fdec49b8a5a3b3caf1624214",
      "7a8198fb35124e8892b5404934962c57",
      "f3337d7f547f44e4af5a209d51fe6149",
      "a8a87caf049045d0a111adb1ce2c7af4",
      "ef632c5c398a421f9c6dc040d1be8776",
      "ecc3b5f8cb51480a861f3d59b0edbb48"
     ]
    },
    "executionInfo": {
     "elapsed": 107462,
     "status": "ok",
     "timestamp": 1745933822289,
     "user": {
      "displayName": "Austin Bervig",
      "userId": "09756579539086543276"
     },
     "user_tz": 300
    },
    "id": "goNH5z1dcnnz",
    "outputId": "c13215dd-9180-4511-dd1a-0a3d53b1056f"
   },
   "outputs": [
    {
     "name": "stderr",
     "output_type": "stream",
     "text": [
      "[I 2025-04-29 13:35:15,046] A new study created in memory with name: XGBoost Spread Prediction NaN\n"
     ]
    },
    {
     "name": "stdout",
     "output_type": "stream",
     "text": [
      "\n",
      "Starting Optuna hyperparameter search (100 trials)...\n"
     ]
    },
    {
     "data": {
      "application/vnd.jupyter.widget-view+json": {
       "model_id": "cfa549d0894f4620b750921ce19304ab",
       "version_major": 2,
       "version_minor": 0
      },
      "text/plain": [
       "  0%|          | 0/100 [00:00<?, ?it/s]"
      ]
     },
     "metadata": {},
     "output_type": "display_data"
    },
    {
     "name": "stdout",
     "output_type": "stream",
     "text": [
      "[I 2025-04-29 13:35:17,229] Trial 0 finished with value: 5.240144785335098 and parameters: {'eta': 0.016726872508442084, 'max_depth': 8, 'subsample': 0.9189089449734937, 'colsample_bytree': 0.5698855352088656, 'min_child_weight': 2, 'gamma': 0.25079361270468153, 'lambda': 0.0028943555321689473, 'alpha': 0.014695083662933725}. Best is trial 0 with value: 5.240144785335098.\n",
      "[I 2025-04-29 13:35:18,441] Trial 1 finished with value: 5.2078946162280655 and parameters: {'eta': 0.06918337449063491, 'max_depth': 8, 'subsample': 0.7111544469581389, 'colsample_bytree': 0.9669439465519054, 'min_child_weight': 2, 'gamma': 0.2592657139864994, 'lambda': 1.4333390389642539e-06, 'alpha': 0.04585118145606937}. Best is trial 1 with value: 5.2078946162280655.\n",
      "[I 2025-04-29 13:35:19,791] Trial 2 finished with value: 5.246987188582494 and parameters: {'eta': 0.07124863906271331, 'max_depth': 9, 'subsample': 0.8375899841135076, 'colsample_bytree': 0.9748521820895921, 'min_child_weight': 9, 'gamma': 0.18376873433209517, 'lambda': 0.038270077020430365, 'alpha': 0.01849348584463315}. Best is trial 1 with value: 5.2078946162280655.\n",
      "[I 2025-04-29 13:35:20,334] Trial 3 finished with value: 5.136458869589012 and parameters: {'eta': 0.02799708612479743, 'max_depth': 4, 'subsample': 0.7253176026919141, 'colsample_bytree': 0.7470279915325604, 'min_child_weight': 3, 'gamma': 0.44457540794440203, 'lambda': 2.477237291974885e-07, 'alpha': 3.181816081177723e-05}. Best is trial 3 with value: 5.136458869589012.\n",
      "[I 2025-04-29 13:35:20,971] Trial 4 finished with value: 5.084458955966872 and parameters: {'eta': 0.0396066194421648, 'max_depth': 5, 'subsample': 0.8798173369551053, 'colsample_bytree': 0.6368020085221817, 'min_child_weight': 9, 'gamma': 0.1763582242795464, 'lambda': 5.756827513908022e-06, 'alpha': 0.1810054958153951}. Best is trial 4 with value: 5.084458955966872.\n",
      "[I 2025-04-29 13:35:22,285] Trial 5 finished with value: 5.289226950394057 and parameters: {'eta': 0.013441228169874857, 'max_depth': 7, 'subsample': 0.8357296926626374, 'colsample_bytree': 0.6928360101925006, 'min_child_weight': 4, 'gamma': 0.19964669761460396, 'lambda': 0.00019473139201601667, 'alpha': 2.3536276720023741e-07}. Best is trial 4 with value: 5.084458955966872.\n",
      "[I 2025-04-29 13:35:22,682] Trial 6 finished with value: 5.100587504400337 and parameters: {'eta': 0.08273280267449189, 'max_depth': 4, 'subsample': 0.6842167173709885, 'colsample_bytree': 0.9517169110911059, 'min_child_weight': 1, 'gamma': 0.058836075549591804, 'lambda': 0.2560081874523325, 'alpha': 5.47899839756063e-06}. Best is trial 4 with value: 5.084458955966872.\n",
      "[I 2025-04-29 13:35:22,895] Trial 7 finished with value: 5.7034837888338075 and parameters: {'eta': 0.23797111489710387, 'max_depth': 6, 'subsample': 0.8274954350165451, 'colsample_bytree': 0.5356542421586832, 'min_child_weight': 5, 'gamma': 0.16798606110749825, 'lambda': 0.00017554449218657275, 'alpha': 0.054356596386403604}. Best is trial 4 with value: 5.084458955966872.\n",
      "[I 2025-04-29 13:35:23,218] Trial 8 finished with value: 5.164398379835974 and parameters: {'eta': 0.13723418455376601, 'max_depth': 4, 'subsample': 0.6981256685388004, 'colsample_bytree': 0.6247400365320598, 'min_child_weight': 9, 'gamma': 0.060517518603556475, 'lambda': 2.037716050843799e-06, 'alpha': 0.019714887265682605}. Best is trial 4 with value: 5.084458955966872.\n",
      "[I 2025-04-29 13:35:23,818] Trial 9 finished with value: 5.427268313975312 and parameters: {'eta': 0.25021203874064385, 'max_depth': 6, 'subsample': 0.6279131533947389, 'colsample_bytree': 0.9353734414599292, 'min_child_weight': 2, 'gamma': 0.46723819778876796, 'lambda': 1.511670225451329e-08, 'alpha': 0.0007515975442252105}. Best is trial 4 with value: 5.084458955966872.\n",
      "[I 2025-04-29 13:35:24,350] Trial 10 finished with value: 5.215103750530827 and parameters: {'eta': 0.03328706751073086, 'max_depth': 3, 'subsample': 0.5117790196707519, 'colsample_bytree': 0.8352430670745815, 'min_child_weight': 7, 'gamma': 0.39340356892531436, 'lambda': 1.5963047272336544e-05, 'alpha': 0.8675755711971612}. Best is trial 4 with value: 5.084458955966872.\n",
      "[I 2025-04-29 13:35:25,646] Trial 11 finished with value: 5.119139342518871 and parameters: {'eta': 0.04434313208181368, 'max_depth': 5, 'subsample': 0.987412385035515, 'colsample_bytree': 0.8206307094174685, 'min_child_weight': 7, 'gamma': 0.028231028531412072, 'lambda': 0.810601128662698, 'alpha': 2.0531082321715713e-06}. Best is trial 4 with value: 5.084458955966872.\n",
      "[I 2025-04-29 13:35:26,153] Trial 12 finished with value: 5.135080656412807 and parameters: {'eta': 0.10619963493549947, 'max_depth': 3, 'subsample': 0.5913219066499995, 'colsample_bytree': 0.6729109315567754, 'min_child_weight': 10, 'gamma': 0.10062302523485633, 'lambda': 0.0038945157972361372, 'alpha': 1.1929930657094409e-08}. Best is trial 4 with value: 5.084458955966872.\n",
      "[I 2025-04-29 13:35:26,880] Trial 13 finished with value: 5.084742326311251 and parameters: {'eta': 0.024897445636177074, 'max_depth': 5, 'subsample': 0.7820163669496967, 'colsample_bytree': 0.8721209607552509, 'min_child_weight': 7, 'gamma': 0.12204042227082185, 'lambda': 0.722771246282149, 'alpha': 0.00012102688388384038}. Best is trial 4 with value: 5.084458955966872.\n",
      "[I 2025-04-29 13:35:27,606] Trial 14 finished with value: 5.155346738009305 and parameters: {'eta': 0.02033027500093411, 'max_depth': 5, 'subsample': 0.7901640852333947, 'colsample_bytree': 0.8393821204578447, 'min_child_weight': 7, 'gamma': 0.36164079563902773, 'lambda': 1.9509905849695878e-05, 'alpha': 0.0007234802786004881}. Best is trial 4 with value: 5.084458955966872.\n",
      "[I 2025-04-29 13:35:28,292] Trial 15 finished with value: 5.077257069767818 and parameters: {'eta': 0.03821420075124763, 'max_depth': 5, 'subsample': 0.8919590513536093, 'colsample_bytree': 0.7653521343259997, 'min_child_weight': 8, 'gamma': 0.11339357106077913, 'lambda': 0.0029377169294802405, 'alpha': 0.0006392685176192183}. Best is trial 15 with value: 5.077257069767818.\n",
      "[I 2025-04-29 13:35:29,412] Trial 16 finished with value: 5.084466234433505 and parameters: {'eta': 0.04332163529384068, 'max_depth': 7, 'subsample': 0.9210459939166915, 'colsample_bytree': 0.7556917593249246, 'min_child_weight': 9, 'gamma': 0.32127664028767805, 'lambda': 0.002347461333334825, 'alpha': 0.3517692414306038}. Best is trial 15 with value: 5.077257069767818.\n",
      "[I 2025-04-29 13:35:30,346] Trial 17 finished with value: 5.656215833705403 and parameters: {'eta': 0.01065445761236593, 'max_depth': 5, 'subsample': 0.9087698466074399, 'colsample_bytree': 0.6109682630533045, 'min_child_weight': 8, 'gamma': 0.0022601365717678235, 'lambda': 0.0006929869038532072, 'alpha': 0.0015643605363061066}. Best is trial 15 with value: 5.077257069767818.\n",
      "[I 2025-04-29 13:35:31,421] Trial 18 finished with value: 5.086002822096722 and parameters: {'eta': 0.047271136896671964, 'max_depth': 6, 'subsample': 0.9820883933187481, 'colsample_bytree': 0.7441860033257413, 'min_child_weight': 10, 'gamma': 0.1502418094003981, 'lambda': 0.039664652331936584, 'alpha': 0.0042039526600579046}. Best is trial 15 with value: 5.077257069767818.\n",
      "[I 2025-04-29 13:35:31,923] Trial 19 finished with value: 5.3005255495009616 and parameters: {'eta': 0.14940967222193105, 'max_depth': 4, 'subsample': 0.8767052536035957, 'colsample_bytree': 0.5014624178741978, 'min_child_weight': 6, 'gamma': 0.28803522390847675, 'lambda': 1.7671205082016003e-05, 'alpha': 0.0001334434789084878}. Best is trial 15 with value: 5.077257069767818.\n",
      "[I 2025-04-29 13:35:32,590] Trial 20 finished with value: 5.2519603808945 and parameters: {'eta': 0.03681053982136084, 'max_depth': 3, 'subsample': 0.9557957506846768, 'colsample_bytree': 0.6841866882096113, 'min_child_weight': 8, 'gamma': 0.21691236411131937, 'lambda': 8.222969110220635e-08, 'alpha': 0.17988492809193224}. Best is trial 15 with value: 5.077257069767818.\n",
      "[I 2025-04-29 13:35:33,620] Trial 21 finished with value: 5.14214978645319 and parameters: {'eta': 0.056437457128684636, 'max_depth': 7, 'subsample': 0.8910317957356318, 'colsample_bytree': 0.7833351203584498, 'min_child_weight': 9, 'gamma': 0.3134714380270381, 'lambda': 0.00545888637948165, 'alpha': 0.8633019597187752}. Best is trial 15 with value: 5.077257069767818.\n",
      "[I 2025-04-29 13:35:34,721] Trial 22 finished with value: 5.092511844049347 and parameters: {'eta': 0.0371191368860015, 'max_depth': 7, 'subsample': 0.9407187412537498, 'colsample_bytree': 0.7368203095292738, 'min_child_weight': 10, 'gamma': 0.3237732258436127, 'lambda': 0.001054800454254057, 'alpha': 0.1271957010049079}. Best is trial 15 with value: 5.077257069767818.\n",
      "[I 2025-04-29 13:35:35,618] Trial 23 finished with value: 5.083788039815941 and parameters: {'eta': 0.02418237854169992, 'max_depth': 6, 'subsample': 0.8692716900700909, 'colsample_bytree': 0.6408562176903955, 'min_child_weight': 8, 'gamma': 0.08503832882196011, 'lambda': 0.041517818401792674, 'alpha': 0.4031430479758245}. Best is trial 15 with value: 5.077257069767818.\n",
      "[I 2025-04-29 13:35:36,511] Trial 24 finished with value: 5.098031492570359 and parameters: {'eta': 0.02267917285643887, 'max_depth': 6, 'subsample': 0.8730958119570942, 'colsample_bytree': 0.6261835412161567, 'min_child_weight': 8, 'gamma': 0.10606261431508408, 'lambda': 0.02338963838086479, 'alpha': 0.003937352039128298}. Best is trial 15 with value: 5.077257069767818.\n",
      "[I 2025-04-29 13:35:37,213] Trial 25 finished with value: 5.22508979183171 and parameters: {'eta': 0.017155408249460838, 'max_depth': 5, 'subsample': 0.7685815464949146, 'colsample_bytree': 0.5827440677918224, 'min_child_weight': 6, 'gamma': 0.12904773109403875, 'lambda': 0.0954089682738434, 'alpha': 0.1737599644362102}. Best is trial 15 with value: 5.077257069767818.\n",
      "[I 2025-04-29 13:35:37,793] Trial 26 finished with value: 5.139334531681441 and parameters: {'eta': 0.060000646351896614, 'max_depth': 6, 'subsample': 0.8530023592902418, 'colsample_bytree': 0.6654015581833204, 'min_child_weight': 5, 'gamma': 0.07329274658484042, 'lambda': 7.104507726293223e-05, 'alpha': 2.3866918761168065e-05}. Best is trial 15 with value: 5.077257069767818.\n",
      "[I 2025-04-29 13:35:38,504] Trial 27 finished with value: 5.09425823986795 and parameters: {'eta': 0.02726081710528728, 'max_depth': 5, 'subsample': 0.80919332457783, 'colsample_bytree': 0.7067885655557751, 'min_child_weight': 8, 'gamma': 0.21569622068684866, 'lambda': 0.009491073276165376, 'alpha': 0.003889315478510358}. Best is trial 15 with value: 5.077257069767818.\n",
      "[I 2025-04-29 13:35:39,085] Trial 28 finished with value: 5.148186866555453 and parameters: {'eta': 0.03175146256671915, 'max_depth': 4, 'subsample': 0.9599393288758203, 'colsample_bytree': 0.8961695535565188, 'min_child_weight': 6, 'gamma': 0.16101185264589188, 'lambda': 3.7304884282333606e-06, 'alpha': 1.0006272232127348e-06}. Best is trial 15 with value: 5.077257069767818.\n",
      "[I 2025-04-29 13:35:40,676] Trial 29 finished with value: 5.229923687806432 and parameters: {'eta': 0.016813053539964415, 'max_depth': 8, 'subsample': 0.9214370172729087, 'colsample_bytree': 0.5687765946778818, 'min_child_weight': 9, 'gamma': 0.23974312773160122, 'lambda': 0.0004990886783409802, 'alpha': 0.05350174872046249}. Best is trial 15 with value: 5.077257069767818.\n",
      "[I 2025-04-29 13:35:41,611] Trial 30 finished with value: 5.322237262564696 and parameters: {'eta': 0.013271081756475123, 'max_depth': 6, 'subsample': 0.7431535078358253, 'colsample_bytree': 0.6507408924520405, 'min_child_weight': 8, 'gamma': 0.08245444975327404, 'lambda': 0.014774876355290513, 'alpha': 0.01041552705894714}. Best is trial 15 with value: 5.077257069767818.\n",
      "[I 2025-04-29 13:35:42,809] Trial 31 finished with value: 5.103629643488582 and parameters: {'eta': 0.04588112922318372, 'max_depth': 7, 'subsample': 0.9050549963188094, 'colsample_bytree': 0.7853979126214927, 'min_child_weight': 9, 'gamma': 0.261440314737338, 'lambda': 0.0037843817229100685, 'alpha': 0.3138319078761026}. Best is trial 15 with value: 5.077257069767818.\n",
      "[I 2025-04-29 13:35:44,560] Trial 32 finished with value: 5.120567946078443 and parameters: {'eta': 0.04392474990287847, 'max_depth': 8, 'subsample': 0.8672378429425589, 'colsample_bytree': 0.7814775011150998, 'min_child_weight': 10, 'gamma': 0.3828209265900393, 'lambda': 0.0012640147355120954, 'alpha': 0.5414349998882417}. Best is trial 15 with value: 5.077257069767818.\n",
      "[I 2025-04-29 13:35:45,656] Trial 33 finished with value: 5.200945183462264 and parameters: {'eta': 0.07592674785933289, 'max_depth': 8, 'subsample': 0.9299098921362375, 'colsample_bytree': 0.713862952486992, 'min_child_weight': 9, 'gamma': 0.1410453328977246, 'lambda': 0.17805653924717757, 'alpha': 0.07495160994218436}. Best is trial 15 with value: 5.077257069767818.\n",
      "[I 2025-04-29 13:35:47,887] Trial 34 finished with value: 5.16328777003765 and parameters: {'eta': 0.020127915672516778, 'max_depth': 9, 'subsample': 0.8100822799070992, 'colsample_bytree': 0.8004269817011606, 'min_child_weight': 8, 'gamma': 0.023254447765414618, 'lambda': 6.604308080277916e-05, 'alpha': 0.021795498299816942}. Best is trial 15 with value: 5.077257069767818.\n",
      "[I 2025-04-29 13:35:49,022] Trial 35 finished with value: 5.066764735427845 and parameters: {'eta': 0.030386928399126423, 'max_depth': 7, 'subsample': 0.8508971546663296, 'colsample_bytree': 0.7172899360710218, 'min_child_weight': 10, 'gamma': 0.1837848665692904, 'lambda': 0.06581408526471018, 'alpha': 0.45869973350066223}. Best is trial 35 with value: 5.066764735427845.\n",
      "[I 2025-04-29 13:35:50,152] Trial 36 finished with value: 5.054034542829328 and parameters: {'eta': 0.02893898413561949, 'max_depth': 7, 'subsample': 0.8426407941625451, 'colsample_bytree': 0.6010871992106543, 'min_child_weight': 10, 'gamma': 0.19660900291604866, 'lambda': 0.056588772226403676, 'alpha': 0.00033301091800505973}. Best is trial 36 with value: 5.054034542829328.\n",
      "[I 2025-04-29 13:35:51,269] Trial 37 finished with value: 5.034791405775428 and parameters: {'eta': 0.03132595022728715, 'max_depth': 7, 'subsample': 0.8406610855837694, 'colsample_bytree': 0.584084367399772, 'min_child_weight': 10, 'gamma': 0.24053737364632366, 'lambda': 0.057075146746769376, 'alpha': 0.000388548989277471}. Best is trial 37 with value: 5.034791405775428.\n",
      "[I 2025-04-29 13:35:52,658] Trial 38 finished with value: 5.0965694504783645 and parameters: {'eta': 0.030249656502757773, 'max_depth': 8, 'subsample': 0.8298951170578155, 'colsample_bytree': 0.5741538145860192, 'min_child_weight': 10, 'gamma': 0.19133636836516588, 'lambda': 0.09490454463038268, 'alpha': 2.7802141049229966e-05}. Best is trial 37 with value: 5.034791405775428.\n",
      "[I 2025-04-29 13:35:53,490] Trial 39 finished with value: 5.121256659044633 and parameters: {'eta': 0.052207614811212465, 'max_depth': 7, 'subsample': 0.7604372035976913, 'colsample_bytree': 0.5432000555340604, 'min_child_weight': 10, 'gamma': 0.2427616113251431, 'lambda': 0.4017960616945333, 'alpha': 0.00024486409079684917}. Best is trial 37 with value: 5.034791405775428.\n",
      "[I 2025-04-29 13:35:54,516] Trial 40 finished with value: 5.164025795181624 and parameters: {'eta': 0.06754132926781363, 'max_depth': 9, 'subsample': 0.8068575667964282, 'colsample_bytree': 0.5939500877422523, 'min_child_weight': 10, 'gamma': 0.2742159961327136, 'lambda': 0.09067695957347771, 'alpha': 0.0003593458987070189}. Best is trial 37 with value: 5.034791405775428.\n",
      "[I 2025-04-29 13:35:55,736] Trial 41 finished with value: 5.076777439854468 and parameters: {'eta': 0.02382411252779233, 'max_depth': 7, 'subsample': 0.8486281244799426, 'colsample_bytree': 0.6048234802460041, 'min_child_weight': 10, 'gamma': 0.20895412605498795, 'lambda': 0.027631220865937965, 'alpha': 5.728727582534309e-05}. Best is trial 37 with value: 5.034791405775428.\n",
      "[I 2025-04-29 13:35:57,036] Trial 42 finished with value: 5.117226468401674 and parameters: {'eta': 0.03378828102299688, 'max_depth': 7, 'subsample': 0.8458002262661181, 'colsample_bytree': 0.5378048385223062, 'min_child_weight': 10, 'gamma': 0.21907191635275955, 'lambda': 0.011699040328751078, 'alpha': 5.386422255537926e-05}. Best is trial 37 with value: 5.034791405775428.\n",
      "[I 2025-04-29 13:35:58,462] Trial 43 finished with value: 5.042723767103677 and parameters: {'eta': 0.028459582783777283, 'max_depth': 7, 'subsample': 0.8460881686181378, 'colsample_bytree': 0.6041333949685811, 'min_child_weight': 10, 'gamma': 0.17815124217744416, 'lambda': 0.23321654529891397, 'alpha': 6.437996905739481e-06}. Best is trial 37 with value: 5.034791405775428.\n",
      "[I 2025-04-29 13:36:00,116] Trial 44 finished with value: 5.228476435283784 and parameters: {'eta': 0.014398212586361717, 'max_depth': 8, 'subsample': 0.729014255597435, 'colsample_bytree': 0.6110232183252017, 'min_child_weight': 9, 'gamma': 0.18816212753893205, 'lambda': 0.2672283399394548, 'alpha': 9.441940561585976e-06}. Best is trial 37 with value: 5.034791405775428.\n",
      "[I 2025-04-29 13:36:01,352] Trial 45 finished with value: 5.152813753035823 and parameters: {'eta': 0.019483684087752893, 'max_depth': 7, 'subsample': 0.844894719767171, 'colsample_bytree': 0.5561174700617328, 'min_child_weight': 3, 'gamma': 0.17585564734618508, 'lambda': 0.04337448681559817, 'alpha': 2.236379207227481e-07}. Best is trial 37 with value: 5.034791405775428.\n",
      "[I 2025-04-29 13:36:02,754] Trial 46 finished with value: 5.128112534774591 and parameters: {'eta': 0.025174961094832783, 'max_depth': 8, 'subsample': 0.817467335318991, 'colsample_bytree': 0.5117981244816303, 'min_child_weight': 10, 'gamma': 0.231495800930534, 'lambda': 0.13025614472723723, 'alpha': 8.871959480624196e-06}. Best is trial 37 with value: 5.034791405775428.\n",
      "[I 2025-04-29 13:36:03,826] Trial 47 finished with value: 5.0544047526582405 and parameters: {'eta': 0.02956730799053679, 'max_depth': 7, 'subsample': 0.6858513074353247, 'colsample_bytree': 0.6045182729313837, 'min_child_weight': 9, 'gamma': 0.19999362965961037, 'lambda': 0.895707486753542, 'alpha': 2.0734014218513087e-06}. Best is trial 37 with value: 5.034791405775428.\n",
      "[I 2025-04-29 13:36:04,958] Trial 48 finished with value: 5.078754293379312 and parameters: {'eta': 0.030574283104142484, 'max_depth': 7, 'subsample': 0.6722368466123148, 'colsample_bytree': 0.659389229068997, 'min_child_weight': 9, 'gamma': 0.26031183550356496, 'lambda': 0.9402090283751716, 'alpha': 1.7121887216226073e-07}. Best is trial 37 with value: 5.034791405775428.\n",
      "[I 2025-04-29 13:36:06,055] Trial 49 finished with value: 5.073087489443258 and parameters: {'eta': 0.026519366305745643, 'max_depth': 7, 'subsample': 0.6710027208310441, 'colsample_bytree': 0.5233120799817048, 'min_child_weight': 9, 'gamma': 0.28992991840152493, 'lambda': 0.5509018454400743, 'alpha': 1.1022638508016434e-06}. Best is trial 37 with value: 5.034791405775428.\n",
      "[I 2025-04-29 13:36:07,382] Trial 50 finished with value: 5.045400314518853 and parameters: {'eta': 0.029067973587104345, 'max_depth': 8, 'subsample': 0.6174546011818325, 'colsample_bytree': 0.6358467522479949, 'min_child_weight': 10, 'gamma': 0.1705502758578871, 'lambda': 0.2939582265112851, 'alpha': 7.659734789254524e-08}. Best is trial 37 with value: 5.034791405775428.\n",
      "[I 2025-04-29 13:36:08,803] Trial 51 finished with value: 5.056584390361661 and parameters: {'eta': 0.02141607178682073, 'max_depth': 8, 'subsample': 0.6105691062094686, 'colsample_bytree': 0.631910028180836, 'min_child_weight': 10, 'gamma': 0.16681641163216487, 'lambda': 0.30754200468043913, 'alpha': 2.0844633977212426e-08}. Best is trial 37 with value: 5.034791405775428.\n",
      "[I 2025-04-29 13:36:10,503] Trial 52 finished with value: 5.040382799289299 and parameters: {'eta': 0.020403890294135085, 'max_depth': 8, 'subsample': 0.585077754963219, 'colsample_bytree': 0.6344448883321927, 'min_child_weight': 10, 'gamma': 0.15432173355164072, 'lambda': 0.2896244279984807, 'alpha': 1.8399343127447385e-08}. Best is trial 37 with value: 5.034791405775428.\n",
      "[I 2025-04-29 13:36:12,483] Trial 53 finished with value: 5.107767580167882 and parameters: {'eta': 0.019587810908711194, 'max_depth': 9, 'subsample': 0.553654448532102, 'colsample_bytree': 0.56080509594178, 'min_child_weight': 9, 'gamma': 0.14111045737528316, 'lambda': 0.3230855730276633, 'alpha': 4.502632335697745e-08}. Best is trial 37 with value: 5.034791405775428.\n",
      "[I 2025-04-29 13:36:13,985] Trial 54 finished with value: 5.227756225095614 and parameters: {'eta': 0.014229489374202353, 'max_depth': 8, 'subsample': 0.6372082643329973, 'colsample_bytree': 0.5909810667991009, 'min_child_weight': 10, 'gamma': 0.19922723829291394, 'lambda': 0.17598446399690992, 'alpha': 3.4760859720373756e-08}. Best is trial 37 with value: 5.034791405775428.\n",
      "[I 2025-04-29 13:36:15,219] Trial 55 finished with value: 5.073333365025163 and parameters: {'eta': 0.03525366148212588, 'max_depth': 8, 'subsample': 0.5719449425491805, 'colsample_bytree': 0.6171313759231195, 'min_child_weight': 9, 'gamma': 0.15478459106190162, 'lambda': 0.5805840269461632, 'alpha': 8.371328731490788e-08}. Best is trial 37 with value: 5.034791405775428.\n",
      "[I 2025-04-29 13:36:16,530] Trial 56 finished with value: 5.0427245185329355 and parameters: {'eta': 0.02838136925408431, 'max_depth': 8, 'subsample': 0.5178386664080044, 'colsample_bytree': 0.6756960477217024, 'min_child_weight': 10, 'gamma': 0.13077900019468497, 'lambda': 0.18853463187574324, 'alpha': 5.836677076724421e-07}. Best is trial 37 with value: 5.034791405775428.\n",
      "[I 2025-04-29 13:36:17,864] Trial 57 finished with value: 5.098265628926732 and parameters: {'eta': 0.04058137782717652, 'max_depth': 9, 'subsample': 0.5254044562811984, 'colsample_bytree': 0.6893457671461359, 'min_child_weight': 10, 'gamma': 0.12314527344278525, 'lambda': 0.05431025047080453, 'alpha': 3.706678267617288e-07}. Best is trial 37 with value: 5.034791405775428.\n",
      "[I 2025-04-29 13:36:19,585] Trial 58 finished with value: 5.390829792419333 and parameters: {'eta': 0.01154755808988156, 'max_depth': 8, 'subsample': 0.5005925442749635, 'colsample_bytree': 0.638434573998709, 'min_child_weight': 3, 'gamma': 0.13422548238499507, 'lambda': 6.674789056399864e-07, 'alpha': 1.3821544358000166e-08}. Best is trial 37 with value: 5.034791405775428.\n",
      "[I 2025-04-29 13:36:21,231] Trial 59 finished with value: 5.173582438707221 and parameters: {'eta': 0.01845134788066956, 'max_depth': 8, 'subsample': 0.5462351256410254, 'colsample_bytree': 0.6682684887657736, 'min_child_weight': 4, 'gamma': 0.10076163104258429, 'lambda': 0.019877453662387055, 'alpha': 8.774462613057693e-08}. Best is trial 37 with value: 5.034791405775428.\n",
      "[I 2025-04-29 13:36:23,321] Trial 60 finished with value: 5.14494675270148 and parameters: {'eta': 0.01580300548189531, 'max_depth': 9, 'subsample': 0.5841480191426, 'colsample_bytree': 0.6795320051347706, 'min_child_weight': 10, 'gamma': 0.1725902773359132, 'lambda': 0.00781978704578083, 'alpha': 5.744073566454536e-07}. Best is trial 37 with value: 5.034791405775428.\n",
      "[I 2025-04-29 13:36:24,823] Trial 61 finished with value: 5.039992247514221 and parameters: {'eta': 0.028925845421445454, 'max_depth': 7, 'subsample': 0.6482028139897698, 'colsample_bytree': 0.999528271207309, 'min_child_weight': 9, 'gamma': 0.23105194793652226, 'lambda': 0.19350838744285526, 'alpha': 4.474653617504205e-06}. Best is trial 37 with value: 5.034791405775428.\n",
      "[I 2025-04-29 13:36:25,793] Trial 62 finished with value: 5.062010013753915 and parameters: {'eta': 0.02754612192682241, 'max_depth': 6, 'subsample': 0.6077660686086966, 'colsample_bytree': 0.984368111232743, 'min_child_weight': 10, 'gamma': 0.2225201105063125, 'lambda': 0.13934871403063845, 'alpha': 4.3406807982708945e-06}. Best is trial 37 with value: 5.034791405775428.\n",
      "[I 2025-04-29 13:36:27,023] Trial 63 finished with value: 5.103176668837276 and parameters: {'eta': 0.02299804080720228, 'max_depth': 7, 'subsample': 0.6306304361673328, 'colsample_bytree': 0.5826399932758222, 'min_child_weight': 1, 'gamma': 0.1556159259090228, 'lambda': 0.1909178348624778, 'alpha': 0.0015684637080241688}. Best is trial 37 with value: 5.034791405775428.\n",
      "[I 2025-04-29 13:36:27,274] Trial 64 finished with value: 5.552943894639207 and parameters: {'eta': 0.28763709120505526, 'max_depth': 6, 'subsample': 0.5404170472551906, 'colsample_bytree': 0.9518020247527486, 'min_child_weight': 9, 'gamma': 0.2499082560597555, 'lambda': 0.3684062433682032, 'alpha': 4.794880592064015e-06}. Best is trial 37 with value: 5.034791405775428.\n",
      "[I 2025-04-29 13:36:28,400] Trial 65 finished with value: 5.091018405425452 and parameters: {'eta': 0.04006132936653086, 'max_depth': 8, 'subsample': 0.5676307585271282, 'colsample_bytree': 0.6506047228884756, 'min_child_weight': 10, 'gamma': 0.3007524615874112, 'lambda': 0.07383434622871662, 'alpha': 1.2354495380401625e-07}. Best is trial 37 with value: 5.034791405775428.\n",
      "[I 2025-04-29 13:36:29,742] Trial 66 finished with value: 5.076381815302788 and parameters: {'eta': 0.03328115662827637, 'max_depth': 8, 'subsample': 0.6471958405831796, 'colsample_bytree': 0.6281396129179696, 'min_child_weight': 9, 'gamma': 0.4847630133552391, 'lambda': 0.032313326816531845, 'alpha': 1.5152190314818253e-05}. Best is trial 37 with value: 5.034791405775428.\n",
      "[I 2025-04-29 13:36:30,943] Trial 67 finished with value: 5.094207235304131 and parameters: {'eta': 0.022048033720419823, 'max_depth': 7, 'subsample': 0.6067703510467235, 'colsample_bytree': 0.7309206103431102, 'min_child_weight': 10, 'gamma': 0.2336557459237487, 'lambda': 0.534158303166541, 'alpha': 2.1342548487332846e-06}. Best is trial 37 with value: 5.034791405775428.\n",
      "[I 2025-04-29 13:36:31,849] Trial 68 finished with value: 5.089311109316414 and parameters: {'eta': 0.049576210125257335, 'max_depth': 6, 'subsample': 0.7831516052888918, 'colsample_bytree': 0.9991853083903519, 'min_child_weight': 9, 'gamma': 0.05137217962471913, 'lambda': 0.17833939721565964, 'alpha': 0.0001812612635814195}. Best is trial 37 with value: 5.034791405775428.\n",
      "[I 2025-04-29 13:36:33,078] Trial 69 finished with value: 5.075310920441691 and parameters: {'eta': 0.026749515703168258, 'max_depth': 7, 'subsample': 0.711819196426094, 'colsample_bytree': 0.908046285891364, 'min_child_weight': 10, 'gamma': 0.27134401951985415, 'lambda': 0.05128206191837574, 'alpha': 3.785642442860679e-07}. Best is trial 37 with value: 5.034791405775428.\n",
      "[I 2025-04-29 13:36:34,393] Trial 70 finished with value: 5.080800205633173 and parameters: {'eta': 0.03647364486799641, 'max_depth': 8, 'subsample': 0.5279761636273904, 'colsample_bytree': 0.7019191011777908, 'min_child_weight': 9, 'gamma': 0.11184542145727888, 'lambda': 0.12861167272162846, 'alpha': 6.113687517284563e-05}. Best is trial 37 with value: 5.034791405775428.\n",
      "[I 2025-04-29 13:36:35,638] Trial 71 finished with value: 5.067385250395133 and parameters: {'eta': 0.02464900975413405, 'max_depth': 7, 'subsample': 0.6925327732146539, 'colsample_bytree': 0.6028857999400511, 'min_child_weight': 9, 'gamma': 0.20568665670393319, 'lambda': 0.9436243344143416, 'alpha': 2.4345801474474105e-06}. Best is trial 37 with value: 5.034791405775428.\n",
      "[I 2025-04-29 13:36:36,956] Trial 72 finished with value: 5.072967764801895 and parameters: {'eta': 0.02798552492023358, 'max_depth': 7, 'subsample': 0.656518548057033, 'colsample_bytree': 0.5519450493403659, 'min_child_weight': 7, 'gamma': 0.19930446619426462, 'lambda': 0.9875148115333355, 'alpha': 6.208053267103645e-07}. Best is trial 37 with value: 5.034791405775428.\n",
      "[I 2025-04-29 13:36:38,241] Trial 73 finished with value: 5.044436312474525 and parameters: {'eta': 0.02965194318645251, 'max_depth': 7, 'subsample': 0.5907751409748732, 'colsample_bytree': 0.6499073722879882, 'min_child_weight': 10, 'gamma': 0.17215701751127166, 'lambda': 0.26803578670043426, 'alpha': 1.3373036692442629e-06}. Best is trial 37 with value: 5.034791405775428.\n",
      "[I 2025-04-29 13:36:39,407] Trial 74 finished with value: 5.097182034307255 and parameters: {'eta': 0.017887958532403186, 'max_depth': 7, 'subsample': 0.591091263813556, 'colsample_bytree': 0.6492839894022858, 'min_child_weight': 10, 'gamma': 0.14859405620771926, 'lambda': 0.017274603059210747, 'alpha': 1.0428945283210357e-06}. Best is trial 37 with value: 5.034791405775428.\n",
      "[I 2025-04-29 13:36:40,625] Trial 75 finished with value: 5.108408275467985 and parameters: {'eta': 0.03388995284629006, 'max_depth': 8, 'subsample': 0.566045771040046, 'colsample_bytree': 0.6234391237462793, 'min_child_weight': 10, 'gamma': 0.16671663942332585, 'lambda': 0.2571249065032781, 'alpha': 0.001235733712589024}. Best is trial 37 with value: 5.034791405775428.\n",
      "[I 2025-04-29 13:36:40,908] Trial 76 finished with value: 5.546372636880399 and parameters: {'eta': 0.18975732391063485, 'max_depth': 6, 'subsample': 0.6230354460870503, 'colsample_bytree': 0.5743035704022167, 'min_child_weight': 10, 'gamma': 0.1850440283662443, 'lambda': 0.08635598943254444, 'alpha': 0.0004405342884310241}. Best is trial 37 with value: 5.034791405775428.\n",
      "[I 2025-04-29 13:36:42,685] Trial 77 finished with value: 5.084029512442156 and parameters: {'eta': 0.02137538236722302, 'max_depth': 9, 'subsample': 0.5809264537811916, 'colsample_bytree': 0.6592681427551481, 'min_child_weight': 10, 'gamma': 0.17166038297414143, 'lambda': 0.4966444783631754, 'alpha': 6.178889698504742e-08}. Best is trial 37 with value: 5.034791405775428.\n",
      "[I 2025-04-29 13:36:43,717] Trial 78 finished with value: 5.087145449423413 and parameters: {'eta': 0.042165765915370995, 'max_depth': 7, 'subsample': 0.7932171413267542, 'colsample_bytree': 0.6430415986057112, 'min_child_weight': 10, 'gamma': 0.22383862114324277, 'lambda': 2.4195899449625306e-08, 'alpha': 2.0909987846730843e-08}. Best is trial 37 with value: 5.034791405775428.\n",
      "[I 2025-04-29 13:36:45,159] Trial 79 finished with value: 5.088549398929777 and parameters: {'eta': 0.029158000716534252, 'max_depth': 8, 'subsample': 0.5983336153142614, 'colsample_bytree': 0.8584342644748031, 'min_child_weight': 8, 'gamma': 0.09102773038598855, 'lambda': 0.00662773658023621, 'alpha': 1.8150059452799848e-05}. Best is trial 37 with value: 5.034791405775428.\n",
      "[I 2025-04-29 13:36:46,029] Trial 80 finished with value: 5.05104848876944 and parameters: {'eta': 0.025419067150108273, 'max_depth': 6, 'subsample': 0.6192828260692642, 'colsample_bytree': 0.5870153930266082, 'min_child_weight': 10, 'gamma': 0.11578905570388544, 'lambda': 0.22657958925168306, 'alpha': 8.282382356184836e-05}. Best is trial 37 with value: 5.034791405775428.\n",
      "[I 2025-04-29 13:36:46,862] Trial 81 finished with value: 5.044117275398687 and parameters: {'eta': 0.031801335761484584, 'max_depth': 6, 'subsample': 0.6558573298496738, 'colsample_bytree': 0.591191003924168, 'min_child_weight': 10, 'gamma': 0.12223461109211041, 'lambda': 0.25485707181708434, 'alpha': 8.356901709475137e-05}. Best is trial 37 with value: 5.034791405775428.\n",
      "[I 2025-04-29 13:36:47,236] Trial 82 finished with value: 5.229124742723234 and parameters: {'eta': 0.10510417220394962, 'max_depth': 6, 'subsample': 0.6628596315488363, 'colsample_bytree': 0.5860066938419991, 'min_child_weight': 10, 'gamma': 0.11931967753727502, 'lambda': 0.26266776191845653, 'alpha': 8.137407691711239e-05}. Best is trial 37 with value: 5.034791405775428.\n",
      "[I 2025-04-29 13:36:48,104] Trial 83 finished with value: 5.051933321064257 and parameters: {'eta': 0.03703941984903305, 'max_depth': 6, 'subsample': 0.6215001773889747, 'colsample_bytree': 0.6186390951392673, 'min_child_weight': 10, 'gamma': 0.06399535294881786, 'lambda': 0.10720384323089403, 'alpha': 3.790323223715716e-05}. Best is trial 37 with value: 5.034791405775428.\n",
      "[I 2025-04-29 13:36:49,277] Trial 84 finished with value: 5.051852914220658 and parameters: {'eta': 0.026015042311499797, 'max_depth': 6, 'subsample': 0.6498135362558374, 'colsample_bytree': 0.6738855504292403, 'min_child_weight': 9, 'gamma': 0.13577111041801798, 'lambda': 0.3684554511951072, 'alpha': 8.197129095418803e-06}. Best is trial 37 with value: 5.034791405775428.\n",
      "[I 2025-04-29 13:36:50,353] Trial 85 finished with value: 5.009246203717878 and parameters: {'eta': 0.03186641215360076, 'max_depth': 6, 'subsample': 0.6417636548184172, 'colsample_bytree': 0.5647393409853857, 'min_child_weight': 10, 'gamma': 0.09375644451574489, 'lambda': 0.20148341938051023, 'alpha': 3.000039475087394e-08}. Best is trial 85 with value: 5.009246203717878.\n",
      "[I 2025-04-29 13:36:51,393] Trial 86 finished with value: 5.048220399289836 and parameters: {'eta': 0.03128600138395985, 'max_depth': 6, 'subsample': 0.7043147451203429, 'colsample_bytree': 0.5242344502404641, 'min_child_weight': 9, 'gamma': 0.09869003415321387, 'lambda': 0.02867376195015388, 'alpha': 1.2120931667446427e-08}. Best is trial 85 with value: 5.009246203717878.\n",
      "[I 2025-04-29 13:36:52,064] Trial 87 finished with value: 5.072321784875223 and parameters: {'eta': 0.03225482248299628, 'max_depth': 5, 'subsample': 0.6420082762027881, 'colsample_bytree': 0.5645108874143989, 'min_child_weight': 10, 'gamma': 0.07554040156210722, 'lambda': 0.6387927564336017, 'alpha': 2.9169353810968926e-08}. Best is trial 85 with value: 5.009246203717878.\n",
      "[I 2025-04-29 13:36:52,717] Trial 88 finished with value: 5.066869340167696 and parameters: {'eta': 0.0387202273874121, 'max_depth': 5, 'subsample': 0.6687470252146157, 'colsample_bytree': 0.5446067513000644, 'min_child_weight': 10, 'gamma': 0.14850023213293126, 'lambda': 0.1260428934176898, 'alpha': 1.2602323500548009e-07}. Best is trial 85 with value: 5.009246203717878.\n",
      "[I 2025-04-29 13:36:53,680] Trial 89 finished with value: 5.091133465306677 and parameters: {'eta': 0.055772475377093726, 'max_depth': 7, 'subsample': 0.5535436899848559, 'colsample_bytree': 0.631943981345543, 'min_child_weight': 9, 'gamma': 0.4352667698681446, 'lambda': 0.42987647959394937, 'alpha': 3.9007132408991834e-06}. Best is trial 85 with value: 5.009246203717878.\n",
      "[I 2025-04-29 13:36:55,141] Trial 90 finished with value: 5.0750882640913 and parameters: {'eta': 0.023106391044307745, 'max_depth': 8, 'subsample': 0.6814982443034161, 'colsample_bytree': 0.6954154321360508, 'min_child_weight': 10, 'gamma': 0.18063211116142824, 'lambda': 0.06670661051234474, 'alpha': 1.5045442579374455e-06}. Best is trial 85 with value: 5.009246203717878.\n",
      "[I 2025-04-29 13:36:55,878] Trial 91 finished with value: 5.099171650905318 and parameters: {'eta': 0.04714037961021617, 'max_depth': 6, 'subsample': 0.7135132238288866, 'colsample_bytree': 0.5198143098258796, 'min_child_weight': 9, 'gamma': 0.09931027880997821, 'lambda': 0.183779674504002, 'alpha': 1.5666123129355582e-08}. Best is trial 85 with value: 5.009246203717878.\n",
      "[I 2025-04-29 13:36:56,707] Trial 92 finished with value: 5.0503961295007835 and parameters: {'eta': 0.032211605330843766, 'max_depth': 6, 'subsample': 0.7286344282277384, 'colsample_bytree': 0.529446085903308, 'min_child_weight': 8, 'gamma': 0.05342746444306397, 'lambda': 0.03174056388055662, 'alpha': 3.150761612198427e-08}. Best is trial 85 with value: 5.009246203717878.\n",
      "[I 2025-04-29 13:36:57,495] Trial 93 finished with value: 5.0338168286452944 and parameters: {'eta': 0.03513720033852399, 'max_depth': 6, 'subsample': 0.5979911591376805, 'colsample_bytree': 0.572644121033685, 'min_child_weight': 9, 'gamma': 0.13028245791802506, 'lambda': 0.08219823703075746, 'alpha': 6.05175946048517e-08}. Best is trial 85 with value: 5.009246203717878.\n",
      "[I 2025-04-29 13:36:58,169] Trial 94 finished with value: 5.074009036153997 and parameters: {'eta': 0.028097824900383112, 'max_depth': 5, 'subsample': 0.6356091655432803, 'colsample_bytree': 0.5729616371748263, 'min_child_weight': 10, 'gamma': 0.13081964881092376, 'lambda': 0.07779310293502521, 'alpha': 4.4942493200160034e-08}. Best is trial 85 with value: 5.009246203717878.\n",
      "[I 2025-04-29 13:36:59,200] Trial 95 finished with value: 5.046232458100999 and parameters: {'eta': 0.035525700760306915, 'max_depth': 7, 'subsample': 0.5997206517809067, 'colsample_bytree': 0.6069675710948672, 'min_child_weight': 9, 'gamma': 0.16219857836152513, 'lambda': 0.29423961184885916, 'alpha': 2.685630808796329e-07}. Best is trial 85 with value: 5.009246203717878.\n",
      "[I 2025-04-29 13:36:59,943] Trial 96 finished with value: 5.0412445998361655 and parameters: {'eta': 0.04291406203735956, 'max_depth': 6, 'subsample': 0.5812579906349823, 'colsample_bytree': 0.6157390982245678, 'min_child_weight': 10, 'gamma': 0.3451949192105443, 'lambda': 1.1198244528165735e-05, 'alpha': 7.071862478129447e-08}. Best is trial 85 with value: 5.009246203717878.\n",
      "[I 2025-04-29 13:37:00,778] Trial 97 finished with value: 5.073865091260017 and parameters: {'eta': 0.043755832562316056, 'max_depth': 6, 'subsample': 0.5305326824808243, 'colsample_bytree': 0.5943692903221693, 'min_child_weight': 7, 'gamma': 0.3797833522330502, 'lambda': 3.770496574068843e-05, 'alpha': 1.4015229634717145e-07}. Best is trial 85 with value: 5.009246203717878.\n",
      "[I 2025-04-29 13:37:01,398] Trial 98 finished with value: 5.1198759786733286 and parameters: {'eta': 0.0628775293436754, 'max_depth': 6, 'subsample': 0.5118645243253873, 'colsample_bytree': 0.5505692751934759, 'min_child_weight': 9, 'gamma': 0.32866603898994967, 'lambda': 5.320241557512021e-06, 'alpha': 8.14209834811033e-07}. Best is trial 85 with value: 5.009246203717878.\n",
      "[I 2025-04-29 13:37:02,466] Trial 99 finished with value: 5.060608477667368 and parameters: {'eta': 0.03998375644067165, 'max_depth': 6, 'subsample': 0.5789074880612867, 'colsample_bytree': 0.617442836318588, 'min_child_weight': 10, 'gamma': 0.4181878620353934, 'lambda': 1.0375071385780691e-06, 'alpha': 2.0486719562438053e-08}. Best is trial 85 with value: 5.009246203717878.\n"
     ]
    }
   ],
   "source": [
    "N_TRIALS_HP = 100 # Number of hyperparameter combinations to test (adjust as needed)\n",
    "\n",
    "print(f\"\\nStarting Optuna hyperparameter search ({N_TRIALS_HP} trials)...\")\n",
    "study_hp = optuna.create_study(direction='minimize', study_name='XGBoost Spread Prediction NaN') # Minimize RMSE\n",
    "\n",
    "X_train_best_nan = X_train[best_features].copy()\n",
    "X_val_best_nan = X_val[best_features].copy()\n",
    "\n",
    "# Pass necessary dataframes via lambda function\n",
    "study_hp.optimize(\n",
    "    lambda trial: objective_xgb_nan(trial, X_train_best_nan, y_train, X_val_best_nan, y_val, val_df),\n",
    "    n_trials=N_TRIALS_HP,\n",
    "    show_progress_bar=True\n",
    ")"
   ]
  },
  {
   "cell_type": "markdown",
   "metadata": {
    "id": "9P8cj6MLcplG"
   },
   "source": [
    "### Identify Best Hyperparameters"
   ]
  },
  {
   "cell_type": "code",
   "execution_count": 64,
   "metadata": {
    "colab": {
     "base_uri": "https://localhost:8080/"
    },
    "executionInfo": {
     "elapsed": 5,
     "status": "ok",
     "timestamp": 1745933824887,
     "user": {
      "displayName": "Austin Bervig",
      "userId": "09756579539086543276"
     },
     "user_tz": 300
    },
    "id": "bEFlDGDVcrPC",
    "outputId": "9559d650-4919-4ba8-bce9-1a272f61fd04"
   },
   "outputs": [
    {
     "name": "stdout",
     "output_type": "stream",
     "text": [
      "\n",
      "Optimization Finished.\n",
      "Number of finished trials: 100\n",
      "Best trial (Validation RMSE): 5.0092\n",
      "Best hyperparameters:\n",
      "  eta: 0.03186641215360076\n",
      "  max_depth: 6\n",
      "  subsample: 0.6417636548184172\n",
      "  colsample_bytree: 0.5647393409853857\n",
      "  min_child_weight: 10\n",
      "  gamma: 0.09375644451574489\n",
      "  lambda: 0.20148341938051023\n",
      "  alpha: 3.000039475087394e-08\n",
      "\n",
      "--- Phase 3 (Hyperparameter Tuning) Complete ---\n",
      "Identified best XGBoost hyperparameters based on validation set performance.\n",
      "Next Steps: Potentially adding more complex features (Opponent Adj, Returning Prod) OR final evaluation on the Test Set.\n"
     ]
    }
   ],
   "source": [
    "print(\"\\nOptimization Finished.\")\n",
    "print(f\"Number of finished trials: {len(study_hp.trials)}\")\n",
    "print(f\"Best trial (Validation RMSE): {study_hp.best_value:.4f}\")\n",
    "\n",
    "print(\"Best hyperparameters:\")\n",
    "best_xgb_params = study_hp.best_params\n",
    "for key, value in best_xgb_params.items():\n",
    "    print(f\"  {key}: {value}\")\n",
    "\n",
    "# --- Optional: Show best trial's betting performance ---\n",
    "best_trial_info = study_hp.best_trial\n",
    "if 'val_roi' in best_trial_info.user_attrs:\n",
    "    print(f\"\\nBest Trial's Validation Betting Performance:\")\n",
    "    print(f\"  Units: {best_trial_info.user_attrs.get('val_units', 'N/A'):.2f}\")\n",
    "    print(f\"  ROI:   {best_trial_info.user_attrs.get('val_roi', 'N/A'):.2f}%\")\n",
    "\n",
    "\n",
    "# --- Retrain Final Model with Best Parameters (Optional here, usually done before Test Set) ---\n",
    "# You would typically save these `best_xgb_params` and use them to train a final model\n",
    "# on the *combined* training + validation data before predicting on the test set.\n",
    "# For now, we have identified the best settings based on validation performance.\n",
    "\n",
    "print(\"\\n--- Phase 3 (Hyperparameter Tuning) Complete ---\")\n",
    "print(\"Identified best XGBoost hyperparameters based on validation set performance.\")\n",
    "print(\"Next Steps: Potentially adding more complex features (Opponent Adj, Returning Prod) OR final evaluation on the Test Set.\")"
   ]
  },
  {
   "cell_type": "markdown",
   "metadata": {
    "id": "F-JuMwuTl1rE"
   },
   "source": [
    "# Phase 4 Final Evaluation"
   ]
  },
  {
   "cell_type": "markdown",
   "metadata": {
    "id": "yQ0uz6Zvl5oC"
   },
   "source": [
    "### Define Train+Validation and Test Sets"
   ]
  },
  {
   "cell_type": "code",
   "execution_count": 65,
   "metadata": {
    "colab": {
     "base_uri": "https://localhost:8080/"
    },
    "executionInfo": {
     "elapsed": 29,
     "status": "ok",
     "timestamp": 1745933827331,
     "user": {
      "displayName": "Austin Bervig",
      "userId": "09756579539086543276"
     },
     "user_tz": 300
    },
    "id": "PCgu71KhkzbK",
    "outputId": "988f9de6-c46a-4041-c24c-075194dbaff2"
   },
   "outputs": [
    {
     "name": "stdout",
     "output_type": "stream",
     "text": [
      "Using final split points:\n",
      "  Train+Validation: Seasons <= 2022\n",
      "  Test:             Seasons >= 2023\n",
      "\n",
      "Data Shapes:\n",
      "  Train+Validation Set: (7050, 446)\n",
      "  Test Set:             (1502, 446)\n"
     ]
    }
   ],
   "source": [
    "TEST_START_SEASON = VALIDATION_END_SEASON + 1\n",
    "\n",
    "print(f\"Using final split points:\")\n",
    "print(f\"  Train+Validation: Seasons <= {VALIDATION_END_SEASON}\")\n",
    "print(f\"  Test:             Seasons >= {TEST_START_SEASON}\")\n",
    "\n",
    "train_val_df = master_df[master_df['season'] <= VALIDATION_END_SEASON].copy()\n",
    "test_df = master_df[master_df['season'] >= TEST_START_SEASON].copy()\n",
    "\n",
    "print(f\"\\nData Shapes:\")\n",
    "print(f\"  Train+Validation Set: {train_val_df.shape}\")\n",
    "print(f\"  Test Set:             {test_df.shape}\")\n",
    "\n",
    "if test_df.empty:\n",
    "    print(\"\\nERROR: Test set is empty. Cannot perform final evaluation.\")\n",
    "    # Exit or handle appropriately\n",
    "    exit()\n"
   ]
  },
  {
   "cell_type": "markdown",
   "metadata": {
    "id": "St31PtmKl-p6"
   },
   "source": [
    "### Prepare Data for Final Model"
   ]
  },
  {
   "cell_type": "code",
   "execution_count": 66,
   "metadata": {
    "colab": {
     "base_uri": "https://localhost:8080/"
    },
    "executionInfo": {
     "elapsed": 55,
     "status": "ok",
     "timestamp": 1745933828819,
     "user": {
      "displayName": "Austin Bervig",
      "userId": "09756579539086543276"
     },
     "user_tz": 300
    },
    "id": "iVzsk0TEmAJF",
    "outputId": "e10c84be-676d-49eb-d359-4fca065fb54a"
   },
   "outputs": [
    {
     "name": "stdout",
     "output_type": "stream",
     "text": [
      "\n",
      "Feature matrix shapes for final model:\n",
      "  X_train_val: (7050, 92)\n",
      "  X_test:      (1502, 92)\n",
      "\n",
      "Assuming XGBoost will handle NaNs internally (no imputation applied).\n",
      "Preparing DMatrix for XGBoost...\n"
     ]
    }
   ],
   "source": [
    "# Select the best features identified earlier\n",
    "X_train_val_nan = train_val_df[best_features].copy()\n",
    "y_train_val = train_val_df[target_variable]\n",
    "\n",
    "X_test_nan = test_df[best_features].copy()\n",
    "y_test = test_df[target_variable]\n",
    "\n",
    "print(f\"\\nFeature matrix shapes for final model:\")\n",
    "print(f\"  X_train_val: {X_train_val_nan.shape}\")\n",
    "print(f\"  X_test:      {X_test_nan.shape}\")\n",
    "\n",
    "# --- Handle Missing Values (Strategy Decision) ---\n",
    "# IMPORTANT: Use the SAME strategy as during hyperparameter tuning.\n",
    "# If XGBoost's internal NaN handling was used (recommended), do nothing here.\n",
    "# If imputation was done (e.g., median), apply it here using values\n",
    "# calculated ONLY from the original *training* set (train_df).\n",
    "\n",
    "# Assuming XGBoost internal NaN handling (if tree_method='gpu_hist' was used):\n",
    "print(\"\\nAssuming XGBoost will handle NaNs internally (no imputation applied).\")\n",
    "# If you need to impute (e.g., using training median):\n",
    "# features_with_nan_final = X_train_val.columns[X_train_val.isnull().any()].tolist()\n",
    "# # Calculate median ONLY from original training data (train_df must exist)\n",
    "# imputation_values_final = train_df[features_with_nan_final].median()\n",
    "# print(f\"Applying median imputation based on original training data to {len(features_with_nan_final)} columns...\")\n",
    "# X_train_val.fillna(imputation_values_final, inplace=True)\n",
    "# X_test.fillna(imputation_values_final, inplace=True)\n",
    "# print(f\"NaN check after imputation (X_train_val): {X_train_val.isnull().sum().sum()}\")\n",
    "# print(f\"NaN check after imputation (X_test):      {X_test.isnull().sum().sum()}\")\n",
    "\n",
    "# Prepare data for XGBoost\n",
    "print(\"Preparing DMatrix for XGBoost...\")\n",
    "dtrain_val = xgb.DMatrix(X_train_val_nan, label=y_train_val)\n",
    "dtest = xgb.DMatrix(X_test_nan, label=y_test)\n"
   ]
  },
  {
   "cell_type": "markdown",
   "metadata": {
    "id": "0_JAIRGkmDOq"
   },
   "source": [
    "### Train Final XGBoost Model"
   ]
  },
  {
   "cell_type": "code",
   "execution_count": 67,
   "metadata": {
    "colab": {
     "base_uri": "https://localhost:8080/"
    },
    "executionInfo": {
     "elapsed": 905,
     "status": "ok",
     "timestamp": 1745933832329,
     "user": {
      "displayName": "Austin Bervig",
      "userId": "09756579539086543276"
     },
     "user_tz": 300
    },
    "id": "UQVYd8x3mEoD",
    "outputId": "d03bfcba-dd7f-4653-b710-e76e4f72a526"
   },
   "outputs": [
    {
     "name": "stdout",
     "output_type": "stream",
     "text": [
      "Training final XGBoost model with 92 features for 200 rounds...\n",
      "Using hyperparameters: {'objective': 'reg:squarederror', 'eval_metric': 'rmse', 'seed': 42, 'nthread': -1, 'device': 'cuda', 'eta': 0.03186641215360076, 'max_depth': 6, 'subsample': 0.6417636548184172, 'colsample_bytree': 0.5647393409853857, 'min_child_weight': 10, 'gamma': 0.09375644451574489, 'lambda': 0.20148341938051023, 'alpha': 3.000039475087394e-08}\n",
      "[0]\ttrain-rmse:13.93342\ttest-rmse:12.95380\n",
      "[50]\ttrain-rmse:6.06380\ttest-rmse:5.85907\n",
      "[100]\ttrain-rmse:4.75638\ttest-rmse:5.22391\n",
      "[150]\ttrain-rmse:4.34790\ttest-rmse:5.15176\n",
      "[199]\ttrain-rmse:4.11497\ttest-rmse:5.14917\n",
      "Final model training finished in 0.90 seconds.\n"
     ]
    }
   ],
   "source": [
    "# Combine base parameters with the best ones found by Optuna\n",
    "final_xgb_params = {\n",
    "    'objective': 'reg:squarederror',\n",
    "    'eval_metric': 'rmse',\n",
    "    'seed': 42,\n",
    "    'nthread': -1,\n",
    "    # Add 'tree_method': 'gpu_hist' IF you are using a GPU runtime for this final training\n",
    "    'device': 'cuda'\n",
    "}\n",
    "final_xgb_params.update(best_xgb_params) # Add tuned parameters\n",
    "\n",
    "# Determine the number of boosting rounds\n",
    "# Option 1: Use a fixed number (e.g., the one used in tuning or slightly more)\n",
    "# num_boost_round_final = 200 # Example\n",
    "# Option 2: If you logged bst.best_iteration from the best Optuna trial, use that.\n",
    "# best_iteration = ??? # Need to retrieve this value from tuning results if possible\n",
    "# Option 3: Train with early stopping against a small validation split *of the train_val_df*\n",
    "# This is safer but adds complexity. Let's use a fixed number for now.\n",
    "num_boost_round_final = 200 # Use the value determined during tuning or a reasonable default\n",
    "print(f\"Training final XGBoost model with {len(best_features)} features for {num_boost_round_final} rounds...\")\n",
    "print(\"Using hyperparameters:\", final_xgb_params)\n",
    "\n",
    "start_train_time = time.time()\n",
    "final_model = xgb.train(\n",
    "    final_xgb_params,\n",
    "    dtrain_val,\n",
    "    num_boost_round=num_boost_round_final,\n",
    "    evals=[(dtrain_val, 'train'), (dtest, 'test')], # Monitor performance on test set during training\n",
    "    verbose_eval=50 # Print progress every 50 rounds\n",
    ")\n",
    "end_train_time = time.time()\n",
    "print(f\"Final model training finished in {end_train_time - start_train_time:.2f} seconds.\")"
   ]
  },
  {
   "cell_type": "markdown",
   "metadata": {
    "id": "G35Loe2PmHNn"
   },
   "source": [
    "### Predict on Test Set"
   ]
  },
  {
   "cell_type": "code",
   "execution_count": 68,
   "metadata": {
    "colab": {
     "base_uri": "https://localhost:8080/"
    },
    "executionInfo": {
     "elapsed": 12,
     "status": "ok",
     "timestamp": 1745933837202,
     "user": {
      "displayName": "Austin Bervig",
      "userId": "09756579539086543276"
     },
     "user_tz": 300
    },
    "id": "2SKM_kGJmJyT",
    "outputId": "4fb741d0-58ec-4419-c76c-8c2d7f431a16"
   },
   "outputs": [
    {
     "name": "stdout",
     "output_type": "stream",
     "text": [
      "\n",
      "Predicting on Test Set...\n"
     ]
    }
   ],
   "source": [
    "print(\"\\nPredicting on Test Set...\")\n",
    "y_pred_test = final_model.predict(dtest)\n",
    "predictions_test_series = pd.Series(y_pred_test, index=y_test.index)"
   ]
  },
  {
   "cell_type": "markdown",
   "metadata": {
    "id": "ucUUQmqgmLim"
   },
   "source": [
    "### Evaluate Statistical Metrics on Test Set"
   ]
  },
  {
   "cell_type": "code",
   "execution_count": 69,
   "metadata": {
    "colab": {
     "base_uri": "https://localhost:8080/"
    },
    "executionInfo": {
     "elapsed": 6,
     "status": "ok",
     "timestamp": 1745933839277,
     "user": {
      "displayName": "Austin Bervig",
      "userId": "09756579539086543276"
     },
     "user_tz": 300
    },
    "id": "3qQ7d_WBmPhT",
    "outputId": "1c9622e7-2531-4f77-b689-e90f0e8b9488"
   },
   "outputs": [
    {
     "name": "stdout",
     "output_type": "stream",
     "text": [
      "\n",
      "--- Test Set Statistical Performance ---\n",
      "  RMSE:        5.1492\n",
      "  MAE:         3.9676\n",
      "  Correlation: 0.9213\n",
      "  Bias:        -0.1531\n",
      "  R-squared:   0.8479\n"
     ]
    }
   ],
   "source": [
    "print(\"\\n--- Test Set Statistical Performance ---\")\n",
    "\n",
    "rmse_test = np.sqrt(mean_squared_error(y_test, y_pred_test))\n",
    "mae_test = mean_absolute_error(y_test, y_pred_test)\n",
    "correlation_test = y_test.corr(predictions_test_series)\n",
    "bias_test = np.mean(y_pred_test - y_test)\n",
    "r2_test = r2_score(y_test, y_pred_test) # R-squared\n",
    "\n",
    "print(f\"  RMSE:        {rmse_test:.4f}\")\n",
    "print(f\"  MAE:         {mae_test:.4f}\")\n",
    "print(f\"  Correlation: {correlation_test:.4f}\")\n",
    "print(f\"  Bias:        {bias_test:.4f}\")\n",
    "print(f\"  R-squared:   {r2_test:.4f}\")"
   ]
  },
  {
   "cell_type": "markdown",
   "metadata": {
    "id": "DH1TokQumUbA"
   },
   "source": [
    "### Plot Predictions vs. Actuals for Test Set"
   ]
  },
  {
   "cell_type": "code",
   "execution_count": 70,
   "metadata": {
    "colab": {
     "base_uri": "https://localhost:8080/",
     "height": 807
    },
    "executionInfo": {
     "elapsed": 237,
     "status": "ok",
     "timestamp": 1745933844237,
     "user": {
      "displayName": "Austin Bervig",
      "userId": "09756579539086543276"
     },
     "user_tz": 300
    },
    "id": "iHK80En0mWrf",
    "outputId": "2fd1488a-d35d-4d7e-a6ed-57d6bfbac989"
   },
   "outputs": [
    {
     "data": {
      "image/png": "[encoded data removed]",
      "text/plain": [
       "<Figure size 800x800 with 1 Axes>"
      ]
     },
     "metadata": {},
     "output_type": "display_data"
    }
   ],
   "source": [
    "plt.figure(figsize=(8, 8))\n",
    "sns.scatterplot(x=y_test, y=y_pred_test, alpha=0.5)\n",
    "plt.plot([y_test.min(), y_test.max()], [y_test.min(), y_test.max()], '--r', linewidth=2, label='Ideal Fit')\n",
    "plt.xlabel(\"Actual Closing Spread (y_test)\")\n",
    "plt.ylabel(\"Predicted Closing Spread (y_pred_test)\")\n",
    "plt.title(f\"Test Set: Actual vs. Predicted Spread (Corr: {correlation_test:.3f})\")\n",
    "plt.legend()\n",
    "plt.grid(True)\n",
    "plt.tight_layout()\n",
    "plt.show()"
   ]
  },
  {
   "cell_type": "markdown",
   "metadata": {
    "id": "ZupCW5wCmYLu"
   },
   "source": [
    "### Evaluate Betting Performance on Test Set"
   ]
  },
  {
   "cell_type": "code",
   "execution_count": 71,
   "metadata": {
    "colab": {
     "base_uri": "https://localhost:8080/"
    },
    "executionInfo": {
     "elapsed": 76,
     "status": "ok",
     "timestamp": 1745933849142,
     "user": {
      "displayName": "Austin Bervig",
      "userId": "09756579539086543276"
     },
     "user_tz": 300
    },
    "id": "IZimsiKdmeTR",
    "outputId": "830abb68-739c-4c2b-e7a1-fff256e49c33"
   },
   "outputs": [
    {
     "name": "stdout",
     "output_type": "stream",
     "text": [
      "\n",
      "--- Test Set Betting Performance ---\n",
      "  Total Bets:   1371\n",
      "  Wins:         702\n",
      "  Losses:       661\n",
      "  Pushes:       8\n",
      "  Win Rate:     51.50%\n",
      "  Total Units:  -22.88\n",
      "  ROI:          -1.68%\n"
     ]
    }
   ],
   "source": [
    "print(\"\\n--- Test Set Betting Performance ---\")\n",
    "\n",
    "# Prepare input for the simulator\n",
    "# Select necessary columns from the original test_df\n",
    "sim_input_test_df = test_df[val_required_cols].copy()\n",
    "# Add the predictions, ensuring index alignment\n",
    "sim_input_test_df['predicted_spread_market'] = predictions_test_series\n",
    "\n",
    "# Run the simulation\n",
    "test_betting_results = simulate_betting(sim_input_test_df)\n",
    "\n",
    "if test_betting_results.empty:\n",
    "    print(\"No bets were placed on the test set according to the strategy.\")\n",
    "else:\n",
    "    # Aggregate results\n",
    "    test_total_units = test_betting_results['profit_loss'].sum()\n",
    "    test_bets_placed_df = test_betting_results[test_betting_results['bet_on'].notna()]\n",
    "    test_total_bets = len(test_bets_placed_df)\n",
    "    test_wins = len(test_bets_placed_df[test_bets_placed_df['result'] == 'win'])\n",
    "    test_losses = len(test_bets_placed_df[test_bets_placed_df['result'] == 'loss'])\n",
    "    test_pushes = len(test_bets_placed_df[test_bets_placed_df['result'] == 'push'])\n",
    "\n",
    "    test_win_rate = test_wins / (test_wins + test_losses) if (test_wins + test_losses) > 0 else np.nan\n",
    "    test_total_risked = (test_wins + test_losses) * LOSS_AMOUNT\n",
    "    test_roi = (test_total_units / test_total_risked) * 100 if test_total_risked > 0 else 0.0\n",
    "\n",
    "    print(f\"  Total Bets:   {test_total_bets}\")\n",
    "    print(f\"  Wins:         {test_wins}\")\n",
    "    print(f\"  Losses:       {test_losses}\")\n",
    "    print(f\"  Pushes:       {test_pushes}\")\n",
    "    print(f\"  Win Rate:     {test_win_rate:.2%}\")\n",
    "    print(f\"  Total Units:  {test_total_units:+.2f}\")\n",
    "    print(f\"  ROI:          {test_roi:.2f}%\")"
   ]
  },
  {
   "cell_type": "markdown",
   "metadata": {
    "id": "YNpxmT4ymhSE"
   },
   "source": [
    "### Plot Cumulative Units over Time"
   ]
  },
  {
   "cell_type": "code",
   "execution_count": 72,
   "metadata": {
    "colab": {
     "base_uri": "https://localhost:8080/",
     "height": 607
    },
    "executionInfo": {
     "elapsed": 304,
     "status": "ok",
     "timestamp": 1745933857137,
     "user": {
      "displayName": "Austin Bervig",
      "userId": "09756579539086543276"
     },
     "user_tz": 300
    },
    "id": "TpbZ0j9vmivM",
    "outputId": "ee12f180-f209-47aa-ff5e-c71796eca216"
   },
   "outputs": [
    {
     "data": {
      "image/png": "[encoded data removed]",
      "text/plain": [
       "<Figure size 1200x600 with 1 Axes>"
      ]
     },
     "metadata": {},
     "output_type": "display_data"
    }
   ],
   "source": [
    "# Optional: Plot cumulative units over time for the test set\n",
    "test_betting_results = pd.merge(test_betting_results[['game_id', 'profit_loss']],\n",
    "                                test_df[['id', 'season', 'week']],\n",
    "                                left_on='game_id', right_on='id')\n",
    "test_betting_results['game_date_order'] = test_betting_results['season'] * 100 + test_betting_results['week']\n",
    "test_betting_results.sort_values('game_date_order', inplace=True)\n",
    "test_betting_results['cumulative_units'] = test_betting_results['profit_loss'].cumsum()\n",
    "\n",
    "plt.figure(figsize=(12, 6))\n",
    "test_betting_results['cumulative_units'].plot()\n",
    "plt.title('Test Set Cumulative Units Over Time')\n",
    "plt.xlabel('Games (Chronological Order)')\n",
    "plt.ylabel('Cumulative Units')\n",
    "plt.grid(True)\n",
    "plt.tight_layout()\n",
    "plt.show()"
   ]
  },
  {
   "cell_type": "code",
   "execution_count": null,
   "metadata": {
    "id": "JFPbP4rlpICV"
   },
   "outputs": [],
   "source": []
  }
 ],
 "metadata": {
  "accelerator": "GPU",
  "colab": {
   "authorship_tag": "ABX9TyOMddLLLE7OO5HmnaJzQZ7V",
   "gpuType": "T4",
   "provenance": []
  },
  "kernelspec": {
   "display_name": "Python 3",
   "name": "python3"
  },
  "language_info": {
   "name": "python"
  },
  "widgets": {
   "application/vnd.jupyter.widget-state+json": {
    "02643d7484594b728339bd9d8222f6ad": {
     "model_module": "@jupyter-widgets/controls",
     "model_module_version": "1.5.0",
     "model_name": "FloatProgressModel",
     "state": {
      "_dom_classes": [],
      "_model_module": "@jupyter-widgets/controls",
      "_model_module_version": "1.5.0",
      "_model_name": "FloatProgressModel",
      "_view_count": null,
      "_view_module": "@jupyter-widgets/controls",
      "_view_module_version": "1.5.0",
      "_view_name": "ProgressView",
      "bar_style": "success",
      "description": "",
      "description_tooltip": null,
      "layout": "IPY_MODEL_f3337d7f547f44e4af5a209d51fe6149",
      "max": 100,
      "min": 0,
      "orientation": "horizontal",
      "style": "IPY_MODEL_a8a87caf049045d0a111adb1ce2c7af4",
      "value": 100
     }
    },
    "497bbca2343c496db1d513de2df10a78": {
     "model_module": "@jupyter-widgets/controls",
     "model_module_version": "1.5.0",
     "model_name": "HTMLModel",
     "state": {
      "_dom_classes": [],
      "_model_module": "@jupyter-widgets/controls",
      "_model_module_version": "1.5.0",
      "_model_name": "HTMLModel",
      "_view_count": null,
      "_view_module": "@jupyter-widgets/controls",
      "_view_module_version": "1.5.0",
      "_view_name": "HTMLView",
      "description": "",
      "description_tooltip": null,
      "layout": "IPY_MODEL_ce009419fdec49b8a5a3b3caf1624214",
      "placeholder": "​",
      "style": "IPY_MODEL_7a8198fb35124e8892b5404934962c57",
      "value": "Best trial: 85. Best value: 5.00925: 100%"
     }
    },
    "4ac8770b9fdf4e7ab4a574f431b2996d": {
     "model_module": "@jupyter-widgets/controls",
     "model_module_version": "1.5.0",
     "model_name": "HTMLModel",
     "state": {
      "_dom_classes": [],
      "_model_module": "@jupyter-widgets/controls",
      "_model_module_version": "1.5.0",
      "_model_name": "HTMLModel",
      "_view_count": null,
      "_view_module": "@jupyter-widgets/controls",
      "_view_module_version": "1.5.0",
      "_view_name": "HTMLView",
      "description": "",
      "description_tooltip": null,
      "layout": "IPY_MODEL_ef632c5c398a421f9c6dc040d1be8776",
      "placeholder": "​",
      "style": "IPY_MODEL_ecc3b5f8cb51480a861f3d59b0edbb48",
      "value": " 100/100 [01:47&lt;00:00,  1.16it/s]"
     }
    },
    "7a8198fb35124e8892b5404934962c57": {
     "model_module": "@jupyter-widgets/controls",
     "model_module_version": "1.5.0",
     "model_name": "DescriptionStyleModel",
     "state": {
      "_model_module": "@jupyter-widgets/controls",
      "_model_module_version": "1.5.0",
      "_model_name": "DescriptionStyleModel",
      "_view_count": null,
      "_view_module": "@jupyter-widgets/base",
      "_view_module_version": "1.2.0",
      "_view_name": "StyleView",
      "description_width": ""
     }
    },
    "a8a87caf049045d0a111adb1ce2c7af4": {
     "model_module": "@jupyter-widgets/controls",
     "model_module_version": "1.5.0",
     "model_name": "ProgressStyleModel",
     "state": {
      "_model_module": "@jupyter-widgets/controls",
      "_model_module_version": "1.5.0",
      "_model_name": "ProgressStyleModel",
      "_view_count": null,
      "_view_module": "@jupyter-widgets/base",
      "_view_module_version": "1.2.0",
      "_view_name": "StyleView",
      "bar_color": null,
      "description_width": ""
     }
    },
    "c91fa4c26db1438abab0cb8d546041dc": {
     "model_module": "@jupyter-widgets/base",
     "model_module_version": "1.2.0",
     "model_name": "LayoutModel",
     "state": {
      "_model_module": "@jupyter-widgets/base",
      "_model_module_version": "1.2.0",
      "_model_name": "LayoutModel",
      "_view_count": null,
      "_view_module": "@jupyter-widgets/base",
      "_view_module_version": "1.2.0",
      "_view_name": "LayoutView",
      "align_content": null,
      "align_items": null,
      "align_self": null,
      "border": null,
      "bottom": null,
      "display": null,
      "flex": null,
      "flex_flow": null,
      "grid_area": null,
      "grid_auto_columns": null,
      "grid_auto_flow": null,
      "grid_auto_rows": null,
      "grid_column": null,
      "grid_gap": null,
      "grid_row": null,
      "grid_template_areas": null,
      "grid_template_columns": null,
      "grid_template_rows": null,
      "height": null,
      "justify_content": null,
      "justify_items": null,
      "left": null,
      "margin": null,
      "max_height": null,
      "max_width": null,
      "min_height": null,
      "min_width": null,
      "object_fit": null,
      "object_position": null,
      "order": null,
      "overflow": null,
      "overflow_x": null,
      "overflow_y": null,
      "padding": null,
      "right": null,
      "top": null,
      "visibility": null,
      "width": null
     }
    },
    "ce009419fdec49b8a5a3b3caf1624214": {
     "model_module": "@jupyter-widgets/base",
     "model_module_version": "1.2.0",
     "model_name": "LayoutModel",
     "state": {
      "_model_module": "@jupyter-widgets/base",
      "_model_module_version": "1.2.0",
      "_model_name": "LayoutModel",
      "_view_count": null,
      "_view_module": "@jupyter-widgets/base",
      "_view_module_version": "1.2.0",
      "_view_name": "LayoutView",
      "align_content": null,
      "align_items": null,
      "align_self": null,
      "border": null,
      "bottom": null,
      "display": null,
      "flex": null,
      "flex_flow": null,
      "grid_area": null,
      "grid_auto_columns": null,
      "grid_auto_flow": null,
      "grid_auto_rows": null,
      "grid_column": null,
      "grid_gap": null,
      "grid_row": null,
      "grid_template_areas": null,
      "grid_template_columns": null,
      "grid_template_rows": null,
      "height": null,
      "justify_content": null,
      "justify_items": null,
      "left": null,
      "margin": null,
      "max_height": null,
      "max_width": null,
      "min_height": null,
      "min_width": null,
      "object_fit": null,
      "object_position": null,
      "order": null,
      "overflow": null,
      "overflow_x": null,
      "overflow_y": null,
      "padding": null,
      "right": null,
      "top": null,
      "visibility": null,
      "width": null
     }
    },
    "cfa549d0894f4620b750921ce19304ab": {
     "model_module": "@jupyter-widgets/controls",
     "model_module_version": "1.5.0",
     "model_name": "HBoxModel",
     "state": {
      "_dom_classes": [],
      "_model_module": "@jupyter-widgets/controls",
      "_model_module_version": "1.5.0",
      "_model_name": "HBoxModel",
      "_view_count": null,
      "_view_module": "@jupyter-widgets/controls",
      "_view_module_version": "1.5.0",
      "_view_name": "HBoxView",
      "box_style": "",
      "children": [
       "IPY_MODEL_497bbca2343c496db1d513de2df10a78",
       "IPY_MODEL_02643d7484594b728339bd9d8222f6ad",
       "IPY_MODEL_4ac8770b9fdf4e7ab4a574f431b2996d"
      ],
      "layout": "IPY_MODEL_c91fa4c26db1438abab0cb8d546041dc"
     }
    },
    "ecc3b5f8cb51480a861f3d59b0edbb48": {
     "model_module": "@jupyter-widgets/controls",
     "model_module_version": "1.5.0",
     "model_name": "DescriptionStyleModel",
     "state": {
      "_model_module": "@jupyter-widgets/controls",
      "_model_module_version": "1.5.0",
      "_model_name": "DescriptionStyleModel",
      "_view_count": null,
      "_view_module": "@jupyter-widgets/base",
      "_view_module_version": "1.2.0",
      "_view_name": "StyleView",
      "description_width": ""
     }
    },
    "ef632c5c398a421f9c6dc040d1be8776": {
     "model_module": "@jupyter-widgets/base",
     "model_module_version": "1.2.0",
     "model_name": "LayoutModel",
     "state": {
      "_model_module": "@jupyter-widgets/base",
      "_model_module_version": "1.2.0",
      "_model_name": "LayoutModel",
      "_view_count": null,
      "_view_module": "@jupyter-widgets/base",
      "_view_module_version": "1.2.0",
      "_view_name": "LayoutView",
      "align_content": null,
      "align_items": null,
      "align_self": null,
      "border": null,
      "bottom": null,
      "display": null,
      "flex": null,
      "flex_flow": null,
      "grid_area": null,
      "grid_auto_columns": null,
      "grid_auto_flow": null,
      "grid_auto_rows": null,
      "grid_column": null,
      "grid_gap": null,
      "grid_row": null,
      "grid_template_areas": null,
      "grid_template_columns": null,
      "grid_template_rows": null,
      "height": null,
      "justify_content": null,
      "justify_items": null,
      "left": null,
      "margin": null,
      "max_height": null,
      "max_width": null,
      "min_height": null,
      "min_width": null,
      "object_fit": null,
      "object_position": null,
      "order": null,
      "overflow": null,
      "overflow_x": null,
      "overflow_y": null,
      "padding": null,
      "right": null,
      "top": null,
      "visibility": null,
      "width": null
     }
    },
    "f3337d7f547f44e4af5a209d51fe6149": {
     "model_module": "@jupyter-widgets/base",
     "model_module_version": "1.2.0",
     "model_name": "LayoutModel",
     "state": {
      "_model_module": "@jupyter-widgets/base",
      "_model_module_version": "1.2.0",
      "_model_name": "LayoutModel",
      "_view_count": null,
      "_view_module": "@jupyter-widgets/base",
      "_view_module_version": "1.2.0",
      "_view_name": "LayoutView",
      "align_content": null,
      "align_items": null,
      "align_self": null,
      "border": null,
      "bottom": null,
      "display": null,
      "flex": null,
      "flex_flow": null,
      "grid_area": null,
      "grid_auto_columns": null,
      "grid_auto_flow": null,
      "grid_auto_rows": null,
      "grid_column": null,
      "grid_gap": null,
      "grid_row": null,
      "grid_template_areas": null,
      "grid_template_columns": null,
      "grid_template_rows": null,
      "height": null,
      "justify_content": null,
      "justify_items": null,
      "left": null,
      "margin": null,
      "max_height": null,
      "max_width": null,
      "min_height": null,
      "min_width": null,
      "object_fit": null,
      "object_position": null,
      "order": null,
      "overflow": null,
      "overflow_x": null,
      "overflow_y": null,
      "padding": null,
      "right": null,
      "top": null,
      "visibility": null,
      "width": null
     }
    }
   }
  }
 },
 "nbformat": 4,
 "nbformat_minor": 0
}
