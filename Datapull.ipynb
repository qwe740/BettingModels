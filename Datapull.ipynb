{
 "cells": [
  {
   "cell_type": "code",
   "execution_count": null,
   "metadata": {},
   "outputs": [],
   "source": [
    "import Datapull_Functions as DP\n",
    "\n",
    "# API Setup\n",
    "BASE_URL = 'https://api.collegefootballdata.com/'\n",
    "with open(\"API_KEY.txt\",\"r\") as file:\n",
    "    API_KEY = file.read()\n",
    "DB_PATH = \"cfb_data.db\""
   ]
  },
  {
   "cell_type": "code",
   "execution_count": null,
   "metadata": {},
   "outputs": [],
   "source": [
    "# Games Data Pull\n",
    "games_df = DP.pull_initial_games_data(BASE_URL, API_KEY)\n",
    "\n",
    "#Setup SQLite DB and save games data\n",
    "DP.setup_sqlite_database(games_df, DB_PATH)\n",
    "\n",
    "# Pull Lines Data\n",
    "lines_df = DP.pull_lines_data(BASE_URL, API_KEY)\n",
    "DP.save_lines_to_database(DB_PATH)\n",
    "\n",
    "# Average Betting Data\n",
    "DP.average_betting_data(DB_PATH)\n",
    "\n",
    "# Pull Advanced Stats\n",
    "advanced_stats_df = DP.pull_advanced_stats_data(BASE_URL, API_KEY)\n",
    "DP.save_advanced_stats_to_db(DB_PATH)\n",
    "\n",
    "# Merge Games and Advanced Stats\n",
    "DP.merge_games_and_advanced_stats(DB_PATH)\n",
    "\n",
    "# Pull Games/Teams Data\n",
    "teams_stats_df = DP.pull_games_teams_data(BASE_URL, API_KEY)\n",
    "DP.save_games_teams_data_to_db(DB_PATH)\n",
    "\n",
    "# Merge with Games_with_stats\n",
    "DP.merge_games_teams_data(DB_PATH)\n",
    "\n",
    "# Pull returning production data\n",
    "returning_df = DP.pull_returning_production_data(BASE_URL, API_KEY)\n",
    "DP.save_returning_production_data_to_db(DB_PATH)"
   ]
  }
 ],
 "metadata": {
  "colab": {
   "provenance": []
  },
  "kernelspec": {
   "display_name": "Python 3",
   "language": "python",
   "name": "python3"
  },
  "language_info": {
   "codemirror_mode": {
    "name": "ipython",
    "version": 3
   },
   "file_extension": ".py",
   "mimetype": "text/x-python",
   "name": "python",
   "nbconvert_exporter": "python",
   "pygments_lexer": "ipython3",
   "version": "3.11.13"
  }
 },
 "nbformat": 4,
 "nbformat_minor": 0
}
