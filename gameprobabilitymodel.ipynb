{
 "cells": [
  {
   "cell_type": "code",
   "execution_count": 1,
   "metadata": {},
   "outputs": [],
   "source": [
    "import nfl_data_py as nfl\n",
    "import pandas as pd\n",
    "import matplotlib.pyplot as plt\n",
    "import matplotlib.ticker as plticker\n",
    "import numpy as np\n",
    "\n",
    "plt.style.use('ggplot')\n",
    "\n",
    "pd.set_option('display.max_columns', 10)"
   ]
  },
  {
   "cell_type": "code",
   "execution_count": 2,
   "metadata": {},
   "outputs": [],
   "source": [
    "seasons = [year for year in range(1999, 2022)]"
   ]
  },
  {
   "cell_type": "code",
   "execution_count": 3,
   "metadata": {},
   "outputs": [
    {
     "name": "stdout",
     "output_type": "stream",
     "text": [
      "1999 done.\n",
      "2000 done.\n",
      "2001 done.\n",
      "2002 done.\n",
      "2003 done.\n",
      "2004 done.\n",
      "2005 done.\n",
      "2006 done.\n",
      "2007 done.\n",
      "2008 done.\n",
      "2009 done.\n",
      "2010 done.\n",
      "2011 done.\n",
      "2012 done.\n",
      "2013 done.\n",
      "2014 done.\n",
      "2015 done.\n",
      "2016 done.\n",
      "2017 done.\n",
      "2018 done.\n",
      "2019 done.\n",
      "2020 done.\n",
      "2021 done.\n",
      "Downcasting floats.\n"
     ]
    }
   ],
   "source": [
    "data = nfl.import_pbp_data(seasons)"
   ]
  },
  {
   "cell_type": "markdown",
   "metadata": {},
   "source": [
    "We will use exponentially weighted EPA for our features of the machine learning model. We will be doing a rolling average with a dynamic window. The way this works is that we will use a window size of 10 for games that are before week 10 of the season (so we will include games from the previous season). Then, after week 10, our window size will just be the entire current season. \n",
    "\n",
    "We will do 8 exponentially weighted rolling EPAs for our features. \n",
    "1. Home team passing offense EPA/play\n",
    "2. Home team passing defense EPA/play\n",
    "3. Home team rushing offense EPA/play\n",
    "4. Home team rushing defense EPA/play\n",
    "5-8: Same except away team"
   ]
  },
  {
   "cell_type": "code",
   "execution_count": 4,
   "metadata": {},
   "outputs": [
    {
     "data": {
      "text/html": [
       "<div>\n",
       "<style scoped>\n",
       "    .dataframe tbody tr th:only-of-type {\n",
       "        vertical-align: middle;\n",
       "    }\n",
       "\n",
       "    .dataframe tbody tr th {\n",
       "        vertical-align: top;\n",
       "    }\n",
       "\n",
       "    .dataframe thead th {\n",
       "        text-align: right;\n",
       "    }\n",
       "</style>\n",
       "<table border=\"1\" class=\"dataframe\">\n",
       "  <thead>\n",
       "    <tr style=\"text-align: right;\">\n",
       "      <th></th>\n",
       "      <th>play_id</th>\n",
       "      <th>game_id</th>\n",
       "      <th>old_game_id</th>\n",
       "      <th>home_team</th>\n",
       "      <th>away_team</th>\n",
       "      <th>...</th>\n",
       "      <th>time_to_throw</th>\n",
       "      <th>was_pressure</th>\n",
       "      <th>route</th>\n",
       "      <th>defense_man_zone_type</th>\n",
       "      <th>defense_coverage_type</th>\n",
       "    </tr>\n",
       "  </thead>\n",
       "  <tbody>\n",
       "    <tr>\n",
       "      <th>0</th>\n",
       "      <td>35.0</td>\n",
       "      <td>1999_01_ARI_PHI</td>\n",
       "      <td>1999091200</td>\n",
       "      <td>PHI</td>\n",
       "      <td>ARI</td>\n",
       "      <td>...</td>\n",
       "      <td>NaN</td>\n",
       "      <td>NaN</td>\n",
       "      <td>NaN</td>\n",
       "      <td>NaN</td>\n",
       "      <td>NaN</td>\n",
       "    </tr>\n",
       "    <tr>\n",
       "      <th>1</th>\n",
       "      <td>60.0</td>\n",
       "      <td>1999_01_ARI_PHI</td>\n",
       "      <td>1999091200</td>\n",
       "      <td>PHI</td>\n",
       "      <td>ARI</td>\n",
       "      <td>...</td>\n",
       "      <td>NaN</td>\n",
       "      <td>NaN</td>\n",
       "      <td>NaN</td>\n",
       "      <td>NaN</td>\n",
       "      <td>NaN</td>\n",
       "    </tr>\n",
       "    <tr>\n",
       "      <th>2</th>\n",
       "      <td>82.0</td>\n",
       "      <td>1999_01_ARI_PHI</td>\n",
       "      <td>1999091200</td>\n",
       "      <td>PHI</td>\n",
       "      <td>ARI</td>\n",
       "      <td>...</td>\n",
       "      <td>NaN</td>\n",
       "      <td>NaN</td>\n",
       "      <td>NaN</td>\n",
       "      <td>NaN</td>\n",
       "      <td>NaN</td>\n",
       "    </tr>\n",
       "    <tr>\n",
       "      <th>3</th>\n",
       "      <td>103.0</td>\n",
       "      <td>1999_01_ARI_PHI</td>\n",
       "      <td>1999091200</td>\n",
       "      <td>PHI</td>\n",
       "      <td>ARI</td>\n",
       "      <td>...</td>\n",
       "      <td>NaN</td>\n",
       "      <td>NaN</td>\n",
       "      <td>NaN</td>\n",
       "      <td>NaN</td>\n",
       "      <td>NaN</td>\n",
       "    </tr>\n",
       "    <tr>\n",
       "      <th>4</th>\n",
       "      <td>126.0</td>\n",
       "      <td>1999_01_ARI_PHI</td>\n",
       "      <td>1999091200</td>\n",
       "      <td>PHI</td>\n",
       "      <td>ARI</td>\n",
       "      <td>...</td>\n",
       "      <td>NaN</td>\n",
       "      <td>NaN</td>\n",
       "      <td>NaN</td>\n",
       "      <td>NaN</td>\n",
       "      <td>NaN</td>\n",
       "    </tr>\n",
       "  </tbody>\n",
       "</table>\n",
       "<p>5 rows × 392 columns</p>\n",
       "</div>"
      ],
      "text/plain": [
       "   play_id          game_id old_game_id home_team away_team  ...  \\\n",
       "0     35.0  1999_01_ARI_PHI  1999091200       PHI       ARI  ...   \n",
       "1     60.0  1999_01_ARI_PHI  1999091200       PHI       ARI  ...   \n",
       "2     82.0  1999_01_ARI_PHI  1999091200       PHI       ARI  ...   \n",
       "3    103.0  1999_01_ARI_PHI  1999091200       PHI       ARI  ...   \n",
       "4    126.0  1999_01_ARI_PHI  1999091200       PHI       ARI  ...   \n",
       "\n",
       "  time_to_throw  was_pressure route defense_man_zone_type  \\\n",
       "0           NaN           NaN   NaN                   NaN   \n",
       "1           NaN           NaN   NaN                   NaN   \n",
       "2           NaN           NaN   NaN                   NaN   \n",
       "3           NaN           NaN   NaN                   NaN   \n",
       "4           NaN           NaN   NaN                   NaN   \n",
       "\n",
       "  defense_coverage_type  \n",
       "0                   NaN  \n",
       "1                   NaN  \n",
       "2                   NaN  \n",
       "3                   NaN  \n",
       "4                   NaN  \n",
       "\n",
       "[5 rows x 392 columns]"
      ]
     },
     "execution_count": 4,
     "metadata": {},
     "output_type": "execute_result"
    }
   ],
   "source": [
    "data.head()"
   ]
  },
  {
   "cell_type": "code",
   "execution_count": 5,
   "metadata": {},
   "outputs": [],
   "source": [
    "\n",
    "def dynamic_window_ewma(x):\n",
    "    \"\"\"\n",
    "    Calculate rolling exponentially weighted EPA with a dynamic window size\n",
    "    \"\"\"\n",
    "    values = np.zeros(len(x))\n",
    "    for i, (_, row) in enumerate(x.iterrows()):\n",
    "        epa = x.epa_shifted[:i+1]\n",
    "        if row.week > 10:\n",
    "            values[i] = epa.ewm(min_periods=1, span=row.week).mean().values[-1]\n",
    "        else:\n",
    "            values[i] = epa.ewm(min_periods=1, span=10).mean().values[-1]\n",
    "            \n",
    "    return pd.Series(values, index=x.index)"
   ]
  },
  {
   "cell_type": "code",
   "execution_count": 6,
   "metadata": {},
   "outputs": [],
   "source": [
    "# seperate EPA in to rushing offense, rushing defense, passing offense, passing defense for each team\n",
    "rushing_offense_epa = data.loc[data['rush_attempt'] == 1, :].groupby(['posteam', 'season', 'week'], as_index=False)['epa'].mean()\n",
    "\n",
    "rushing_defense_epa = data.loc[data['rush_attempt'] == 1, :].groupby(['defteam', 'season', 'week'], as_index=False)['epa'].mean()\n",
    "\n",
    "passing_offense_epa = data.loc[data['pass_attempt'] == 1, :].groupby(['posteam', 'season', 'week'], as_index=False)['epa'].mean()\n",
    "\n",
    "passing_defense_epa = data.loc[data['pass_attempt'] == 1, :].groupby(['defteam', 'season', 'week'], as_index=False)['epa'].mean()"
   ]
  },
  {
   "cell_type": "code",
   "execution_count": 8,
   "metadata": {},
   "outputs": [],
   "source": [
    "rushing_offense_epa.to_clipboard()"
   ]
  },
  {
   "cell_type": "code",
   "execution_count": 9,
   "metadata": {},
   "outputs": [
    {
     "data": {
      "text/html": [
       "<div>\n",
       "<style scoped>\n",
       "    .dataframe tbody tr th:only-of-type {\n",
       "        vertical-align: middle;\n",
       "    }\n",
       "\n",
       "    .dataframe tbody tr th {\n",
       "        vertical-align: top;\n",
       "    }\n",
       "\n",
       "    .dataframe thead th {\n",
       "        text-align: right;\n",
       "    }\n",
       "</style>\n",
       "<table border=\"1\" class=\"dataframe\">\n",
       "  <thead>\n",
       "    <tr style=\"text-align: right;\">\n",
       "      <th></th>\n",
       "      <th>posteam</th>\n",
       "      <th>season</th>\n",
       "      <th>week</th>\n",
       "      <th>epa</th>\n",
       "      <th>epa_shifted</th>\n",
       "    </tr>\n",
       "  </thead>\n",
       "  <tbody>\n",
       "    <tr>\n",
       "      <th>0</th>\n",
       "      <td>ARI</td>\n",
       "      <td>1999</td>\n",
       "      <td>1</td>\n",
       "      <td>-0.279451</td>\n",
       "      <td>NaN</td>\n",
       "    </tr>\n",
       "    <tr>\n",
       "      <th>1</th>\n",
       "      <td>ARI</td>\n",
       "      <td>1999</td>\n",
       "      <td>2</td>\n",
       "      <td>-0.284510</td>\n",
       "      <td>-0.279451</td>\n",
       "    </tr>\n",
       "    <tr>\n",
       "      <th>2</th>\n",
       "      <td>ARI</td>\n",
       "      <td>1999</td>\n",
       "      <td>3</td>\n",
       "      <td>-0.050171</td>\n",
       "      <td>-0.284510</td>\n",
       "    </tr>\n",
       "    <tr>\n",
       "      <th>3</th>\n",
       "      <td>ARI</td>\n",
       "      <td>1999</td>\n",
       "      <td>4</td>\n",
       "      <td>-0.743253</td>\n",
       "      <td>-0.050171</td>\n",
       "    </tr>\n",
       "    <tr>\n",
       "      <th>4</th>\n",
       "      <td>ARI</td>\n",
       "      <td>1999</td>\n",
       "      <td>5</td>\n",
       "      <td>-0.340250</td>\n",
       "      <td>-0.743253</td>\n",
       "    </tr>\n",
       "    <tr>\n",
       "      <th>...</th>\n",
       "      <td>...</td>\n",
       "      <td>...</td>\n",
       "      <td>...</td>\n",
       "      <td>...</td>\n",
       "      <td>...</td>\n",
       "    </tr>\n",
       "    <tr>\n",
       "      <th>12263</th>\n",
       "      <td>WAS</td>\n",
       "      <td>2021</td>\n",
       "      <td>14</td>\n",
       "      <td>0.176988</td>\n",
       "      <td>-0.142624</td>\n",
       "    </tr>\n",
       "    <tr>\n",
       "      <th>12264</th>\n",
       "      <td>WAS</td>\n",
       "      <td>2021</td>\n",
       "      <td>15</td>\n",
       "      <td>-0.202773</td>\n",
       "      <td>0.176988</td>\n",
       "    </tr>\n",
       "    <tr>\n",
       "      <th>12265</th>\n",
       "      <td>WAS</td>\n",
       "      <td>2021</td>\n",
       "      <td>16</td>\n",
       "      <td>-0.047970</td>\n",
       "      <td>-0.202773</td>\n",
       "    </tr>\n",
       "    <tr>\n",
       "      <th>12266</th>\n",
       "      <td>WAS</td>\n",
       "      <td>2021</td>\n",
       "      <td>17</td>\n",
       "      <td>0.133991</td>\n",
       "      <td>-0.047970</td>\n",
       "    </tr>\n",
       "    <tr>\n",
       "      <th>12267</th>\n",
       "      <td>WAS</td>\n",
       "      <td>2021</td>\n",
       "      <td>18</td>\n",
       "      <td>0.179371</td>\n",
       "      <td>0.133991</td>\n",
       "    </tr>\n",
       "  </tbody>\n",
       "</table>\n",
       "<p>12268 rows × 5 columns</p>\n",
       "</div>"
      ],
      "text/plain": [
       "      posteam  season  week       epa  epa_shifted\n",
       "0         ARI    1999     1 -0.279451          NaN\n",
       "1         ARI    1999     2 -0.284510    -0.279451\n",
       "2         ARI    1999     3 -0.050171    -0.284510\n",
       "3         ARI    1999     4 -0.743253    -0.050171\n",
       "4         ARI    1999     5 -0.340250    -0.743253\n",
       "...       ...     ...   ...       ...          ...\n",
       "12263     WAS    2021    14  0.176988    -0.142624\n",
       "12264     WAS    2021    15 -0.202773     0.176988\n",
       "12265     WAS    2021    16 -0.047970    -0.202773\n",
       "12266     WAS    2021    17  0.133991    -0.047970\n",
       "12267     WAS    2021    18  0.179371     0.133991\n",
       "\n",
       "[12268 rows x 5 columns]"
      ]
     },
     "execution_count": 9,
     "metadata": {},
     "output_type": "execute_result"
    }
   ],
   "source": [
    "# lag EPA one period back\n",
    "rushing_offense_epa['epa_shifted'] = rushing_offense_epa.groupby('posteam')['epa'].shift()\n",
    "rushing_defense_epa['epa_shifted'] = rushing_defense_epa.groupby('defteam')['epa'].shift()\n",
    "passing_offense_epa['epa_shifted'] = passing_offense_epa.groupby('posteam')['epa'].shift()\n",
    "passing_defense_epa['epa_shifted'] = passing_defense_epa.groupby('defteam')['epa'].shift()\n",
    "\n",
    "#You can see that week 1 1999 epa becomes week 2 1999 epa for epa_shifted. I think we do this to simulate the timing of when we actually gain knowledge during an NFL season. \n",
    "rushing_offense_epa"
   ]
  },
  {
   "cell_type": "code",
   "execution_count": 10,
   "metadata": {},
   "outputs": [],
   "source": [
    "# In each case, calculate EWMA with a static window and dynamic window and assign it as a column \n",
    "rushing_offense_epa['ewma'] = rushing_offense_epa.groupby('posteam')['epa_shifted'].transform(lambda x: x.ewm(min_periods=1, span=10).mean())\n",
    "\n",
    "rushing_offense_epa['ewma_dynamic_window'] = rushing_offense_epa.groupby('posteam').apply(dynamic_window_ewma).values\n",
    "\n",
    "rushing_defense_epa['ewma'] = rushing_defense_epa.groupby('defteam')['epa_shifted'].transform(lambda x: x.ewm(min_periods=1, span=10).mean())\n",
    "\n",
    "rushing_defense_epa['ewma_dynamic_window'] = rushing_defense_epa.groupby('defteam').apply(dynamic_window_ewma).values\n",
    "\n",
    "passing_offense_epa['ewma'] = passing_offense_epa.groupby('posteam')['epa_shifted'].transform(lambda x: x.ewm(min_periods=1, span=10).mean())\n",
    "\n",
    "passing_offense_epa['ewma_dynamic_window'] = passing_offense_epa.groupby('posteam').apply(dynamic_window_ewma).values\n",
    "\n",
    "passing_defense_epa['ewma'] = passing_defense_epa.groupby('defteam')['epa_shifted'].transform(lambda x: x.ewm(min_periods=1, span=10).mean())\n",
    "\n",
    "passing_defense_epa['ewma_dynamic_window'] = passing_defense_epa.groupby('defteam').apply(dynamic_window_ewma).values\n"
   ]
  },
  {
   "cell_type": "code",
   "execution_count": 11,
   "metadata": {},
   "outputs": [
    {
     "data": {
      "text/html": [
       "<div>\n",
       "<style scoped>\n",
       "    .dataframe tbody tr th:only-of-type {\n",
       "        vertical-align: middle;\n",
       "    }\n",
       "\n",
       "    .dataframe tbody tr th {\n",
       "        vertical-align: top;\n",
       "    }\n",
       "\n",
       "    .dataframe thead th {\n",
       "        text-align: right;\n",
       "    }\n",
       "</style>\n",
       "<table border=\"1\" class=\"dataframe\">\n",
       "  <thead>\n",
       "    <tr style=\"text-align: right;\">\n",
       "      <th></th>\n",
       "      <th>defteam</th>\n",
       "      <th>season</th>\n",
       "      <th>week</th>\n",
       "      <th>epa</th>\n",
       "      <th>epa_shifted</th>\n",
       "      <th>ewma</th>\n",
       "      <th>ewma_dynamic_window</th>\n",
       "    </tr>\n",
       "  </thead>\n",
       "  <tbody>\n",
       "    <tr>\n",
       "      <th>0</th>\n",
       "      <td>ARI</td>\n",
       "      <td>1999</td>\n",
       "      <td>1</td>\n",
       "      <td>0.065022</td>\n",
       "      <td>NaN</td>\n",
       "      <td>NaN</td>\n",
       "      <td>NaN</td>\n",
       "    </tr>\n",
       "    <tr>\n",
       "      <th>1</th>\n",
       "      <td>ARI</td>\n",
       "      <td>1999</td>\n",
       "      <td>2</td>\n",
       "      <td>-0.260389</td>\n",
       "      <td>0.065022</td>\n",
       "      <td>0.065022</td>\n",
       "      <td>0.065022</td>\n",
       "    </tr>\n",
       "    <tr>\n",
       "      <th>2</th>\n",
       "      <td>ARI</td>\n",
       "      <td>1999</td>\n",
       "      <td>3</td>\n",
       "      <td>0.189739</td>\n",
       "      <td>-0.260389</td>\n",
       "      <td>-0.113954</td>\n",
       "      <td>-0.113954</td>\n",
       "    </tr>\n",
       "    <tr>\n",
       "      <th>3</th>\n",
       "      <td>ARI</td>\n",
       "      <td>1999</td>\n",
       "      <td>4</td>\n",
       "      <td>-0.259563</td>\n",
       "      <td>0.189739</td>\n",
       "      <td>0.008129</td>\n",
       "      <td>0.008129</td>\n",
       "    </tr>\n",
       "    <tr>\n",
       "      <th>4</th>\n",
       "      <td>ARI</td>\n",
       "      <td>1999</td>\n",
       "      <td>5</td>\n",
       "      <td>-0.368441</td>\n",
       "      <td>-0.259563</td>\n",
       "      <td>-0.080064</td>\n",
       "      <td>-0.080064</td>\n",
       "    </tr>\n",
       "  </tbody>\n",
       "</table>\n",
       "</div>"
      ],
      "text/plain": [
       "  defteam  season  week       epa  epa_shifted      ewma  ewma_dynamic_window\n",
       "0     ARI    1999     1  0.065022          NaN       NaN                  NaN\n",
       "1     ARI    1999     2 -0.260389     0.065022  0.065022             0.065022\n",
       "2     ARI    1999     3  0.189739    -0.260389 -0.113954            -0.113954\n",
       "3     ARI    1999     4 -0.259563     0.189739  0.008129             0.008129\n",
       "4     ARI    1999     5 -0.368441    -0.259563 -0.080064            -0.080064"
      ]
     },
     "execution_count": 11,
     "metadata": {},
     "output_type": "execute_result"
    }
   ],
   "source": [
    "rushing_defense_epa.head()"
   ]
  },
  {
   "cell_type": "code",
   "execution_count": 12,
   "metadata": {},
   "outputs": [],
   "source": [
    "#Merge all the data together\n",
    "offense_epa = rushing_offense_epa.merge(passing_offense_epa, on=['posteam', 'season', 'week'], suffixes=('_rushing', '_passing')).rename(columns={'posteam': 'team'})\n",
    "\n",
    "defense_epa = rushing_defense_epa.merge(passing_defense_epa, on=['defteam', 'season', 'week'], suffixes=('_rushing', '_passing')).rename(columns={'defteam': 'team'})\n",
    "\n",
    "epa = offense_epa.merge(defense_epa, on=['team', 'season', 'week'], suffixes=('_offense', '_defense'))"
   ]
  },
  {
   "cell_type": "code",
   "execution_count": 13,
   "metadata": {},
   "outputs": [
    {
     "data": {
      "text/html": [
       "<div>\n",
       "<style scoped>\n",
       "    .dataframe tbody tr th:only-of-type {\n",
       "        vertical-align: middle;\n",
       "    }\n",
       "\n",
       "    .dataframe tbody tr th {\n",
       "        vertical-align: top;\n",
       "    }\n",
       "\n",
       "    .dataframe thead th {\n",
       "        text-align: right;\n",
       "    }\n",
       "</style>\n",
       "<table border=\"1\" class=\"dataframe\">\n",
       "  <thead>\n",
       "    <tr style=\"text-align: right;\">\n",
       "      <th></th>\n",
       "      <th>team</th>\n",
       "      <th>season</th>\n",
       "      <th>week</th>\n",
       "      <th>epa_rushing</th>\n",
       "      <th>epa_shifted_rushing</th>\n",
       "      <th>...</th>\n",
       "      <th>ewma_dynamic_window_rushing</th>\n",
       "      <th>epa_passing</th>\n",
       "      <th>epa_shifted_passing</th>\n",
       "      <th>ewma_passing</th>\n",
       "      <th>ewma_dynamic_window_passing</th>\n",
       "    </tr>\n",
       "  </thead>\n",
       "  <tbody>\n",
       "    <tr>\n",
       "      <th>0</th>\n",
       "      <td>ARI</td>\n",
       "      <td>1999</td>\n",
       "      <td>1</td>\n",
       "      <td>-0.279451</td>\n",
       "      <td>NaN</td>\n",
       "      <td>...</td>\n",
       "      <td>NaN</td>\n",
       "      <td>-0.038225</td>\n",
       "      <td>NaN</td>\n",
       "      <td>NaN</td>\n",
       "      <td>NaN</td>\n",
       "    </tr>\n",
       "    <tr>\n",
       "      <th>1</th>\n",
       "      <td>ARI</td>\n",
       "      <td>1999</td>\n",
       "      <td>2</td>\n",
       "      <td>-0.284510</td>\n",
       "      <td>-0.279451</td>\n",
       "      <td>...</td>\n",
       "      <td>-0.279451</td>\n",
       "      <td>-0.547385</td>\n",
       "      <td>-0.038225</td>\n",
       "      <td>-0.038225</td>\n",
       "      <td>-0.038225</td>\n",
       "    </tr>\n",
       "    <tr>\n",
       "      <th>2</th>\n",
       "      <td>ARI</td>\n",
       "      <td>1999</td>\n",
       "      <td>3</td>\n",
       "      <td>-0.050171</td>\n",
       "      <td>-0.284510</td>\n",
       "      <td>...</td>\n",
       "      <td>-0.282233</td>\n",
       "      <td>-0.402781</td>\n",
       "      <td>-0.547385</td>\n",
       "      <td>-0.318263</td>\n",
       "      <td>-0.318263</td>\n",
       "    </tr>\n",
       "    <tr>\n",
       "      <th>3</th>\n",
       "      <td>ARI</td>\n",
       "      <td>1999</td>\n",
       "      <td>4</td>\n",
       "      <td>-0.743253</td>\n",
       "      <td>-0.050171</td>\n",
       "      <td>...</td>\n",
       "      <td>-0.188946</td>\n",
       "      <td>-0.349102</td>\n",
       "      <td>-0.402781</td>\n",
       "      <td>-0.352239</td>\n",
       "      <td>-0.352239</td>\n",
       "    </tr>\n",
       "    <tr>\n",
       "      <th>4</th>\n",
       "      <td>ARI</td>\n",
       "      <td>1999</td>\n",
       "      <td>5</td>\n",
       "      <td>-0.340250</td>\n",
       "      <td>-0.743253</td>\n",
       "      <td>...</td>\n",
       "      <td>-0.371565</td>\n",
       "      <td>0.066618</td>\n",
       "      <td>-0.349102</td>\n",
       "      <td>-0.351205</td>\n",
       "      <td>-0.351205</td>\n",
       "    </tr>\n",
       "  </tbody>\n",
       "</table>\n",
       "<p>5 rows × 11 columns</p>\n",
       "</div>"
      ],
      "text/plain": [
       "  team  season  week  epa_rushing  epa_shifted_rushing  ...  \\\n",
       "0  ARI    1999     1    -0.279451                  NaN  ...   \n",
       "1  ARI    1999     2    -0.284510            -0.279451  ...   \n",
       "2  ARI    1999     3    -0.050171            -0.284510  ...   \n",
       "3  ARI    1999     4    -0.743253            -0.050171  ...   \n",
       "4  ARI    1999     5    -0.340250            -0.743253  ...   \n",
       "\n",
       "   ewma_dynamic_window_rushing  epa_passing  epa_shifted_passing  \\\n",
       "0                          NaN    -0.038225                  NaN   \n",
       "1                    -0.279451    -0.547385            -0.038225   \n",
       "2                    -0.282233    -0.402781            -0.547385   \n",
       "3                    -0.188946    -0.349102            -0.402781   \n",
       "4                    -0.371565     0.066618            -0.349102   \n",
       "\n",
       "   ewma_passing  ewma_dynamic_window_passing  \n",
       "0           NaN                          NaN  \n",
       "1     -0.038225                    -0.038225  \n",
       "2     -0.318263                    -0.318263  \n",
       "3     -0.352239                    -0.352239  \n",
       "4     -0.351205                    -0.351205  \n",
       "\n",
       "[5 rows x 11 columns]"
      ]
     },
     "execution_count": 13,
     "metadata": {},
     "output_type": "execute_result"
    }
   ],
   "source": [
    "offense_epa.head()"
   ]
  },
  {
   "cell_type": "code",
   "execution_count": 14,
   "metadata": {},
   "outputs": [],
   "source": [
    "#remove the first season of data\n",
    "epa = epa.loc[epa['season'] != epa['season'].unique()[0], :]\n",
    "\n",
    "epa = epa.reset_index(drop=True)"
   ]
  },
  {
   "cell_type": "code",
   "execution_count": 15,
   "metadata": {},
   "outputs": [
    {
     "data": {
      "text/html": [
       "<div>\n",
       "<style scoped>\n",
       "    .dataframe tbody tr th:only-of-type {\n",
       "        vertical-align: middle;\n",
       "    }\n",
       "\n",
       "    .dataframe tbody tr th {\n",
       "        vertical-align: top;\n",
       "    }\n",
       "\n",
       "    .dataframe thead th {\n",
       "        text-align: right;\n",
       "    }\n",
       "</style>\n",
       "<table border=\"1\" class=\"dataframe\">\n",
       "  <thead>\n",
       "    <tr style=\"text-align: right;\">\n",
       "      <th></th>\n",
       "      <th>team</th>\n",
       "      <th>season</th>\n",
       "      <th>week</th>\n",
       "      <th>epa_rushing_offense</th>\n",
       "      <th>epa_shifted_rushing_offense</th>\n",
       "      <th>...</th>\n",
       "      <th>ewma_dynamic_window_rushing_defense</th>\n",
       "      <th>epa_passing_defense</th>\n",
       "      <th>epa_shifted_passing_defense</th>\n",
       "      <th>ewma_passing_defense</th>\n",
       "      <th>ewma_dynamic_window_passing_defense</th>\n",
       "    </tr>\n",
       "  </thead>\n",
       "  <tbody>\n",
       "    <tr>\n",
       "      <th>0</th>\n",
       "      <td>ARI</td>\n",
       "      <td>2000</td>\n",
       "      <td>1</td>\n",
       "      <td>-0.345669</td>\n",
       "      <td>-0.068545</td>\n",
       "      <td>...</td>\n",
       "      <td>0.086016</td>\n",
       "      <td>-0.009200</td>\n",
       "      <td>0.269840</td>\n",
       "      <td>0.115978</td>\n",
       "      <td>0.115978</td>\n",
       "    </tr>\n",
       "    <tr>\n",
       "      <th>1</th>\n",
       "      <td>ARI</td>\n",
       "      <td>2000</td>\n",
       "      <td>2</td>\n",
       "      <td>-0.276743</td>\n",
       "      <td>-0.345669</td>\n",
       "      <td>...</td>\n",
       "      <td>0.101092</td>\n",
       "      <td>0.283460</td>\n",
       "      <td>-0.009200</td>\n",
       "      <td>0.092441</td>\n",
       "      <td>0.092441</td>\n",
       "    </tr>\n",
       "    <tr>\n",
       "      <th>2</th>\n",
       "      <td>ARI</td>\n",
       "      <td>2000</td>\n",
       "      <td>4</td>\n",
       "      <td>-0.334533</td>\n",
       "      <td>-0.276743</td>\n",
       "      <td>...</td>\n",
       "      <td>0.069872</td>\n",
       "      <td>0.500345</td>\n",
       "      <td>0.283460</td>\n",
       "      <td>0.128136</td>\n",
       "      <td>0.128136</td>\n",
       "    </tr>\n",
       "    <tr>\n",
       "      <th>3</th>\n",
       "      <td>ARI</td>\n",
       "      <td>2000</td>\n",
       "      <td>5</td>\n",
       "      <td>-0.016838</td>\n",
       "      <td>-0.334533</td>\n",
       "      <td>...</td>\n",
       "      <td>0.053437</td>\n",
       "      <td>0.058499</td>\n",
       "      <td>0.500345</td>\n",
       "      <td>0.197339</td>\n",
       "      <td>0.197339</td>\n",
       "    </tr>\n",
       "    <tr>\n",
       "      <th>4</th>\n",
       "      <td>ARI</td>\n",
       "      <td>2000</td>\n",
       "      <td>6</td>\n",
       "      <td>-0.038473</td>\n",
       "      <td>-0.016838</td>\n",
       "      <td>...</td>\n",
       "      <td>0.044399</td>\n",
       "      <td>-0.063633</td>\n",
       "      <td>0.058499</td>\n",
       "      <td>0.171631</td>\n",
       "      <td>0.171631</td>\n",
       "    </tr>\n",
       "  </tbody>\n",
       "</table>\n",
       "<p>5 rows × 19 columns</p>\n",
       "</div>"
      ],
      "text/plain": [
       "  team  season  week  epa_rushing_offense  epa_shifted_rushing_offense  ...  \\\n",
       "0  ARI    2000     1            -0.345669                    -0.068545  ...   \n",
       "1  ARI    2000     2            -0.276743                    -0.345669  ...   \n",
       "2  ARI    2000     4            -0.334533                    -0.276743  ...   \n",
       "3  ARI    2000     5            -0.016838                    -0.334533  ...   \n",
       "4  ARI    2000     6            -0.038473                    -0.016838  ...   \n",
       "\n",
       "   ewma_dynamic_window_rushing_defense  epa_passing_defense  \\\n",
       "0                             0.086016            -0.009200   \n",
       "1                             0.101092             0.283460   \n",
       "2                             0.069872             0.500345   \n",
       "3                             0.053437             0.058499   \n",
       "4                             0.044399            -0.063633   \n",
       "\n",
       "   epa_shifted_passing_defense  ewma_passing_defense  \\\n",
       "0                     0.269840              0.115978   \n",
       "1                    -0.009200              0.092441   \n",
       "2                     0.283460              0.128136   \n",
       "3                     0.500345              0.197339   \n",
       "4                     0.058499              0.171631   \n",
       "\n",
       "   ewma_dynamic_window_passing_defense  \n",
       "0                             0.115978  \n",
       "1                             0.092441  \n",
       "2                             0.128136  \n",
       "3                             0.197339  \n",
       "4                             0.171631  \n",
       "\n",
       "[5 rows x 19 columns]"
      ]
     },
     "execution_count": 15,
     "metadata": {},
     "output_type": "execute_result"
    }
   ],
   "source": [
    "#Here is our dataframe with our features.  \n",
    "epa.head()"
   ]
  },
  {
   "cell_type": "code",
   "execution_count": 16,
   "metadata": {},
   "outputs": [
    {
     "data": {
      "image/png": "[encoded data removed]",
      "text/plain": [
       "<Figure size 640x480 with 1 Axes>"
      ]
     },
     "metadata": {},
     "output_type": "display_data"
    }
   ],
   "source": [
    "#Here is a look at how our non-moving average epa, EWMA with static window, and EWMA with dynamic window all stack up\n",
    "tm = epa.loc[epa['team'] == 'DEN', :].assign(\n",
    "    season_week = lambda x: 'w' + x.week.astype(str) + ' (' + x.season.astype(str) + ')'\n",
    ").set_index('season_week')\n",
    "\n",
    "fig, ax = plt.subplots()\n",
    "\n",
    "loc = plticker.MultipleLocator(base=16) # this locator puts ticks at regular intervals\n",
    "ax.xaxis.set_major_locator(loc)\n",
    "ax.tick_params(axis='x', rotation=75) #rotate the x-axis labels a bit\n",
    "\n",
    "ax.plot(tm['epa_shifted_passing_offense'], lw=1, alpha=0.5)\n",
    "ax.plot(tm['ewma_dynamic_window_passing_offense'], lw=2)\n",
    "ax.plot(tm['ewma_passing_offense'], lw=2);\n",
    "plt.axhline(y=0, color='red', lw=1.5, alpha=0.5)\n",
    "\n",
    "ax.legend(['Passing EPA', 'EWMA on EPA with dynamic window', 'Static 10 EWMA on EPA'])\n",
    "ax.set_title('DEN Passing EPA per play')\n",
    "plt.show();"
   ]
  },
  {
   "cell_type": "code",
   "execution_count": 28,
   "metadata": {},
   "outputs": [
    {
     "name": "stdout",
     "output_type": "stream",
     "text": [
      "0.6177045973263776\n"
     ]
    }
   ],
   "source": [
    "#Now we want to merge in game result data to get our target value.\n",
    "schedule = data[['season', 'week', 'home_team', 'away_team', 'home_score', 'away_score','spread_line']].drop_duplicates().reset_index(drop=True).assign(home_team_win = lambda x: (x.home_score > x.away_score).astype(int))\n",
    "\n",
    "def iscover(x):\n",
    "    dif = x.away_score - x.home_score\n",
    "    line = x.spread_line\n",
    "    if dif <= line:\n",
    "        return 1\n",
    "    else:\n",
    "        return 0\n",
    "\n",
    "schedule['home_team_cover'] = schedule.apply(iscover,axis=1)\n",
    "\n",
    "print(schedule.home_team_cover.mean())\n",
    "\n",
    "df = schedule.merge(epa.rename(columns={'team': 'home_team'}), on=['home_team', 'season', 'week']).merge(epa.rename(columns={'team': 'away_team'}), on=['away_team', 'season', 'week'], suffixes=('_home', '_away'))"
   ]
  },
  {
   "cell_type": "code",
   "execution_count": 18,
   "metadata": {},
   "outputs": [
    {
     "data": {
      "text/plain": [
       "Index(['season', 'week', 'home_team', 'away_team', 'home_score', 'away_score',\n",
       "       'spread_line', 'home_team_win', 'home_team_cover',\n",
       "       'epa_rushing_offense_home', 'epa_shifted_rushing_offense_home',\n",
       "       'ewma_rushing_offense_home', 'ewma_dynamic_window_rushing_offense_home',\n",
       "       'epa_passing_offense_home', 'epa_shifted_passing_offense_home',\n",
       "       'ewma_passing_offense_home', 'ewma_dynamic_window_passing_offense_home',\n",
       "       'epa_rushing_defense_home', 'epa_shifted_rushing_defense_home',\n",
       "       'ewma_rushing_defense_home', 'ewma_dynamic_window_rushing_defense_home',\n",
       "       'epa_passing_defense_home', 'epa_shifted_passing_defense_home',\n",
       "       'ewma_passing_defense_home', 'ewma_dynamic_window_passing_defense_home',\n",
       "       'epa_rushing_offense_away', 'epa_shifted_rushing_offense_away',\n",
       "       'ewma_rushing_offense_away', 'ewma_dynamic_window_rushing_offense_away',\n",
       "       'epa_passing_offense_away', 'epa_shifted_passing_offense_away',\n",
       "       'ewma_passing_offense_away', 'ewma_dynamic_window_passing_offense_away',\n",
       "       'epa_rushing_defense_away', 'epa_shifted_rushing_defense_away',\n",
       "       'ewma_rushing_defense_away', 'ewma_dynamic_window_rushing_defense_away',\n",
       "       'epa_passing_defense_away', 'epa_shifted_passing_defense_away',\n",
       "       'ewma_passing_defense_away',\n",
       "       'ewma_dynamic_window_passing_defense_away'],\n",
       "      dtype='object')"
      ]
     },
     "execution_count": 18,
     "metadata": {},
     "output_type": "execute_result"
    }
   ],
   "source": [
    "df.columns"
   ]
  },
  {
   "cell_type": "code",
   "execution_count": 29,
   "metadata": {},
   "outputs": [
    {
     "name": "stdout",
     "output_type": "stream",
     "text": [
      "ewma_dynamic_window_rushing_offense_home\n",
      "ewma_dynamic_window_passing_offense_home\n",
      "ewma_dynamic_window_rushing_defense_home\n",
      "ewma_dynamic_window_passing_defense_home\n",
      "ewma_dynamic_window_rushing_offense_away\n",
      "ewma_dynamic_window_passing_offense_away\n",
      "ewma_dynamic_window_rushing_defense_away\n",
      "ewma_dynamic_window_passing_defense_away\n"
     ]
    }
   ],
   "source": [
    "target = 'home_team_cover'\n",
    "features = [column for column in df.columns if 'ewma' in column and 'dynamic' in column]\n",
    "for feature in features:\n",
    "  print(feature)"
   ]
  },
  {
   "cell_type": "code",
   "execution_count": 30,
   "metadata": {},
   "outputs": [
    {
     "data": {
      "text/plain": [
       "LogisticRegression()"
      ]
     },
     "execution_count": 30,
     "metadata": {},
     "output_type": "execute_result"
    }
   ],
   "source": [
    "#Drop nas, get our features and target values, instantiate logistic regression model, and train model\n",
    "df = df.dropna()\n",
    "\n",
    "X = df.loc[df['season'] != 2020, features].values\n",
    "y = df.loc[df['season'] != 2020, target].values\n",
    "\n",
    "from sklearn.model_selection import cross_val_score\n",
    "from sklearn.linear_model import LogisticRegression\n",
    "\n",
    "clf = LogisticRegression()\n",
    "clf.fit(X,y)"
   ]
  },
  {
   "cell_type": "code",
   "execution_count": 31,
   "metadata": {},
   "outputs": [
    {
     "name": "stdout",
     "output_type": "stream",
     "text": [
      "Model Accuracy: 0.72511427298192\n",
      "Neg log loss: -0.548978989845705\n"
     ]
    }
   ],
   "source": [
    "#\n",
    "accuracy_scores = cross_val_score(clf, X, y, cv=10)\n",
    "log_losses = cross_val_score(clf, X, y, cv=10, scoring='neg_log_loss')\n",
    "\n",
    "print('Model Accuracy:', np.mean(accuracy_scores))\n",
    "print('Neg log loss:', np.mean(log_losses))"
   ]
  },
  {
   "cell_type": "code",
   "execution_count": 32,
   "metadata": {},
   "outputs": [
    {
     "data": {
      "image/png": "[encoded data removed]",
      "text/plain": [
       "<Figure size 640x480 with 1 Axes>"
      ]
     },
     "metadata": {},
     "output_type": "display_data"
    }
   ],
   "source": [
    "fig, ax = plt.subplots()\n",
    "\n",
    "feature_names = ['_'.join(feature_name.split('_')[3:]) for feature_name in features]\n",
    "\n",
    "coef_ = clf.coef_[0]\n",
    "\n",
    "features_coef_sorted = sorted(zip(feature_names, coef_), key=lambda x:x[-1], reverse=True)\n",
    "\n",
    "features_sorted = [feature for feature, _ in features_coef_sorted]\n",
    "coef_sorted = [coef for _, coef in features_coef_sorted]\n",
    "\n",
    "ax.set_title('Feature importance')\n",
    "\n",
    "ax.barh(features_sorted, coef_sorted);\n",
    "plt.show();"
   ]
  },
  {
   "cell_type": "code",
   "execution_count": 23,
   "metadata": {},
   "outputs": [
    {
     "name": "stderr",
     "output_type": "stream",
     "text": [
      "c:\\Users\\austi\\Anaconda3\\lib\\site-packages\\sklearn\\base.py:438: UserWarning: X has feature names, but LogisticRegression was fitted without feature names\n",
      "  warnings.warn(\n",
      "c:\\Users\\austi\\Anaconda3\\lib\\site-packages\\sklearn\\base.py:438: UserWarning: X has feature names, but LogisticRegression was fitted without feature names\n",
      "  warnings.warn(\n"
     ]
    }
   ],
   "source": [
    "# We didn't train with 2020 data, so let's see how it predicts games\n",
    "df_2020 = df.loc[(df['season'] == 2020)].assign(\n",
    "    predicted_cover = lambda x: clf.predict(x[features]),\n",
    "    home_team_cover_probability = lambda x: clf.predict_proba(x[features])[:, 1]\n",
    ")#[['home_team', 'away_team', 'week', 'predicted_cover', 'home_team_cover_probability', 'home_team_cover']]\n",
    "\n",
    "df_2020['actual_cover'] = df_2020.apply(lambda x: x.home_team if x.home_team_cover else x.away_team, axis=1)\n",
    "df_2020['predicted_cover'] = df_2020.apply(lambda x: x.home_team if x.predicted_cover == 1 else x.away_team, axis=1)\n",
    "df_2020['cover_probability'] = df_2020.apply(lambda x: x.home_team_cover_probability if x.predicted_cover == x.home_team else 1 - x.home_team_cover_probability, axis=1)\n",
    "df_2020['correct_prediction'] = (df_2020['predicted_cover'] == df_2020['actual_cover']).astype(int)\n",
    "\n",
    "df_2020 = df_2020.drop(columns=['home_team_cover_probability', 'home_team_cover'])\n",
    "\n",
    "df_2020['bothTeams'] = df_2020.apply(lambda x: x.home_team+x.away_team, axis=1)\n",
    "dalwk17 = df_2020[['DAL' in i for i in df_2020['bothTeams'].values]][features].iloc[15,:]\n",
    "tbsb = df_2020[['TB' in i for i in df_2020['bothTeams'].values]][features].iloc[20,:]"
   ]
  },
  {
   "cell_type": "code",
   "execution_count": 24,
   "metadata": {},
   "outputs": [
    {
     "data": {
      "text/plain": [
       "Index(['season', 'week', 'home_team', 'away_team', 'home_score', 'away_score',\n",
       "       'spread_line', 'home_team_win', 'home_team_cover',\n",
       "       'epa_rushing_offense_home', 'epa_shifted_rushing_offense_home',\n",
       "       'ewma_rushing_offense_home', 'ewma_dynamic_window_rushing_offense_home',\n",
       "       'epa_passing_offense_home', 'epa_shifted_passing_offense_home',\n",
       "       'ewma_passing_offense_home', 'ewma_dynamic_window_passing_offense_home',\n",
       "       'epa_rushing_defense_home', 'epa_shifted_rushing_defense_home',\n",
       "       'ewma_rushing_defense_home', 'ewma_dynamic_window_rushing_defense_home',\n",
       "       'epa_passing_defense_home', 'epa_shifted_passing_defense_home',\n",
       "       'ewma_passing_defense_home', 'ewma_dynamic_window_passing_defense_home',\n",
       "       'epa_rushing_offense_away', 'epa_shifted_rushing_offense_away',\n",
       "       'ewma_rushing_offense_away', 'ewma_dynamic_window_rushing_offense_away',\n",
       "       'epa_passing_offense_away', 'epa_shifted_passing_offense_away',\n",
       "       'ewma_passing_offense_away', 'ewma_dynamic_window_passing_offense_away',\n",
       "       'epa_rushing_defense_away', 'epa_shifted_rushing_defense_away',\n",
       "       'ewma_rushing_defense_away', 'ewma_dynamic_window_rushing_defense_away',\n",
       "       'epa_passing_defense_away', 'epa_shifted_passing_defense_away',\n",
       "       'ewma_passing_defense_away',\n",
       "       'ewma_dynamic_window_passing_defense_away'],\n",
       "      dtype='object')"
      ]
     },
     "execution_count": 24,
     "metadata": {},
     "output_type": "execute_result"
    }
   ],
   "source": [
    "df.loc[(df['season']==2020)].columns"
   ]
  },
  {
   "cell_type": "code",
   "execution_count": 25,
   "metadata": {},
   "outputs": [
    {
     "data": {
      "text/plain": [
       "0.7509293680297398"
      ]
     },
     "execution_count": 25,
     "metadata": {},
     "output_type": "execute_result"
    }
   ],
   "source": [
    "df_2020.correct_prediction.mean()"
   ]
  },
  {
   "cell_type": "code",
   "execution_count": 26,
   "metadata": {},
   "outputs": [
    {
     "data": {
      "text/plain": [
       "ewma_dynamic_window_rushing_offense_home   -0.039383\n",
       "ewma_dynamic_window_passing_offense_home   -0.083244\n",
       "ewma_dynamic_window_rushing_defense_home   -0.060342\n",
       "ewma_dynamic_window_passing_defense_home    0.122163\n",
       "ewma_dynamic_window_rushing_offense_away   -0.062578\n",
       "ewma_dynamic_window_passing_offense_away    0.034105\n",
       "ewma_dynamic_window_rushing_defense_away   -0.041390\n",
       "ewma_dynamic_window_passing_defense_away    0.019322\n",
       "Name: 5565, dtype: float64"
      ]
     },
     "execution_count": 26,
     "metadata": {},
     "output_type": "execute_result"
    }
   ],
   "source": [
    "dalwk17"
   ]
  },
  {
   "cell_type": "code",
   "execution_count": 27,
   "metadata": {},
   "outputs": [
    {
     "name": "stdout",
     "output_type": "stream",
     "text": [
      "1\n"
     ]
    },
    {
     "data": {
      "text/plain": [
       "0.15188624075491064"
      ]
     },
     "execution_count": 27,
     "metadata": {},
     "output_type": "execute_result"
    }
   ],
   "source": [
    "cowboysbucs = tbsb[:4].values.tolist()+dalwk17[4:].values.tolist()\n",
    "gamedict = {feature:cowboysbucs[i] for i,feature in enumerate(features)}\n",
    "cowboysbucs = np.array(cowboysbucs).reshape(1,-1)\n",
    "print(clf.predict(cowboysbucs)[0])\n",
    "clf.predict_proba(cowboysbucs)[0][0]\n"
   ]
  },
  {
   "cell_type": "code",
   "execution_count": null,
   "metadata": {},
   "outputs": [],
   "source": []
  }
 ],
 "metadata": {
  "kaggle": {
   "accelerator": "none",
   "dataSources": [],
   "isGpuEnabled": false,
   "isInternetEnabled": true,
   "language": "python",
   "sourceType": "notebook"
  },
  "kernelspec": {
   "display_name": "base",
   "language": "python",
   "name": "python3"
  },
  "language_info": {
   "codemirror_mode": {
    "name": "ipython",
    "version": 3
   },
   "file_extension": ".py",
   "mimetype": "text/x-python",
   "name": "python",
   "nbconvert_exporter": "python",
   "pygments_lexer": "ipython3",
   "version": "3.8.5"
  }
 },
 "nbformat": 4,
 "nbformat_minor": 4
}
