{
 "cells": [
  {
   "cell_type": "markdown",
   "metadata": {},
   "source": [
    "### Import packages, setup API config"
   ]
  },
  {
   "cell_type": "code",
   "execution_count": 2,
   "metadata": {
    "trusted": true
   },
   "outputs": [],
   "source": [
    "#Main Imports\n",
    "import sqlite3\n",
    "import pandas as pd\n",
    "import matplotlib.pyplot as plt\n",
    "import matplotlib.ticker as plticker\n",
    "import numpy as np\n",
    "import requests\n",
    "plt.style.use('ggplot')"
   ]
  },
  {
   "cell_type": "markdown",
   "metadata": {},
   "source": [
    "#### CFBD API Base Data"
   ]
  },
  {
   "cell_type": "code",
   "execution_count": null,
   "metadata": {},
   "outputs": [],
   "source": [
    "baseurl = \"https://api.collegefootballdata.com/\"\n",
    "headers = {\n",
    "    \"Authorization\" : \"BEARER Y2P4Ex6vaj/fPBURQsf2jz+0R2pXikYv8PtvqoqiMG7ukTvpVscCVjUA10VDv+My\"\n",
    "}"
   ]
  },
  {
   "cell_type": "markdown",
   "metadata": {},
   "source": [
    "#### Get Game Data"
   ]
  },
  {
   "cell_type": "code",
   "execution_count": null,
   "metadata": {},
   "outputs": [],
   "source": [
    "years = list(range(2005,2025))\n",
    "weeks = list(range(1,17))"
   ]
  },
  {
   "cell_type": "markdown",
   "metadata": {},
   "source": [
    "### Load In Plays Data"
   ]
  },
  {
   "cell_type": "code",
   "execution_count": 4,
   "metadata": {},
   "outputs": [],
   "source": [
    "conn = sqlite3.connect('cfb_data.db')\n",
    "query = \"SELECT * FROM plays\"\n",
    "playsdf = pd.read_sql_query(query,conn)\n",
    "conn.close()"
   ]
  },
  {
   "cell_type": "code",
   "execution_count": 34,
   "metadata": {},
   "outputs": [
    {
     "data": {
      "text/plain": [
       "array(['Rush', 'Pass', 'Penalty', 'Punt', 'Extra Point Good', 'Kickoff',\n",
       "       'Timeout', 'Field Goal Good', 'Field Goal Missed',\n",
       "       'Extra Point Missed', 'End Period', 'Safety', 'End of Half',\n",
       "       'Pass Incompletion', 'Pass Completion', 'Pass Interception',\n",
       "       'Uncategorized', 'Sack', 'Fumble Return Touchdown',\n",
       "       'Punt Return Touchdown', '2pt Conversion',\n",
       "       'Kickoff Return (Offense)', 'Pass Reception',\n",
       "       'Fumble Recovery (Opponent)', 'Fumble Recovery (Own)',\n",
       "       'Passing Touchdown', 'Pass Interception Return',\n",
       "       'Rushing Touchdown', 'End of Game', 'Blocked Field Goal',\n",
       "       'Kickoff Return Touchdown', 'Interception Return Touchdown',\n",
       "       'Blocked Punt', 'Blocked Field Goal Touchdown',\n",
       "       'Defensive 2pt Conversion', 'Blocked Punt Touchdown',\n",
       "       'Missed Field Goal Return', 'Interception',\n",
       "       'Missed Field Goal Return Touchdown', 'placeholder',\n",
       "       'Two Point Rush', 'End of Regulation', 'Two Point Pass'],\n",
       "      dtype=object)"
      ]
     },
     "execution_count": 34,
     "metadata": {},
     "output_type": "execute_result"
    }
   ],
   "source": [
    "playsdf.play_type.unique()"
   ]
  },
  {
   "cell_type": "code",
   "execution_count": 35,
   "metadata": {},
   "outputs": [],
   "source": [
    "run_plays = ['Rush', 'Rushing Touchdown','Two Point Rush']\n",
    "pass_plays = ['Pass', 'Pass Incompletion','Pass Completion','Pass Interception','Sack','Pass Reception','Passing Touchdown','Pass Interception Return','Interception Return Touchdown','Interception','Two Point Pass']\n",
    "need_to_split_defaultrun = ['Fumble Return Touchdown','Fumble Recovery (Opponent)','Fumble Recovery (Own)']\n",
    "need_to_split_defaultpass = ['Safety']"
   ]
  },
  {
   "cell_type": "code",
   "execution_count": 45,
   "metadata": {},
   "outputs": [],
   "source": [
    "def run_pass(row):\n",
    "    if row.play_type in run_plays:\n",
    "        play_type_simple = \"Rush\"\n",
    "    elif row.play_type in pass_plays:\n",
    "        play_type_simple = \"Pass\"\n",
    "    elif row.play_type in need_to_split_defaultrun:\n",
    "        if 'pass' or 'interception' or 'sack' in row.play_text.lower():\n",
    "            play_type_simple = \"Pass\"\n",
    "        else:\n",
    "            play_type_simple = 'Rush'\n",
    "    elif row.play_type in need_to_split_defaultpass:\n",
    "        if 'run' or 'rush' in row.play_text.lower():\n",
    "            play_type_simple = \"Rush\"\n",
    "        else:\n",
    "            play_type_simple = 'Pass'\n",
    "    else:\n",
    "        play_type_simple = 'Other'\n",
    "    return play_type_simple\n",
    "playsdf['play_type_simple'] = playsdf.apply(run_pass,axis=1)"
   ]
  },
  {
   "cell_type": "code",
   "execution_count": 49,
   "metadata": {},
   "outputs": [],
   "source": [
    "conn = sqlite3.connect('cfb_data.db')\n",
    "playsdf.to_sql('plays',conn,if_exists='replace',index=False)\n",
    "conn.close()"
   ]
  },
  {
   "cell_type": "code",
   "execution_count": 46,
   "metadata": {},
   "outputs": [
    {
     "data": {
      "text/plain": [
       "['Rush', 'Pass', 'Other']"
      ]
     },
     "execution_count": 46,
     "metadata": {},
     "output_type": "execute_result"
    }
   ],
   "source": [
    "list(playsdf.play_type_simple.unique())"
   ]
  },
  {
   "cell_type": "code",
   "execution_count": null,
   "metadata": {},
   "outputs": [],
   "source": []
  }
 ],
 "metadata": {
  "kaggle": {
   "accelerator": "none",
   "dataSources": [
    {
     "datasetId": 6128162,
     "sourceId": 9962557,
     "sourceType": "datasetVersion"
    }
   ],
   "dockerImageVersionId": 30786,
   "isGpuEnabled": false,
   "isInternetEnabled": true,
   "language": "python",
   "sourceType": "notebook"
  },
  "kernelspec": {
   "display_name": "base",
   "language": "python",
   "name": "python3"
  },
  "language_info": {
   "codemirror_mode": {
    "name": "ipython",
    "version": 3
   },
   "file_extension": ".py",
   "mimetype": "text/x-python",
   "name": "python",
   "nbconvert_exporter": "python",
   "pygments_lexer": "ipython3",
   "version": "3.8.5"
  }
 },
 "nbformat": 4,
 "nbformat_minor": 4
}
